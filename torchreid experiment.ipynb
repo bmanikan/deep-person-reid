{
 "cells": [
  {
   "cell_type": "code",
   "execution_count": 1,
   "id": "aed01835",
   "metadata": {},
   "outputs": [
    {
     "name": "stderr",
     "output_type": "stream",
     "text": [
      "Failed to detect the name of this notebook, you can set it manually with the WANDB_NOTEBOOK_NAME environment variable to enable code saving.\n",
      "\u001b[34m\u001b[1mwandb\u001b[0m: Currently logged in as: \u001b[33mbalamanikandan\u001b[0m (\u001b[33mtangoeye\u001b[0m). Use \u001b[1m`wandb login --relogin`\u001b[0m to force relogin\n"
     ]
    },
    {
     "data": {
      "text/html": [
       "wandb version 0.17.1 is available!  To upgrade, please run:\n",
       " $ pip install wandb --upgrade"
      ],
      "text/plain": [
       "<IPython.core.display.HTML object>"
      ]
     },
     "metadata": {},
     "output_type": "display_data"
    },
    {
     "data": {
      "text/html": [
       "Tracking run with wandb version 0.17.0"
      ],
      "text/plain": [
       "<IPython.core.display.HTML object>"
      ]
     },
     "metadata": {},
     "output_type": "display_data"
    },
    {
     "data": {
      "text/html": [
       "Run data is saved locally in <code>/home/trewq/Desktop/Projects/RetailAnalytics/REID/RESEARCH/deep-person-reid/wandb/run-20240609_184507-dttiyv12</code>"
      ],
      "text/plain": [
       "<IPython.core.display.HTML object>"
      ]
     },
     "metadata": {},
     "output_type": "display_data"
    },
    {
     "data": {
      "text/html": [
       "Syncing run <strong><a href='https://wandb.ai/tangoeye/REID-V3/runs/dttiyv12' target=\"_blank\">bright-sun-16</a></strong> to <a href='https://wandb.ai/tangoeye/REID-V3' target=\"_blank\">Weights & Biases</a> (<a href='https://wandb.me/run' target=\"_blank\">docs</a>)<br/>"
      ],
      "text/plain": [
       "<IPython.core.display.HTML object>"
      ]
     },
     "metadata": {},
     "output_type": "display_data"
    },
    {
     "data": {
      "text/html": [
       " View project at <a href='https://wandb.ai/tangoeye/REID-V3' target=\"_blank\">https://wandb.ai/tangoeye/REID-V3</a>"
      ],
      "text/plain": [
       "<IPython.core.display.HTML object>"
      ]
     },
     "metadata": {},
     "output_type": "display_data"
    },
    {
     "data": {
      "text/html": [
       " View run at <a href='https://wandb.ai/tangoeye/REID-V3/runs/dttiyv12' target=\"_blank\">https://wandb.ai/tangoeye/REID-V3/runs/dttiyv12</a>"
      ],
      "text/plain": [
       "<IPython.core.display.HTML object>"
      ]
     },
     "metadata": {},
     "output_type": "display_data"
    },
    {
     "data": {
      "text/html": [
       "<button onClick=\"this.nextSibling.style.display='block';this.style.display='none';\">Display W&B run</button><iframe src='https://wandb.ai/tangoeye/REID-V3/runs/dttiyv12?jupyter=true' style='border:none;width:100%;height:420px;display:none;'></iframe>"
      ],
      "text/plain": [
       "<wandb.sdk.wandb_run.Run at 0x72988daf3fa0>"
      ]
     },
     "execution_count": 1,
     "metadata": {},
     "output_type": "execute_result"
    }
   ],
   "source": [
    "import yaml\n",
    "import wandb\n",
    "\n",
    "config_path = \"configs/base_config.yaml\"\n",
    "with open(config_path, 'r') as file:\n",
    "    config = yaml.safe_load(file)\n",
    "\n",
    "wandb.init(project=config['wandb']['project'],\n",
    "           entity=config['wandb']['entity'],\n",
    "           config=config)"
   ]
  },
  {
   "cell_type": "code",
   "execution_count": 2,
   "id": "36609ee7-f1b7-485b-8522-c97a2e8363c3",
   "metadata": {
    "tags": []
   },
   "outputs": [
    {
     "name": "stderr",
     "output_type": "stream",
     "text": [
      "/home/trewq/Desktop/Projects/RetailAnalytics/REID/RESEARCH/deep-person-reid/torchreid/metrics/rank.py:11: UserWarning: Cython evaluation (very fast so highly recommended) is unavailable, now use python evaluation.\n",
      "  warnings.warn(\n"
     ]
    },
    {
     "name": "stdout",
     "output_type": "stream",
     "text": [
      "Building train transforms ...\n",
      "+ resize to 256x128\n",
      "+ random flip\n",
      "+ random crop (enlarge to 288x144 and crop 256x128)\n",
      "+ to torch tensor of range [0, 1]\n",
      "+ normalization (mean=[0.485, 0.456, 0.406], std=[0.229, 0.224, 0.225])\n",
      "Building test transforms ...\n",
      "+ resize to 256x128\n",
      "+ to torch tensor of range [0, 1]\n",
      "+ normalization (mean=[0.485, 0.456, 0.406], std=[0.229, 0.224, 0.225])\n",
      "=> Loading train (source) dataset\n",
      "=> Loaded Market1501\n",
      "  ----------------------------------------\n",
      "  subset   | # ids | # images | # cameras\n",
      "  ----------------------------------------\n",
      "  train    |   751 |    12936 |         6\n",
      "  query    |   750 |     3368 |         6\n",
      "  gallery  |   751 |    15913 |         6\n",
      "  ----------------------------------------\n",
      "=> Loading test (target) dataset\n",
      "=> Loaded Market1501\n",
      "  ----------------------------------------\n",
      "  subset   | # ids | # images | # cameras\n",
      "  ----------------------------------------\n",
      "  train    |   751 |    12936 |         6\n",
      "  query    |   750 |     3368 |         6\n",
      "  gallery  |   751 |    15913 |         6\n",
      "  ----------------------------------------\n",
      "\n",
      "\n",
      "  **************** Summary ****************\n",
      "  source            : ['market1501']\n",
      "  # source datasets : 1\n",
      "  # source ids      : 751\n",
      "  # source images   : 12936\n",
      "  # source cameras  : 6\n",
      "  target            : ['market1501']\n",
      "  *****************************************\n",
      "\n",
      "\n"
     ]
    }
   ],
   "source": [
    "import torchreid\n",
    "datamanager = torchreid.data.ImageDataManager(\n",
    "    root            = config['data']['root'],\n",
    "    sources         = config['data']['sources'],\n",
    "    targets         = config['data']['targets'],\n",
    "    height          = config['data']['height'],\n",
    "    width           = config['data']['width'],\n",
    "    batch_size_train= config['data']['batch_size'],\n",
    "    batch_size_test = config['data']['batch_size'],\n",
    "    transforms      = config['data']['transforms']\n",
    ")"
   ]
  },
  {
   "cell_type": "code",
   "execution_count": 3,
   "id": "98b6fddd-e9cd-431b-b7ec-5b82a0ab9fc5",
   "metadata": {
    "tags": []
   },
   "outputs": [
    {
     "name": "stdout",
     "output_type": "stream",
     "text": [
      "gem\n"
     ]
    }
   ],
   "source": [
    "model = torchreid.models.build_model(\n",
    "    name        = config['model']['name'],\n",
    "    num_classes = 2000 if 'tango2000' in config['data']['sources'] else datamanager.num_train_pids, #2000 for Tango\n",
    "    loss        = config['loss']['name'],\n",
    "    pretrained  = config['model']['pretrained'],\n",
    "    pooling     = config['model']['final_pooling'],\n",
    "    **config['custom']\n",
    ")\n",
    "model = model.cuda()\n",
    "optimizer = torchreid.optim.build_optimizer(\n",
    "    model,\n",
    "    optim=config['train']['optim'],\n",
    "    lr=config['train']['lr']\n",
    ")\n",
    "\n",
    "scheduler = torchreid.optim.build_lr_scheduler(\n",
    "    optimizer,\n",
    "    **config['train']['lr_scheduler'],\n",
    ")"
   ]
  },
  {
   "cell_type": "code",
   "execution_count": 4,
   "id": "91dcfd04",
   "metadata": {},
   "outputs": [
    {
     "data": {
      "text/plain": [
       "ResNet(\n",
       "  (conv1): Conv2d(3, 64, kernel_size=(7, 7), stride=(2, 2), padding=(3, 3), bias=False)\n",
       "  (bn1): BatchNorm2d(64, eps=1e-05, momentum=0.1, affine=True, track_running_stats=True)\n",
       "  (relu): ReLU(inplace=True)\n",
       "  (maxpool): MaxPool2d(kernel_size=3, stride=2, padding=1, dilation=1, ceil_mode=False)\n",
       "  (layer1): Sequential(\n",
       "    (0): Bottleneck(\n",
       "      (conv1): Conv2d(64, 64, kernel_size=(1, 1), stride=(1, 1), bias=False)\n",
       "      (bn1): BatchNorm2d(64, eps=1e-05, momentum=0.1, affine=True, track_running_stats=True)\n",
       "      (conv2): Conv2d(64, 64, kernel_size=(3, 3), stride=(1, 1), padding=(1, 1), bias=False)\n",
       "      (bn2): BatchNorm2d(64, eps=1e-05, momentum=0.1, affine=True, track_running_stats=True)\n",
       "      (conv3): Conv2d(64, 256, kernel_size=(1, 1), stride=(1, 1), bias=False)\n",
       "      (bn3): BatchNorm2d(256, eps=1e-05, momentum=0.1, affine=True, track_running_stats=True)\n",
       "      (relu): ReLU(inplace=True)\n",
       "      (downsample): Sequential(\n",
       "        (0): Conv2d(64, 256, kernel_size=(1, 1), stride=(1, 1), bias=False)\n",
       "        (1): BatchNorm2d(256, eps=1e-05, momentum=0.1, affine=True, track_running_stats=True)\n",
       "      )\n",
       "    )\n",
       "    (1): Bottleneck(\n",
       "      (conv1): Conv2d(256, 64, kernel_size=(1, 1), stride=(1, 1), bias=False)\n",
       "      (bn1): BatchNorm2d(64, eps=1e-05, momentum=0.1, affine=True, track_running_stats=True)\n",
       "      (conv2): Conv2d(64, 64, kernel_size=(3, 3), stride=(1, 1), padding=(1, 1), bias=False)\n",
       "      (bn2): BatchNorm2d(64, eps=1e-05, momentum=0.1, affine=True, track_running_stats=True)\n",
       "      (conv3): Conv2d(64, 256, kernel_size=(1, 1), stride=(1, 1), bias=False)\n",
       "      (bn3): BatchNorm2d(256, eps=1e-05, momentum=0.1, affine=True, track_running_stats=True)\n",
       "      (relu): ReLU(inplace=True)\n",
       "    )\n",
       "    (2): Bottleneck(\n",
       "      (conv1): Conv2d(256, 64, kernel_size=(1, 1), stride=(1, 1), bias=False)\n",
       "      (bn1): BatchNorm2d(64, eps=1e-05, momentum=0.1, affine=True, track_running_stats=True)\n",
       "      (conv2): Conv2d(64, 64, kernel_size=(3, 3), stride=(1, 1), padding=(1, 1), bias=False)\n",
       "      (bn2): BatchNorm2d(64, eps=1e-05, momentum=0.1, affine=True, track_running_stats=True)\n",
       "      (conv3): Conv2d(64, 256, kernel_size=(1, 1), stride=(1, 1), bias=False)\n",
       "      (bn3): BatchNorm2d(256, eps=1e-05, momentum=0.1, affine=True, track_running_stats=True)\n",
       "      (relu): ReLU(inplace=True)\n",
       "    )\n",
       "  )\n",
       "  (layer2): Sequential(\n",
       "    (0): Bottleneck(\n",
       "      (conv1): Conv2d(256, 128, kernel_size=(1, 1), stride=(1, 1), bias=False)\n",
       "      (bn1): BatchNorm2d(128, eps=1e-05, momentum=0.1, affine=True, track_running_stats=True)\n",
       "      (conv2): Conv2d(128, 128, kernel_size=(3, 3), stride=(2, 2), padding=(1, 1), bias=False)\n",
       "      (bn2): BatchNorm2d(128, eps=1e-05, momentum=0.1, affine=True, track_running_stats=True)\n",
       "      (conv3): Conv2d(128, 512, kernel_size=(1, 1), stride=(1, 1), bias=False)\n",
       "      (bn3): BatchNorm2d(512, eps=1e-05, momentum=0.1, affine=True, track_running_stats=True)\n",
       "      (relu): ReLU(inplace=True)\n",
       "      (downsample): Sequential(\n",
       "        (0): Conv2d(256, 512, kernel_size=(1, 1), stride=(2, 2), bias=False)\n",
       "        (1): BatchNorm2d(512, eps=1e-05, momentum=0.1, affine=True, track_running_stats=True)\n",
       "      )\n",
       "    )\n",
       "    (1): Bottleneck(\n",
       "      (conv1): Conv2d(512, 128, kernel_size=(1, 1), stride=(1, 1), bias=False)\n",
       "      (bn1): BatchNorm2d(128, eps=1e-05, momentum=0.1, affine=True, track_running_stats=True)\n",
       "      (conv2): Conv2d(128, 128, kernel_size=(3, 3), stride=(1, 1), padding=(1, 1), bias=False)\n",
       "      (bn2): BatchNorm2d(128, eps=1e-05, momentum=0.1, affine=True, track_running_stats=True)\n",
       "      (conv3): Conv2d(128, 512, kernel_size=(1, 1), stride=(1, 1), bias=False)\n",
       "      (bn3): BatchNorm2d(512, eps=1e-05, momentum=0.1, affine=True, track_running_stats=True)\n",
       "      (relu): ReLU(inplace=True)\n",
       "    )\n",
       "    (2): Bottleneck(\n",
       "      (conv1): Conv2d(512, 128, kernel_size=(1, 1), stride=(1, 1), bias=False)\n",
       "      (bn1): BatchNorm2d(128, eps=1e-05, momentum=0.1, affine=True, track_running_stats=True)\n",
       "      (conv2): Conv2d(128, 128, kernel_size=(3, 3), stride=(1, 1), padding=(1, 1), bias=False)\n",
       "      (bn2): BatchNorm2d(128, eps=1e-05, momentum=0.1, affine=True, track_running_stats=True)\n",
       "      (conv3): Conv2d(128, 512, kernel_size=(1, 1), stride=(1, 1), bias=False)\n",
       "      (bn3): BatchNorm2d(512, eps=1e-05, momentum=0.1, affine=True, track_running_stats=True)\n",
       "      (relu): ReLU(inplace=True)\n",
       "    )\n",
       "    (3): Bottleneck(\n",
       "      (conv1): Conv2d(512, 128, kernel_size=(1, 1), stride=(1, 1), bias=False)\n",
       "      (bn1): BatchNorm2d(128, eps=1e-05, momentum=0.1, affine=True, track_running_stats=True)\n",
       "      (conv2): Conv2d(128, 128, kernel_size=(3, 3), stride=(1, 1), padding=(1, 1), bias=False)\n",
       "      (bn2): BatchNorm2d(128, eps=1e-05, momentum=0.1, affine=True, track_running_stats=True)\n",
       "      (conv3): Conv2d(128, 512, kernel_size=(1, 1), stride=(1, 1), bias=False)\n",
       "      (bn3): BatchNorm2d(512, eps=1e-05, momentum=0.1, affine=True, track_running_stats=True)\n",
       "      (relu): ReLU(inplace=True)\n",
       "    )\n",
       "  )\n",
       "  (layer3): Sequential(\n",
       "    (0): Bottleneck(\n",
       "      (conv1): Conv2d(512, 256, kernel_size=(1, 1), stride=(1, 1), bias=False)\n",
       "      (bn1): BatchNorm2d(256, eps=1e-05, momentum=0.1, affine=True, track_running_stats=True)\n",
       "      (conv2): Conv2d(256, 256, kernel_size=(3, 3), stride=(2, 2), padding=(1, 1), bias=False)\n",
       "      (bn2): BatchNorm2d(256, eps=1e-05, momentum=0.1, affine=True, track_running_stats=True)\n",
       "      (conv3): Conv2d(256, 1024, kernel_size=(1, 1), stride=(1, 1), bias=False)\n",
       "      (bn3): BatchNorm2d(1024, eps=1e-05, momentum=0.1, affine=True, track_running_stats=True)\n",
       "      (relu): ReLU(inplace=True)\n",
       "      (downsample): Sequential(\n",
       "        (0): Conv2d(512, 1024, kernel_size=(1, 1), stride=(2, 2), bias=False)\n",
       "        (1): BatchNorm2d(1024, eps=1e-05, momentum=0.1, affine=True, track_running_stats=True)\n",
       "      )\n",
       "    )\n",
       "    (1): Bottleneck(\n",
       "      (conv1): Conv2d(1024, 256, kernel_size=(1, 1), stride=(1, 1), bias=False)\n",
       "      (bn1): BatchNorm2d(256, eps=1e-05, momentum=0.1, affine=True, track_running_stats=True)\n",
       "      (conv2): Conv2d(256, 256, kernel_size=(3, 3), stride=(1, 1), padding=(1, 1), bias=False)\n",
       "      (bn2): BatchNorm2d(256, eps=1e-05, momentum=0.1, affine=True, track_running_stats=True)\n",
       "      (conv3): Conv2d(256, 1024, kernel_size=(1, 1), stride=(1, 1), bias=False)\n",
       "      (bn3): BatchNorm2d(1024, eps=1e-05, momentum=0.1, affine=True, track_running_stats=True)\n",
       "      (relu): ReLU(inplace=True)\n",
       "    )\n",
       "    (2): Bottleneck(\n",
       "      (conv1): Conv2d(1024, 256, kernel_size=(1, 1), stride=(1, 1), bias=False)\n",
       "      (bn1): BatchNorm2d(256, eps=1e-05, momentum=0.1, affine=True, track_running_stats=True)\n",
       "      (conv2): Conv2d(256, 256, kernel_size=(3, 3), stride=(1, 1), padding=(1, 1), bias=False)\n",
       "      (bn2): BatchNorm2d(256, eps=1e-05, momentum=0.1, affine=True, track_running_stats=True)\n",
       "      (conv3): Conv2d(256, 1024, kernel_size=(1, 1), stride=(1, 1), bias=False)\n",
       "      (bn3): BatchNorm2d(1024, eps=1e-05, momentum=0.1, affine=True, track_running_stats=True)\n",
       "      (relu): ReLU(inplace=True)\n",
       "    )\n",
       "    (3): Bottleneck(\n",
       "      (conv1): Conv2d(1024, 256, kernel_size=(1, 1), stride=(1, 1), bias=False)\n",
       "      (bn1): BatchNorm2d(256, eps=1e-05, momentum=0.1, affine=True, track_running_stats=True)\n",
       "      (conv2): Conv2d(256, 256, kernel_size=(3, 3), stride=(1, 1), padding=(1, 1), bias=False)\n",
       "      (bn2): BatchNorm2d(256, eps=1e-05, momentum=0.1, affine=True, track_running_stats=True)\n",
       "      (conv3): Conv2d(256, 1024, kernel_size=(1, 1), stride=(1, 1), bias=False)\n",
       "      (bn3): BatchNorm2d(1024, eps=1e-05, momentum=0.1, affine=True, track_running_stats=True)\n",
       "      (relu): ReLU(inplace=True)\n",
       "    )\n",
       "    (4): Bottleneck(\n",
       "      (conv1): Conv2d(1024, 256, kernel_size=(1, 1), stride=(1, 1), bias=False)\n",
       "      (bn1): BatchNorm2d(256, eps=1e-05, momentum=0.1, affine=True, track_running_stats=True)\n",
       "      (conv2): Conv2d(256, 256, kernel_size=(3, 3), stride=(1, 1), padding=(1, 1), bias=False)\n",
       "      (bn2): BatchNorm2d(256, eps=1e-05, momentum=0.1, affine=True, track_running_stats=True)\n",
       "      (conv3): Conv2d(256, 1024, kernel_size=(1, 1), stride=(1, 1), bias=False)\n",
       "      (bn3): BatchNorm2d(1024, eps=1e-05, momentum=0.1, affine=True, track_running_stats=True)\n",
       "      (relu): ReLU(inplace=True)\n",
       "    )\n",
       "    (5): Bottleneck(\n",
       "      (conv1): Conv2d(1024, 256, kernel_size=(1, 1), stride=(1, 1), bias=False)\n",
       "      (bn1): BatchNorm2d(256, eps=1e-05, momentum=0.1, affine=True, track_running_stats=True)\n",
       "      (conv2): Conv2d(256, 256, kernel_size=(3, 3), stride=(1, 1), padding=(1, 1), bias=False)\n",
       "      (bn2): BatchNorm2d(256, eps=1e-05, momentum=0.1, affine=True, track_running_stats=True)\n",
       "      (conv3): Conv2d(256, 1024, kernel_size=(1, 1), stride=(1, 1), bias=False)\n",
       "      (bn3): BatchNorm2d(1024, eps=1e-05, momentum=0.1, affine=True, track_running_stats=True)\n",
       "      (relu): ReLU(inplace=True)\n",
       "    )\n",
       "  )\n",
       "  (layer4): Sequential(\n",
       "    (0): Bottleneck(\n",
       "      (conv1): Conv2d(1024, 512, kernel_size=(1, 1), stride=(1, 1), bias=False)\n",
       "      (bn1): BatchNorm2d(512, eps=1e-05, momentum=0.1, affine=True, track_running_stats=True)\n",
       "      (conv2): Conv2d(512, 512, kernel_size=(3, 3), stride=(2, 2), padding=(1, 1), bias=False)\n",
       "      (bn2): BatchNorm2d(512, eps=1e-05, momentum=0.1, affine=True, track_running_stats=True)\n",
       "      (conv3): Conv2d(512, 2048, kernel_size=(1, 1), stride=(1, 1), bias=False)\n",
       "      (bn3): BatchNorm2d(2048, eps=1e-05, momentum=0.1, affine=True, track_running_stats=True)\n",
       "      (relu): ReLU(inplace=True)\n",
       "      (downsample): Sequential(\n",
       "        (0): Conv2d(1024, 2048, kernel_size=(1, 1), stride=(2, 2), bias=False)\n",
       "        (1): BatchNorm2d(2048, eps=1e-05, momentum=0.1, affine=True, track_running_stats=True)\n",
       "      )\n",
       "    )\n",
       "    (1): Bottleneck(\n",
       "      (conv1): Conv2d(2048, 512, kernel_size=(1, 1), stride=(1, 1), bias=False)\n",
       "      (bn1): BatchNorm2d(512, eps=1e-05, momentum=0.1, affine=True, track_running_stats=True)\n",
       "      (conv2): Conv2d(512, 512, kernel_size=(3, 3), stride=(1, 1), padding=(1, 1), bias=False)\n",
       "      (bn2): BatchNorm2d(512, eps=1e-05, momentum=0.1, affine=True, track_running_stats=True)\n",
       "      (conv3): Conv2d(512, 2048, kernel_size=(1, 1), stride=(1, 1), bias=False)\n",
       "      (bn3): BatchNorm2d(2048, eps=1e-05, momentum=0.1, affine=True, track_running_stats=True)\n",
       "      (relu): ReLU(inplace=True)\n",
       "    )\n",
       "    (2): Bottleneck(\n",
       "      (conv1): Conv2d(2048, 512, kernel_size=(1, 1), stride=(1, 1), bias=False)\n",
       "      (bn1): BatchNorm2d(512, eps=1e-05, momentum=0.1, affine=True, track_running_stats=True)\n",
       "      (conv2): Conv2d(512, 512, kernel_size=(3, 3), stride=(1, 1), padding=(1, 1), bias=False)\n",
       "      (bn2): BatchNorm2d(512, eps=1e-05, momentum=0.1, affine=True, track_running_stats=True)\n",
       "      (conv3): Conv2d(512, 2048, kernel_size=(1, 1), stride=(1, 1), bias=False)\n",
       "      (bn3): BatchNorm2d(2048, eps=1e-05, momentum=0.1, affine=True, track_running_stats=True)\n",
       "      (relu): ReLU(inplace=True)\n",
       "    )\n",
       "  )\n",
       "  (pool): GeM(p=3.0000, eps=1e-06)\n",
       "  (classifier): Linear(in_features=2048, out_features=751, bias=True)\n",
       ")"
      ]
     },
     "execution_count": 4,
     "metadata": {},
     "output_type": "execute_result"
    }
   ],
   "source": [
    "model"
   ]
  },
  {
   "cell_type": "code",
   "execution_count": 5,
   "id": "39cf1e57-0dce-4a74-8c35-bd4d7e4ad2ff",
   "metadata": {
    "tags": []
   },
   "outputs": [],
   "source": [
    "# from tools.visualize_actmap import visactmap\n",
    "# test_loader = datamanager.test_loader\n",
    "# visactmap(model, test_loader, f\"log/visactmap_{model_name}_{dataset_name}\", 128, 256, True, [0.485, 0.456, 0.406], [0.229, 0.224, 0.225])"
   ]
  },
  {
   "cell_type": "code",
   "execution_count": 6,
   "id": "1b07cb99-fad4-47c9-9a17-3f87d0db5dfe",
   "metadata": {
    "tags": []
   },
   "outputs": [],
   "source": [
    "engine = torchreid.engine.ImageTripletEngine(\n",
    "    datamanager,\n",
    "    model,\n",
    "    optimizer=optimizer,\n",
    "    scheduler=scheduler,\n",
    "    label_smooth=config['loss']['softmax']['label_smooth'],\n",
    "    logger=wandb\n",
    ")"
   ]
  },
  {
   "cell_type": "code",
   "execution_count": 7,
   "id": "4a080fba-1edf-4104-a162-cf93bda57559",
   "metadata": {
    "tags": []
   },
   "outputs": [
    {
     "name": "stdout",
     "output_type": "stream",
     "text": [
      "=> Start training\n",
      "epoch: [1/60][50/101]\ttime 0.181 (0.194)\tdata 0.000 (0.006)\teta 0:19:24\tloss_t 0.4451 (0.4748)\tloss_x 6.0197 (6.5540)\tacc 8.5938 (2.9062)\tlr 0.000300\n",
      "epoch: [1/60][100/101]\ttime 0.183 (0.186)\tdata 0.000 (0.003)\teta 0:18:27\tloss_t 0.1864 (0.4092)\tloss_x 4.5247 (5.9097)\tacc 28.9062 (8.9297)\tlr 0.000300\n",
      "##### Evaluating market1501 (source) #####\n",
      "Extracting features from query set ...\n",
      "Done, obtained 3368-by-2048 matrix\n",
      "Extracting features from gallery set ...\n",
      "Done, obtained 15913-by-2048 matrix\n",
      "Speed: 0.0020 sec/batch\n",
      "Computing distance matrix with metric=euclidean ...\n",
      "Computing CMC and mAP ...\n",
      "[   0  455    0 ... 1026  668  723] <class 'numpy.ndarray'> False\n",
      "** Results **\n",
      "mAP: 26.8%\n",
      "CMC curve\n",
      "Rank-1  : 46.6%\n",
      "Rank-5  : 67.1%\n",
      "Rank-10 : 75.5%\n",
      "Rank-20 : 82.6%\n",
      "Checkpoint saved to \"log/resnet50_market1501/model/model.pth.tar-1\"\n",
      "epoch: [2/60][50/101]\ttime 0.181 (0.182)\tdata 0.000 (0.004)\teta 0:17:56\tloss_t 0.3709 (0.3175)\tloss_x 3.5038 (3.9440)\tacc 48.4375 (35.2500)\tlr 0.000300\n",
      "epoch: [2/60][100/101]\ttime 0.173 (0.180)\tdata 0.000 (0.002)\teta 0:17:32\tloss_t 0.0993 (0.3092)\tloss_x 2.8855 (3.5863)\tacc 57.8125 (42.1250)\tlr 0.000300\n",
      "##### Evaluating market1501 (source) #####\n",
      "Extracting features from query set ...\n",
      "Done, obtained 3368-by-2048 matrix\n",
      "Extracting features from gallery set ...\n",
      "Done, obtained 15913-by-2048 matrix\n",
      "Speed: 0.0017 sec/batch\n",
      "Computing distance matrix with metric=euclidean ...\n",
      "Computing CMC and mAP ...\n",
      "[   0  455    0 ... 1026  668  723] <class 'numpy.ndarray'> False\n",
      "** Results **\n",
      "mAP: 38.0%\n",
      "CMC curve\n",
      "Rank-1  : 58.8%\n",
      "Rank-5  : 77.2%\n",
      "Rank-10 : 83.7%\n",
      "Rank-20 : 89.1%\n",
      "Checkpoint saved to \"log/resnet50_market1501/model/model.pth.tar-2\"\n",
      "epoch: [3/60][50/101]\ttime 0.170 (0.174)\tdata 0.000 (0.004)\teta 0:16:51\tloss_t 0.3334 (0.2527)\tloss_x 2.1906 (2.5657)\tacc 77.3438 (65.1250)\tlr 0.000300\n",
      "epoch: [3/60][100/101]\ttime 0.171 (0.173)\tdata 0.000 (0.002)\teta 0:16:33\tloss_t 0.2671 (0.2324)\tloss_x 2.2232 (2.4277)\tacc 70.3125 (68.4609)\tlr 0.000300\n",
      "##### Evaluating market1501 (source) #####\n",
      "Extracting features from query set ...\n",
      "Done, obtained 3368-by-2048 matrix\n",
      "Extracting features from gallery set ...\n",
      "Done, obtained 15913-by-2048 matrix\n",
      "Speed: 0.0017 sec/batch\n",
      "Computing distance matrix with metric=euclidean ...\n",
      "Computing CMC and mAP ...\n",
      "[   0  455    0 ... 1026  668  723] <class 'numpy.ndarray'> False\n",
      "** Results **\n",
      "mAP: 41.8%\n",
      "CMC curve\n",
      "Rank-1  : 63.1%\n",
      "Rank-5  : 80.7%\n",
      "Rank-10 : 87.4%\n",
      "Rank-20 : 91.5%\n",
      "Checkpoint saved to \"log/resnet50_market1501/model/model.pth.tar-3\"\n",
      "epoch: [4/60][50/101]\ttime 0.170 (0.174)\tdata 0.000 (0.004)\teta 0:16:33\tloss_t 0.2217 (0.1392)\tloss_x 1.9805 (2.0147)\tacc 81.2500 (80.2344)\tlr 0.000300\n",
      "epoch: [4/60][100/101]\ttime 0.173 (0.174)\tdata 0.000 (0.002)\teta 0:16:23\tloss_t 0.1435 (0.1423)\tloss_x 1.9713 (1.9717)\tacc 83.5938 (80.8125)\tlr 0.000300\n",
      "##### Evaluating market1501 (source) #####\n",
      "Extracting features from query set ...\n",
      "Done, obtained 3368-by-2048 matrix\n",
      "Extracting features from gallery set ...\n",
      "Done, obtained 15913-by-2048 matrix\n",
      "Speed: 0.0017 sec/batch\n",
      "Computing distance matrix with metric=euclidean ...\n",
      "Computing CMC and mAP ...\n",
      "[   0  455    0 ... 1026  668  723] <class 'numpy.ndarray'> False\n",
      "** Results **\n",
      "mAP: 47.7%\n",
      "CMC curve\n",
      "Rank-1  : 69.9%\n",
      "Rank-5  : 84.8%\n",
      "Rank-10 : 89.1%\n",
      "Rank-20 : 93.3%\n",
      "Checkpoint saved to \"log/resnet50_market1501/model/model.pth.tar-4\"\n",
      "epoch: [5/60][50/101]\ttime 0.168 (0.174)\tdata 0.000 (0.004)\teta 0:16:14\tloss_t 0.3996 (0.1268)\tloss_x 1.7540 (1.7687)\tacc 85.9375 (86.6562)\tlr 0.000300\n",
      "epoch: [5/60][100/101]\ttime 0.168 (0.172)\tdata 0.000 (0.002)\teta 0:15:55\tloss_t 0.0542 (0.1165)\tloss_x 1.7219 (1.7599)\tacc 85.9375 (86.5938)\tlr 0.000300\n",
      "##### Evaluating market1501 (source) #####\n",
      "Extracting features from query set ...\n",
      "Done, obtained 3368-by-2048 matrix\n",
      "Extracting features from gallery set ...\n",
      "Done, obtained 15913-by-2048 matrix\n",
      "Speed: 0.0018 sec/batch\n",
      "Computing distance matrix with metric=euclidean ...\n",
      "Computing CMC and mAP ...\n",
      "[   0  455    0 ... 1026  668  723] <class 'numpy.ndarray'> False\n",
      "** Results **\n",
      "mAP: 51.4%\n",
      "CMC curve\n",
      "Rank-1  : 71.8%\n",
      "Rank-5  : 87.0%\n",
      "Rank-10 : 91.5%\n",
      "Rank-20 : 94.3%\n",
      "Checkpoint saved to \"log/resnet50_market1501/model/model.pth.tar-5\"\n",
      "epoch: [6/60][50/101]\ttime 0.172 (0.173)\tdata 0.000 (0.004)\teta 0:15:54\tloss_t 0.0611 (0.0849)\tloss_x 1.6131 (1.5947)\tacc 90.6250 (90.7188)\tlr 0.000300\n",
      "epoch: [6/60][100/101]\ttime 0.172 (0.173)\tdata 0.000 (0.002)\teta 0:15:42\tloss_t 0.1801 (0.0912)\tloss_x 1.6032 (1.5920)\tacc 92.1875 (90.8359)\tlr 0.000300\n",
      "##### Evaluating market1501 (source) #####\n",
      "Extracting features from query set ...\n",
      "Done, obtained 3368-by-2048 matrix\n",
      "Extracting features from gallery set ...\n",
      "Done, obtained 15913-by-2048 matrix\n",
      "Speed: 0.0017 sec/batch\n",
      "Computing distance matrix with metric=euclidean ...\n",
      "Computing CMC and mAP ...\n",
      "[   0  455    0 ... 1026  668  723] <class 'numpy.ndarray'> False\n",
      "** Results **\n",
      "mAP: 51.7%\n",
      "CMC curve\n",
      "Rank-1  : 73.3%\n",
      "Rank-5  : 87.4%\n",
      "Rank-10 : 91.7%\n",
      "Rank-20 : 94.4%\n",
      "Checkpoint saved to \"log/resnet50_market1501/model/model.pth.tar-6\"\n",
      "epoch: [7/60][50/101]\ttime 0.180 (0.180)\tdata 0.000 (0.004)\teta 0:16:14\tloss_t 0.1597 (0.0526)\tloss_x 1.4425 (1.5120)\tacc 96.8750 (93.1719)\tlr 0.000300\n",
      "epoch: [7/60][100/101]\ttime 0.180 (0.179)\tdata 0.000 (0.002)\teta 0:15:55\tloss_t 0.0248 (0.0593)\tloss_x 1.5100 (1.4965)\tacc 90.6250 (93.5234)\tlr 0.000300\n",
      "##### Evaluating market1501 (source) #####\n",
      "Extracting features from query set ...\n",
      "Done, obtained 3368-by-2048 matrix\n",
      "Extracting features from gallery set ...\n",
      "Done, obtained 15913-by-2048 matrix\n",
      "Speed: 0.0017 sec/batch\n",
      "Computing distance matrix with metric=euclidean ...\n",
      "Computing CMC and mAP ...\n",
      "[   0  455    0 ... 1026  668  723] <class 'numpy.ndarray'> False\n",
      "** Results **\n",
      "mAP: 54.4%\n",
      "CMC curve\n",
      "Rank-1  : 75.0%\n",
      "Rank-5  : 88.8%\n",
      "Rank-10 : 92.4%\n",
      "Rank-20 : 95.0%\n",
      "Checkpoint saved to \"log/resnet50_market1501/model/model.pth.tar-7\"\n",
      "epoch: [8/60][50/101]\ttime 0.175 (0.184)\tdata 0.000 (0.004)\teta 0:16:17\tloss_t 0.1982 (0.0595)\tloss_x 1.5130 (1.4298)\tacc 92.1875 (95.0156)\tlr 0.000300\n",
      "epoch: [8/60][100/101]\ttime 0.183 (0.182)\tdata 0.000 (0.002)\teta 0:15:56\tloss_t 0.1207 (0.0553)\tloss_x 1.4423 (1.4493)\tacc 96.0938 (94.3438)\tlr 0.000300\n",
      "##### Evaluating market1501 (source) #####\n",
      "Extracting features from query set ...\n",
      "Done, obtained 3368-by-2048 matrix\n",
      "Extracting features from gallery set ...\n",
      "Done, obtained 15913-by-2048 matrix\n",
      "Speed: 0.0018 sec/batch\n",
      "Computing distance matrix with metric=euclidean ...\n",
      "Computing CMC and mAP ...\n",
      "[   0  455    0 ... 1026  668  723] <class 'numpy.ndarray'> False\n",
      "** Results **\n",
      "mAP: 53.5%\n",
      "CMC curve\n",
      "Rank-1  : 74.4%\n",
      "Rank-5  : 87.9%\n",
      "Rank-10 : 91.9%\n",
      "Rank-20 : 94.9%\n",
      "Epoch 00008: reducing learning rate of group 0 to 3.0000e-05.\n",
      "Checkpoint saved to \"log/resnet50_market1501/model/model.pth.tar-8\"\n",
      "epoch: [9/60][50/101]\ttime 0.189 (0.181)\tdata 0.000 (0.004)\teta 0:15:42\tloss_t 0.0000 (0.0236)\tloss_x 1.2161 (1.3276)\tacc 100.0000 (97.2031)\tlr 0.000030\n"
     ]
    }
   ],
   "source": [
    "engine.run(\n",
    "    save_dir=f\"log/{config['model']['name']}_{config['data']['sources'][0]}\",\n",
    "    max_epoch=60,\n",
    "    eval_freq=1,\n",
    "    print_freq=50,\n",
    "    test_only=False,\n",
    "    visrank=False,\n",
    "    eval_metric='default'\n",
    ")"
   ]
  },
  {
   "cell_type": "code",
   "execution_count": null,
   "id": "baa17493",
   "metadata": {},
   "outputs": [
    {
     "data": {
      "application/vnd.jupyter.widget-view+json": {
       "model_id": "ccfa4288c35340c1b29afd9ad9bc2634",
       "version_major": 2,
       "version_minor": 0
      },
      "text/plain": [
       "VBox(children=(Label(value='0.004 MB of 0.004 MB uploaded\\r'), FloatProgress(value=1.0, max=1.0)))"
      ]
     },
     "metadata": {},
     "output_type": "display_data"
    },
    {
     "data": {
      "text/html": [
       "<style>\n",
       "    table.wandb td:nth-child(1) { padding: 0 10px; text-align: left ; width: auto;} td:nth-child(2) {text-align: left ; width: 100%}\n",
       "    .wandb-row { display: flex; flex-direction: row; flex-wrap: wrap; justify-content: flex-start; width: 100% }\n",
       "    .wandb-col { display: flex; flex-direction: column; flex-basis: 100%; flex: 1; padding: 10px; }\n",
       "    </style>\n",
       "<div class=\"wandb-row\"><div class=\"wandb-col\"><h3>Run history:</h3><br/><table class=\"wandb\"><tr><td>acc</td><td>▁▁▃▄▅▆▆▇▇▇▇█▇████▇██████████████████████</td></tr><tr><td>data_time</td><td>▁▁▂▁▂▁█▁▁▁▁▁▁▁▁▁▁▁▁▁▁▁▁▂▁▃▁▁▁▁▁▁▁▁▁▁▁▁▁▁</td></tr><tr><td>epoch</td><td>▁▁▂▂▃▃▃▄▄▅▅▅▆▆▆▇▇██</td></tr><tr><td>learning_rate</td><td>██████████████████████████████████████▁▁</td></tr><tr><td>loss_t</td><td>█▆▄▃▆▃▂▃▂▃▂▁▂▁▃▁▃▁▁▁▂▂▁▁▂▂▂▂▂▁▂▁▁▂▁▁▂▁▁▁</td></tr><tr><td>loss_x</td><td>█▇▅▄▃▃▂▂▂▂▂▂▂▁▁▁▁▁▁▁▁▁▁▁▁▁▁▁▁▁▁▁▁▁▁▁▁▁▁▁</td></tr><tr><td>mAP</td><td>▁▄▅▆▆▆▇▆▇▇▇▇▇▇██▇▇</td></tr><tr><td>model_saved_at_epoch</td><td>▁▁▂▂▃▃▃▄▄▅▅▆▆▆▇▇██</td></tr><tr><td>rank_1</td><td>▁▄▅▆▆▇▇▇▇▇▇█▇█████</td></tr><tr><td>train_time</td><td>▄▂▂▁▃▂█▂▁▂▁▂▂▂▂▂▂▂▁▂▁▂▁▂▂▃▁▁▂▂▁▁▁▁▁▁▁▁▁▁</td></tr></table><br/></div><div class=\"wandb-col\"><h3>Run summary:</h3><br/><table class=\"wandb\"><tr><td>acc</td><td>100.0</td></tr><tr><td>data_time</td><td>0.00214</td></tr><tr><td>epoch</td><td>18</td></tr><tr><td>learning_rate</td><td>3e-05</td></tr><tr><td>loss_t</td><td>0.0</td></tr><tr><td>loss_x</td><td>1.15919</td></tr><tr><td>mAP</td><td>0.56942</td></tr><tr><td>model_saved_at_epoch</td><td>17</td></tr><tr><td>rank_1</td><td>0.78088</td></tr><tr><td>train_time</td><td>0.16914</td></tr></table><br/></div></div>"
      ],
      "text/plain": [
       "<IPython.core.display.HTML object>"
      ]
     },
     "metadata": {},
     "output_type": "display_data"
    },
    {
     "data": {
      "text/html": [
       " View run <strong style=\"color:#cdcd00\">major-dream-15</strong> at: <a href='https://wandb.ai/tangoeye/REID-V3/runs/0tt4mbn5' target=\"_blank\">https://wandb.ai/tangoeye/REID-V3/runs/0tt4mbn5</a><br/> View project at: <a href='https://wandb.ai/tangoeye/REID-V3' target=\"_blank\">https://wandb.ai/tangoeye/REID-V3</a><br/>Synced 6 W&B file(s), 0 media file(s), 0 artifact file(s) and 0 other file(s)"
      ],
      "text/plain": [
       "<IPython.core.display.HTML object>"
      ]
     },
     "metadata": {},
     "output_type": "display_data"
    },
    {
     "data": {
      "text/html": [
       "Find logs at: <code>./wandb/run-20240609_182653-0tt4mbn5/logs</code>"
      ],
      "text/plain": [
       "<IPython.core.display.HTML object>"
      ]
     },
     "metadata": {},
     "output_type": "display_data"
    }
   ],
   "source": [
    "wandb.finish()"
   ]
  }
 ],
 "metadata": {
  "kernelspec": {
   "display_name": "Python 3 (ipykernel)",
   "language": "python",
   "name": "python3"
  },
  "language_info": {
   "codemirror_mode": {
    "name": "ipython",
    "version": 3
   },
   "file_extension": ".py",
   "mimetype": "text/x-python",
   "name": "python",
   "nbconvert_exporter": "python",
   "pygments_lexer": "ipython3",
   "version": "3.10.14"
  }
 },
 "nbformat": 4,
 "nbformat_minor": 5
}
