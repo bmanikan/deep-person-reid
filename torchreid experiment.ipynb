{
 "cells": [
  {
   "cell_type": "code",
   "execution_count": 1,
   "id": "aed01835",
   "metadata": {},
   "outputs": [
    {
     "name": "stderr",
     "output_type": "stream",
     "text": [
      "Failed to detect the name of this notebook, you can set it manually with the WANDB_NOTEBOOK_NAME environment variable to enable code saving.\n",
      "\u001b[34m\u001b[1mwandb\u001b[0m: Currently logged in as: \u001b[33mbalamanikandan\u001b[0m (\u001b[33mtangoeye\u001b[0m). Use \u001b[1m`wandb login --relogin`\u001b[0m to force relogin\n"
     ]
    },
    {
     "data": {
      "text/html": [
       "wandb version 0.17.1 is available!  To upgrade, please run:\n",
       " $ pip install wandb --upgrade"
      ],
      "text/plain": [
       "<IPython.core.display.HTML object>"
      ]
     },
     "metadata": {},
     "output_type": "display_data"
    },
    {
     "data": {
      "text/html": [
       "Tracking run with wandb version 0.17.0"
      ],
      "text/plain": [
       "<IPython.core.display.HTML object>"
      ]
     },
     "metadata": {},
     "output_type": "display_data"
    },
    {
     "data": {
      "text/html": [
       "Run data is saved locally in <code>/home/trewq/Desktop/Projects/RetailAnalytics/REID/RESEARCH/deep-person-reid/wandb/run-20240609_131428-2h3d3dxu</code>"
      ],
      "text/plain": [
       "<IPython.core.display.HTML object>"
      ]
     },
     "metadata": {},
     "output_type": "display_data"
    },
    {
     "data": {
      "text/html": [
       "Syncing run <strong><a href='https://wandb.ai/tangoeye/REID-V3/runs/2h3d3dxu' target=\"_blank\">golden-field-9</a></strong> to <a href='https://wandb.ai/tangoeye/REID-V3' target=\"_blank\">Weights & Biases</a> (<a href='https://wandb.me/run' target=\"_blank\">docs</a>)<br/>"
      ],
      "text/plain": [
       "<IPython.core.display.HTML object>"
      ]
     },
     "metadata": {},
     "output_type": "display_data"
    },
    {
     "data": {
      "text/html": [
       " View project at <a href='https://wandb.ai/tangoeye/REID-V3' target=\"_blank\">https://wandb.ai/tangoeye/REID-V3</a>"
      ],
      "text/plain": [
       "<IPython.core.display.HTML object>"
      ]
     },
     "metadata": {},
     "output_type": "display_data"
    },
    {
     "data": {
      "text/html": [
       " View run at <a href='https://wandb.ai/tangoeye/REID-V3/runs/2h3d3dxu' target=\"_blank\">https://wandb.ai/tangoeye/REID-V3/runs/2h3d3dxu</a>"
      ],
      "text/plain": [
       "<IPython.core.display.HTML object>"
      ]
     },
     "metadata": {},
     "output_type": "display_data"
    },
    {
     "data": {
      "text/html": [
       "<button onClick=\"this.nextSibling.style.display='block';this.style.display='none';\">Display W&B run</button><iframe src='https://wandb.ai/tangoeye/REID-V3/runs/2h3d3dxu?jupyter=true' style='border:none;width:100%;height:420px;display:none;'></iframe>"
      ],
      "text/plain": [
       "<wandb.sdk.wandb_run.Run at 0x7fa9a6233f10>"
      ]
     },
     "execution_count": 1,
     "metadata": {},
     "output_type": "execute_result"
    }
   ],
   "source": [
    "import yaml\n",
    "import wandb\n",
    "\n",
    "config_path = \"configs/base_config.yaml\"\n",
    "with open(config_path, 'r') as file:\n",
    "    config = yaml.safe_load(file)\n",
    "\n",
    "wandb.init(project=config['wandb']['project'],\n",
    "           entity=config['wandb']['entity'],\n",
    "           config=config)"
   ]
  },
  {
   "cell_type": "code",
   "execution_count": 2,
   "id": "36609ee7-f1b7-485b-8522-c97a2e8363c3",
   "metadata": {
    "tags": []
   },
   "outputs": [
    {
     "name": "stderr",
     "output_type": "stream",
     "text": [
      "/home/trewq/Desktop/Projects/RetailAnalytics/REID/RESEARCH/deep-person-reid/torchreid/metrics/rank.py:11: UserWarning: Cython evaluation (very fast so highly recommended) is unavailable, now use python evaluation.\n",
      "  warnings.warn(\n"
     ]
    },
    {
     "name": "stdout",
     "output_type": "stream",
     "text": [
      "Building train transforms ...\n",
      "+ resize to 256x128\n",
      "+ random flip\n",
      "+ random crop (enlarge to 288x144 and crop 256x128)\n",
      "+ to torch tensor of range [0, 1]\n",
      "+ normalization (mean=[0.485, 0.456, 0.406], std=[0.229, 0.224, 0.225])\n",
      "Building test transforms ...\n",
      "+ resize to 256x128\n",
      "+ to torch tensor of range [0, 1]\n",
      "+ normalization (mean=[0.485, 0.456, 0.406], std=[0.229, 0.224, 0.225])\n",
      "=> Loading train (source) dataset\n",
      "=> Loaded Market1501\n",
      "  ----------------------------------------\n",
      "  subset   | # ids | # images | # cameras\n",
      "  ----------------------------------------\n",
      "  train    |   751 |    12936 |         6\n",
      "  query    |   750 |     3368 |         6\n",
      "  gallery  |   751 |    15913 |         6\n",
      "  ----------------------------------------\n",
      "=> Loading test (target) dataset\n",
      "=> Loaded Market1501\n",
      "  ----------------------------------------\n",
      "  subset   | # ids | # images | # cameras\n",
      "  ----------------------------------------\n",
      "  train    |   751 |    12936 |         6\n",
      "  query    |   750 |     3368 |         6\n",
      "  gallery  |   751 |    15913 |         6\n",
      "  ----------------------------------------\n",
      "\n",
      "\n",
      "  **************** Summary ****************\n",
      "  source            : ['market1501']\n",
      "  # source datasets : 1\n",
      "  # source ids      : 751\n",
      "  # source images   : 12936\n",
      "  # source cameras  : 6\n",
      "  target            : ['market1501']\n",
      "  *****************************************\n",
      "\n",
      "\n"
     ]
    }
   ],
   "source": [
    "import torchreid\n",
    "datamanager = torchreid.data.ImageDataManager(\n",
    "    root            = config['data']['root'],\n",
    "    sources         = config['data']['sources'],\n",
    "    targets         = config['data']['targets'],\n",
    "    height          = config['data']['height'],\n",
    "    width           = config['data']['width'],\n",
    "    batch_size_train= config['data']['batch_size'],\n",
    "    batch_size_test = config['data']['batch_size'],\n",
    "    transforms      = config['data']['transforms']\n",
    ")"
   ]
  },
  {
   "cell_type": "code",
   "execution_count": 3,
   "id": "98b6fddd-e9cd-431b-b7ec-5b82a0ab9fc5",
   "metadata": {
    "tags": []
   },
   "outputs": [
    {
     "name": "stdout",
     "output_type": "stream",
     "text": [
      "gem\n"
     ]
    }
   ],
   "source": [
    "model = torchreid.models.build_model(\n",
    "    name        = config['model']['name'],\n",
    "    num_classes = 2000 if 'tango2000' in config['data']['sources'] else datamanager.num_train_pids, #2000 for Tango\n",
    "    loss        = config['loss']['name'],\n",
    "    pretrained  = config['model']['pretrained'],\n",
    "    pooling     = config['model']['final_pooling'],\n",
    "    **config['custom']\n",
    ")\n",
    "model = model.cuda()\n",
    "optimizer = torchreid.optim.build_optimizer(\n",
    "    model,\n",
    "    optim=config['train']['optim'],\n",
    "    lr=config['train']['lr']\n",
    ")\n",
    "\n",
    "scheduler = torchreid.optim.build_lr_scheduler(\n",
    "    optimizer,\n",
    "    **config['train']['lr_scheduler'],\n",
    ")"
   ]
  },
  {
   "cell_type": "code",
   "execution_count": 4,
   "id": "91dcfd04",
   "metadata": {},
   "outputs": [
    {
     "data": {
      "text/plain": [
       "ResNet(\n",
       "  (conv1): Conv2d(3, 64, kernel_size=(7, 7), stride=(2, 2), padding=(3, 3), bias=False)\n",
       "  (bn1): BatchNorm2d(64, eps=1e-05, momentum=0.1, affine=True, track_running_stats=True)\n",
       "  (relu): ReLU(inplace=True)\n",
       "  (maxpool): MaxPool2d(kernel_size=3, stride=2, padding=1, dilation=1, ceil_mode=False)\n",
       "  (layer1): Sequential(\n",
       "    (0): Bottleneck(\n",
       "      (conv1): Conv2d(64, 64, kernel_size=(1, 1), stride=(1, 1), bias=False)\n",
       "      (bn1): BatchNorm2d(64, eps=1e-05, momentum=0.1, affine=True, track_running_stats=True)\n",
       "      (conv2): Conv2d(64, 64, kernel_size=(3, 3), stride=(1, 1), padding=(1, 1), bias=False)\n",
       "      (bn2): BatchNorm2d(64, eps=1e-05, momentum=0.1, affine=True, track_running_stats=True)\n",
       "      (conv3): Conv2d(64, 256, kernel_size=(1, 1), stride=(1, 1), bias=False)\n",
       "      (bn3): BatchNorm2d(256, eps=1e-05, momentum=0.1, affine=True, track_running_stats=True)\n",
       "      (relu): ReLU(inplace=True)\n",
       "      (downsample): Sequential(\n",
       "        (0): Conv2d(64, 256, kernel_size=(1, 1), stride=(1, 1), bias=False)\n",
       "        (1): BatchNorm2d(256, eps=1e-05, momentum=0.1, affine=True, track_running_stats=True)\n",
       "      )\n",
       "    )\n",
       "    (1): Bottleneck(\n",
       "      (conv1): Conv2d(256, 64, kernel_size=(1, 1), stride=(1, 1), bias=False)\n",
       "      (bn1): BatchNorm2d(64, eps=1e-05, momentum=0.1, affine=True, track_running_stats=True)\n",
       "      (conv2): Conv2d(64, 64, kernel_size=(3, 3), stride=(1, 1), padding=(1, 1), bias=False)\n",
       "      (bn2): BatchNorm2d(64, eps=1e-05, momentum=0.1, affine=True, track_running_stats=True)\n",
       "      (conv3): Conv2d(64, 256, kernel_size=(1, 1), stride=(1, 1), bias=False)\n",
       "      (bn3): BatchNorm2d(256, eps=1e-05, momentum=0.1, affine=True, track_running_stats=True)\n",
       "      (relu): ReLU(inplace=True)\n",
       "    )\n",
       "    (2): Bottleneck(\n",
       "      (conv1): Conv2d(256, 64, kernel_size=(1, 1), stride=(1, 1), bias=False)\n",
       "      (bn1): BatchNorm2d(64, eps=1e-05, momentum=0.1, affine=True, track_running_stats=True)\n",
       "      (conv2): Conv2d(64, 64, kernel_size=(3, 3), stride=(1, 1), padding=(1, 1), bias=False)\n",
       "      (bn2): BatchNorm2d(64, eps=1e-05, momentum=0.1, affine=True, track_running_stats=True)\n",
       "      (conv3): Conv2d(64, 256, kernel_size=(1, 1), stride=(1, 1), bias=False)\n",
       "      (bn3): BatchNorm2d(256, eps=1e-05, momentum=0.1, affine=True, track_running_stats=True)\n",
       "      (relu): ReLU(inplace=True)\n",
       "    )\n",
       "  )\n",
       "  (layer2): Sequential(\n",
       "    (0): Bottleneck(\n",
       "      (conv1): Conv2d(256, 128, kernel_size=(1, 1), stride=(1, 1), bias=False)\n",
       "      (bn1): BatchNorm2d(128, eps=1e-05, momentum=0.1, affine=True, track_running_stats=True)\n",
       "      (conv2): Conv2d(128, 128, kernel_size=(3, 3), stride=(2, 2), padding=(1, 1), bias=False)\n",
       "      (bn2): BatchNorm2d(128, eps=1e-05, momentum=0.1, affine=True, track_running_stats=True)\n",
       "      (conv3): Conv2d(128, 512, kernel_size=(1, 1), stride=(1, 1), bias=False)\n",
       "      (bn3): BatchNorm2d(512, eps=1e-05, momentum=0.1, affine=True, track_running_stats=True)\n",
       "      (relu): ReLU(inplace=True)\n",
       "      (downsample): Sequential(\n",
       "        (0): Conv2d(256, 512, kernel_size=(1, 1), stride=(2, 2), bias=False)\n",
       "        (1): BatchNorm2d(512, eps=1e-05, momentum=0.1, affine=True, track_running_stats=True)\n",
       "      )\n",
       "    )\n",
       "    (1): Bottleneck(\n",
       "      (conv1): Conv2d(512, 128, kernel_size=(1, 1), stride=(1, 1), bias=False)\n",
       "      (bn1): BatchNorm2d(128, eps=1e-05, momentum=0.1, affine=True, track_running_stats=True)\n",
       "      (conv2): Conv2d(128, 128, kernel_size=(3, 3), stride=(1, 1), padding=(1, 1), bias=False)\n",
       "      (bn2): BatchNorm2d(128, eps=1e-05, momentum=0.1, affine=True, track_running_stats=True)\n",
       "      (conv3): Conv2d(128, 512, kernel_size=(1, 1), stride=(1, 1), bias=False)\n",
       "      (bn3): BatchNorm2d(512, eps=1e-05, momentum=0.1, affine=True, track_running_stats=True)\n",
       "      (relu): ReLU(inplace=True)\n",
       "    )\n",
       "    (2): Bottleneck(\n",
       "      (conv1): Conv2d(512, 128, kernel_size=(1, 1), stride=(1, 1), bias=False)\n",
       "      (bn1): BatchNorm2d(128, eps=1e-05, momentum=0.1, affine=True, track_running_stats=True)\n",
       "      (conv2): Conv2d(128, 128, kernel_size=(3, 3), stride=(1, 1), padding=(1, 1), bias=False)\n",
       "      (bn2): BatchNorm2d(128, eps=1e-05, momentum=0.1, affine=True, track_running_stats=True)\n",
       "      (conv3): Conv2d(128, 512, kernel_size=(1, 1), stride=(1, 1), bias=False)\n",
       "      (bn3): BatchNorm2d(512, eps=1e-05, momentum=0.1, affine=True, track_running_stats=True)\n",
       "      (relu): ReLU(inplace=True)\n",
       "    )\n",
       "    (3): Bottleneck(\n",
       "      (conv1): Conv2d(512, 128, kernel_size=(1, 1), stride=(1, 1), bias=False)\n",
       "      (bn1): BatchNorm2d(128, eps=1e-05, momentum=0.1, affine=True, track_running_stats=True)\n",
       "      (conv2): Conv2d(128, 128, kernel_size=(3, 3), stride=(1, 1), padding=(1, 1), bias=False)\n",
       "      (bn2): BatchNorm2d(128, eps=1e-05, momentum=0.1, affine=True, track_running_stats=True)\n",
       "      (conv3): Conv2d(128, 512, kernel_size=(1, 1), stride=(1, 1), bias=False)\n",
       "      (bn3): BatchNorm2d(512, eps=1e-05, momentum=0.1, affine=True, track_running_stats=True)\n",
       "      (relu): ReLU(inplace=True)\n",
       "    )\n",
       "  )\n",
       "  (layer3): Sequential(\n",
       "    (0): Bottleneck(\n",
       "      (conv1): Conv2d(512, 256, kernel_size=(1, 1), stride=(1, 1), bias=False)\n",
       "      (bn1): BatchNorm2d(256, eps=1e-05, momentum=0.1, affine=True, track_running_stats=True)\n",
       "      (conv2): Conv2d(256, 256, kernel_size=(3, 3), stride=(2, 2), padding=(1, 1), bias=False)\n",
       "      (bn2): BatchNorm2d(256, eps=1e-05, momentum=0.1, affine=True, track_running_stats=True)\n",
       "      (conv3): Conv2d(256, 1024, kernel_size=(1, 1), stride=(1, 1), bias=False)\n",
       "      (bn3): BatchNorm2d(1024, eps=1e-05, momentum=0.1, affine=True, track_running_stats=True)\n",
       "      (relu): ReLU(inplace=True)\n",
       "      (downsample): Sequential(\n",
       "        (0): Conv2d(512, 1024, kernel_size=(1, 1), stride=(2, 2), bias=False)\n",
       "        (1): BatchNorm2d(1024, eps=1e-05, momentum=0.1, affine=True, track_running_stats=True)\n",
       "      )\n",
       "    )\n",
       "    (1): Bottleneck(\n",
       "      (conv1): Conv2d(1024, 256, kernel_size=(1, 1), stride=(1, 1), bias=False)\n",
       "      (bn1): BatchNorm2d(256, eps=1e-05, momentum=0.1, affine=True, track_running_stats=True)\n",
       "      (conv2): Conv2d(256, 256, kernel_size=(3, 3), stride=(1, 1), padding=(1, 1), bias=False)\n",
       "      (bn2): BatchNorm2d(256, eps=1e-05, momentum=0.1, affine=True, track_running_stats=True)\n",
       "      (conv3): Conv2d(256, 1024, kernel_size=(1, 1), stride=(1, 1), bias=False)\n",
       "      (bn3): BatchNorm2d(1024, eps=1e-05, momentum=0.1, affine=True, track_running_stats=True)\n",
       "      (relu): ReLU(inplace=True)\n",
       "    )\n",
       "    (2): Bottleneck(\n",
       "      (conv1): Conv2d(1024, 256, kernel_size=(1, 1), stride=(1, 1), bias=False)\n",
       "      (bn1): BatchNorm2d(256, eps=1e-05, momentum=0.1, affine=True, track_running_stats=True)\n",
       "      (conv2): Conv2d(256, 256, kernel_size=(3, 3), stride=(1, 1), padding=(1, 1), bias=False)\n",
       "      (bn2): BatchNorm2d(256, eps=1e-05, momentum=0.1, affine=True, track_running_stats=True)\n",
       "      (conv3): Conv2d(256, 1024, kernel_size=(1, 1), stride=(1, 1), bias=False)\n",
       "      (bn3): BatchNorm2d(1024, eps=1e-05, momentum=0.1, affine=True, track_running_stats=True)\n",
       "      (relu): ReLU(inplace=True)\n",
       "    )\n",
       "    (3): Bottleneck(\n",
       "      (conv1): Conv2d(1024, 256, kernel_size=(1, 1), stride=(1, 1), bias=False)\n",
       "      (bn1): BatchNorm2d(256, eps=1e-05, momentum=0.1, affine=True, track_running_stats=True)\n",
       "      (conv2): Conv2d(256, 256, kernel_size=(3, 3), stride=(1, 1), padding=(1, 1), bias=False)\n",
       "      (bn2): BatchNorm2d(256, eps=1e-05, momentum=0.1, affine=True, track_running_stats=True)\n",
       "      (conv3): Conv2d(256, 1024, kernel_size=(1, 1), stride=(1, 1), bias=False)\n",
       "      (bn3): BatchNorm2d(1024, eps=1e-05, momentum=0.1, affine=True, track_running_stats=True)\n",
       "      (relu): ReLU(inplace=True)\n",
       "    )\n",
       "    (4): Bottleneck(\n",
       "      (conv1): Conv2d(1024, 256, kernel_size=(1, 1), stride=(1, 1), bias=False)\n",
       "      (bn1): BatchNorm2d(256, eps=1e-05, momentum=0.1, affine=True, track_running_stats=True)\n",
       "      (conv2): Conv2d(256, 256, kernel_size=(3, 3), stride=(1, 1), padding=(1, 1), bias=False)\n",
       "      (bn2): BatchNorm2d(256, eps=1e-05, momentum=0.1, affine=True, track_running_stats=True)\n",
       "      (conv3): Conv2d(256, 1024, kernel_size=(1, 1), stride=(1, 1), bias=False)\n",
       "      (bn3): BatchNorm2d(1024, eps=1e-05, momentum=0.1, affine=True, track_running_stats=True)\n",
       "      (relu): ReLU(inplace=True)\n",
       "    )\n",
       "    (5): Bottleneck(\n",
       "      (conv1): Conv2d(1024, 256, kernel_size=(1, 1), stride=(1, 1), bias=False)\n",
       "      (bn1): BatchNorm2d(256, eps=1e-05, momentum=0.1, affine=True, track_running_stats=True)\n",
       "      (conv2): Conv2d(256, 256, kernel_size=(3, 3), stride=(1, 1), padding=(1, 1), bias=False)\n",
       "      (bn2): BatchNorm2d(256, eps=1e-05, momentum=0.1, affine=True, track_running_stats=True)\n",
       "      (conv3): Conv2d(256, 1024, kernel_size=(1, 1), stride=(1, 1), bias=False)\n",
       "      (bn3): BatchNorm2d(1024, eps=1e-05, momentum=0.1, affine=True, track_running_stats=True)\n",
       "      (relu): ReLU(inplace=True)\n",
       "    )\n",
       "  )\n",
       "  (layer4): Sequential(\n",
       "    (0): Bottleneck(\n",
       "      (conv1): Conv2d(1024, 512, kernel_size=(1, 1), stride=(1, 1), bias=False)\n",
       "      (bn1): BatchNorm2d(512, eps=1e-05, momentum=0.1, affine=True, track_running_stats=True)\n",
       "      (conv2): Conv2d(512, 512, kernel_size=(3, 3), stride=(2, 2), padding=(1, 1), bias=False)\n",
       "      (bn2): BatchNorm2d(512, eps=1e-05, momentum=0.1, affine=True, track_running_stats=True)\n",
       "      (conv3): Conv2d(512, 2048, kernel_size=(1, 1), stride=(1, 1), bias=False)\n",
       "      (bn3): BatchNorm2d(2048, eps=1e-05, momentum=0.1, affine=True, track_running_stats=True)\n",
       "      (relu): ReLU(inplace=True)\n",
       "      (downsample): Sequential(\n",
       "        (0): Conv2d(1024, 2048, kernel_size=(1, 1), stride=(2, 2), bias=False)\n",
       "        (1): BatchNorm2d(2048, eps=1e-05, momentum=0.1, affine=True, track_running_stats=True)\n",
       "      )\n",
       "    )\n",
       "    (1): Bottleneck(\n",
       "      (conv1): Conv2d(2048, 512, kernel_size=(1, 1), stride=(1, 1), bias=False)\n",
       "      (bn1): BatchNorm2d(512, eps=1e-05, momentum=0.1, affine=True, track_running_stats=True)\n",
       "      (conv2): Conv2d(512, 512, kernel_size=(3, 3), stride=(1, 1), padding=(1, 1), bias=False)\n",
       "      (bn2): BatchNorm2d(512, eps=1e-05, momentum=0.1, affine=True, track_running_stats=True)\n",
       "      (conv3): Conv2d(512, 2048, kernel_size=(1, 1), stride=(1, 1), bias=False)\n",
       "      (bn3): BatchNorm2d(2048, eps=1e-05, momentum=0.1, affine=True, track_running_stats=True)\n",
       "      (relu): ReLU(inplace=True)\n",
       "    )\n",
       "    (2): Bottleneck(\n",
       "      (conv1): Conv2d(2048, 512, kernel_size=(1, 1), stride=(1, 1), bias=False)\n",
       "      (bn1): BatchNorm2d(512, eps=1e-05, momentum=0.1, affine=True, track_running_stats=True)\n",
       "      (conv2): Conv2d(512, 512, kernel_size=(3, 3), stride=(1, 1), padding=(1, 1), bias=False)\n",
       "      (bn2): BatchNorm2d(512, eps=1e-05, momentum=0.1, affine=True, track_running_stats=True)\n",
       "      (conv3): Conv2d(512, 2048, kernel_size=(1, 1), stride=(1, 1), bias=False)\n",
       "      (bn3): BatchNorm2d(2048, eps=1e-05, momentum=0.1, affine=True, track_running_stats=True)\n",
       "      (relu): ReLU(inplace=True)\n",
       "    )\n",
       "  )\n",
       "  (pool): GeM(p=3.0000, eps=1e-06)\n",
       "  (classifier): Linear(in_features=2048, out_features=751, bias=True)\n",
       ")"
      ]
     },
     "execution_count": 4,
     "metadata": {},
     "output_type": "execute_result"
    }
   ],
   "source": [
    "model"
   ]
  },
  {
   "cell_type": "code",
   "execution_count": 5,
   "id": "39cf1e57-0dce-4a74-8c35-bd4d7e4ad2ff",
   "metadata": {
    "tags": []
   },
   "outputs": [],
   "source": [
    "# from tools.visualize_actmap import visactmap\n",
    "# test_loader = datamanager.test_loader\n",
    "# visactmap(model, test_loader, f\"log/visactmap_{model_name}_{dataset_name}\", 128, 256, True, [0.485, 0.456, 0.406], [0.229, 0.224, 0.225])"
   ]
  },
  {
   "cell_type": "code",
   "execution_count": 6,
   "id": "1b07cb99-fad4-47c9-9a17-3f87d0db5dfe",
   "metadata": {
    "tags": []
   },
   "outputs": [],
   "source": [
    "engine = torchreid.engine.ImageTripletEngine(\n",
    "    datamanager,\n",
    "    model,\n",
    "    optimizer=optimizer,\n",
    "    scheduler=scheduler,\n",
    "    label_smooth=config['loss']['softmax']['label_smooth'],\n",
    "    logger=wandb\n",
    ")"
   ]
  },
  {
   "cell_type": "code",
   "execution_count": 7,
   "id": "4a080fba-1edf-4104-a162-cf93bda57559",
   "metadata": {
    "tags": []
   },
   "outputs": [
    {
     "name": "stdout",
     "output_type": "stream",
     "text": [
      "=> Start training\n",
      "epoch: [1/60][50/101]\ttime 0.184 (0.196)\tdata 0.000 (0.005)\teta 0:19:37\tloss_t 0.3113 (0.4974)\tloss_x 6.0128 (6.5773)\tacc 9.3750 (2.5938)\tlr 0.000300\n",
      "epoch: [1/60][100/101]\ttime 0.172 (0.186)\tdata 0.000 (0.003)\teta 0:18:28\tloss_t 0.3599 (0.4088)\tloss_x 4.7909 (6.0163)\tacc 24.2188 (7.3516)\tlr 0.000300\n",
      "epoch: [2/60][50/101]\ttime 0.171 (0.173)\tdata 0.000 (0.004)\teta 0:16:59\tloss_t 0.0438 (0.3496)\tloss_x 3.6766 (4.1356)\tacc 42.9688 (31.5312)\tlr 0.000300\n",
      "epoch: [2/60][100/101]\ttime 0.170 (0.173)\tdata 0.000 (0.002)\teta 0:16:56\tloss_t 0.2461 (0.3163)\tloss_x 2.8957 (3.7200)\tacc 62.5000 (39.8438)\tlr 0.000300\n",
      "epoch: [3/60][50/101]\ttime 0.171 (0.172)\tdata 0.000 (0.004)\teta 0:16:38\tloss_t 0.1310 (0.2230)\tloss_x 2.5235 (2.6323)\tacc 65.6250 (63.4375)\tlr 0.000300\n",
      "epoch: [3/60][100/101]\ttime 0.170 (0.171)\tdata 0.000 (0.002)\teta 0:16:27\tloss_t 0.1138 (0.2206)\tloss_x 2.2320 (2.4979)\tacc 74.2188 (67.1250)\tlr 0.000300\n",
      "epoch: [4/60][50/101]\ttime 0.171 (0.173)\tdata 0.000 (0.003)\teta 0:16:25\tloss_t 0.0161 (0.1534)\tloss_x 1.9531 (2.0183)\tacc 82.0312 (80.2344)\tlr 0.000300\n",
      "epoch: [4/60][100/101]\ttime 0.171 (0.171)\tdata 0.000 (0.002)\teta 0:16:09\tloss_t 0.0850 (0.1515)\tloss_x 1.9771 (1.9684)\tacc 78.9062 (81.2422)\tlr 0.000300\n",
      "epoch: [5/60][50/101]\ttime 0.171 (0.173)\tdata 0.000 (0.004)\teta 0:16:11\tloss_t 0.0000 (0.1203)\tloss_x 1.7635 (1.7444)\tacc 89.0625 (87.3750)\tlr 0.000300\n",
      "epoch: [5/60][100/101]\ttime 0.169 (0.173)\tdata 0.000 (0.002)\teta 0:16:01\tloss_t 0.2675 (0.1144)\tloss_x 1.7428 (1.7341)\tacc 88.2812 (87.6016)\tlr 0.000300\n",
      "##### Evaluating market1501 (source) #####\n",
      "Extracting features from query set ...\n",
      "Done, obtained 3368-by-2048 matrix\n",
      "Extracting features from gallery set ...\n",
      "Done, obtained 15913-by-2048 matrix\n",
      "Speed: 0.0020 sec/batch\n",
      "Computing distance matrix with metric=euclidean ...\n",
      "Computing CMC and mAP ...\n",
      "[   0  455    0 ... 1026  668  723] <class 'numpy.ndarray'> False\n",
      "** Results **\n",
      "mAP: 51.6%\n",
      "CMC curve\n",
      "Rank-1  : 73.1%\n",
      "Rank-5  : 87.9%\n",
      "Rank-10 : 91.5%\n",
      "Rank-20 : 94.2%\n",
      "Checkpoint saved to \"log/resnet50_market1501/model/model.pth.tar-5\"\n",
      "epoch: [6/60][50/101]\ttime 0.171 (0.174)\tdata 0.000 (0.004)\teta 0:15:55\tloss_t 0.0927 (0.0980)\tloss_x 1.6569 (1.6201)\tacc 92.1875 (90.8281)\tlr 0.000300\n",
      "epoch: [6/60][100/101]\ttime 0.170 (0.173)\tdata 0.000 (0.002)\teta 0:15:41\tloss_t 0.0232 (0.1058)\tloss_x 1.6298 (1.6246)\tacc 91.4062 (90.6250)\tlr 0.000300\n",
      "epoch: [7/60][50/101]\ttime 0.171 (0.173)\tdata 0.000 (0.004)\teta 0:15:32\tloss_t 0.0321 (0.0939)\tloss_x 1.4937 (1.5485)\tacc 96.0938 (92.5000)\tlr 0.000300\n",
      "epoch: [7/60][100/101]\ttime 0.169 (0.172)\tdata 0.000 (0.002)\teta 0:15:20\tloss_t 0.2337 (0.0849)\tloss_x 1.5448 (1.5329)\tacc 92.9688 (92.8359)\tlr 0.000300\n",
      "epoch: [8/60][50/101]\ttime 0.171 (0.173)\tdata 0.000 (0.004)\teta 0:15:14\tloss_t 0.0361 (0.0454)\tloss_x 1.5145 (1.4396)\tacc 91.4062 (94.7344)\tlr 0.000300\n",
      "epoch: [8/60][100/101]\ttime 0.170 (0.172)\tdata 0.000 (0.002)\teta 0:15:01\tloss_t 0.0000 (0.0503)\tloss_x 1.5431 (1.4386)\tacc 92.1875 (94.6562)\tlr 0.000300\n",
      "epoch: [9/60][50/101]\ttime 0.171 (0.173)\tdata 0.000 (0.004)\teta 0:14:57\tloss_t 0.1863 (0.0447)\tloss_x 1.4497 (1.3891)\tacc 95.3125 (95.7500)\tlr 0.000300\n",
      "epoch: [9/60][100/101]\ttime 0.170 (0.173)\tdata 0.000 (0.002)\teta 0:14:49\tloss_t 0.1177 (0.0453)\tloss_x 1.4860 (1.3995)\tacc 92.9688 (95.5078)\tlr 0.000300\n",
      "epoch: [10/60][50/101]\ttime 0.169 (0.173)\tdata 0.000 (0.004)\teta 0:14:40\tloss_t 0.0000 (0.0341)\tloss_x 1.4086 (1.3672)\tacc 93.7500 (96.0000)\tlr 0.000300\n",
      "epoch: [10/60][100/101]\ttime 0.172 (0.172)\tdata 0.000 (0.002)\teta 0:14:27\tloss_t 0.1471 (0.0446)\tloss_x 1.4319 (1.3878)\tacc 96.0938 (95.4531)\tlr 0.000300\n",
      "##### Evaluating market1501 (source) #####\n",
      "Extracting features from query set ...\n",
      "Done, obtained 3368-by-2048 matrix\n",
      "Extracting features from gallery set ...\n",
      "Done, obtained 15913-by-2048 matrix\n",
      "Speed: 0.0017 sec/batch\n",
      "Computing distance matrix with metric=euclidean ...\n",
      "Computing CMC and mAP ...\n",
      "[   0  455    0 ... 1026  668  723] <class 'numpy.ndarray'> False\n",
      "** Results **\n",
      "mAP: 55.8%\n",
      "CMC curve\n",
      "Rank-1  : 76.5%\n",
      "Rank-5  : 89.5%\n",
      "Rank-10 : 92.9%\n",
      "Rank-20 : 95.6%\n",
      "Checkpoint saved to \"log/resnet50_market1501/model/model.pth.tar-10\"\n",
      "epoch: [11/60][50/101]\ttime 0.171 (0.174)\tdata 0.000 (0.004)\teta 0:14:30\tloss_t 0.0213 (0.0387)\tloss_x 1.2907 (1.3470)\tacc 96.8750 (96.9219)\tlr 0.000300\n",
      "epoch: [11/60][100/101]\ttime 0.171 (0.173)\tdata 0.000 (0.002)\teta 0:14:14\tloss_t 0.0183 (0.0413)\tloss_x 1.3434 (1.3486)\tacc 98.4375 (96.7344)\tlr 0.000300\n",
      "epoch: [12/60][50/101]\ttime 0.172 (0.174)\tdata 0.000 (0.004)\teta 0:14:12\tloss_t 0.0823 (0.0411)\tloss_x 1.3359 (1.3258)\tacc 96.0938 (96.9531)\tlr 0.000300\n",
      "epoch: [12/60][100/101]\ttime 0.171 (0.173)\tdata 0.000 (0.002)\teta 0:13:57\tloss_t 0.0051 (0.0370)\tloss_x 1.3006 (1.3248)\tacc 98.4375 (96.9375)\tlr 0.000300\n",
      "epoch: [13/60][50/101]\ttime 0.171 (0.173)\tdata 0.000 (0.004)\teta 0:13:49\tloss_t 0.0269 (0.0336)\tloss_x 1.3071 (1.2901)\tacc 98.4375 (97.9219)\tlr 0.000300\n",
      "epoch: [13/60][100/101]\ttime 0.170 (0.172)\tdata 0.000 (0.002)\teta 0:13:36\tloss_t 0.1245 (0.0335)\tloss_x 1.3292 (1.2991)\tacc 96.8750 (97.5547)\tlr 0.000300\n",
      "epoch: [14/60][50/101]\ttime 0.173 (0.174)\tdata 0.000 (0.004)\teta 0:13:36\tloss_t 0.0391 (0.0428)\tloss_x 1.3043 (1.3004)\tacc 97.6562 (97.6719)\tlr 0.000300\n",
      "epoch: [14/60][100/101]\ttime 0.176 (0.174)\tdata 0.000 (0.002)\teta 0:13:28\tloss_t 0.1736 (0.0441)\tloss_x 1.3138 (1.3033)\tacc 97.6562 (97.5938)\tlr 0.000300\n",
      "epoch: [15/60][50/101]\ttime 0.163 (0.166)\tdata 0.000 (0.004)\teta 0:12:41\tloss_t 0.0355 (0.0276)\tloss_x 1.3006 (1.2762)\tacc 94.5312 (98.1875)\tlr 0.000300\n",
      "epoch: [15/60][100/101]\ttime 0.163 (0.165)\tdata 0.000 (0.002)\teta 0:12:29\tloss_t 0.0000 (0.0254)\tloss_x 1.2613 (1.2695)\tacc 99.2188 (98.3047)\tlr 0.000300\n",
      "##### Evaluating market1501 (source) #####\n",
      "Extracting features from query set ...\n",
      "Done, obtained 3368-by-2048 matrix\n",
      "Extracting features from gallery set ...\n",
      "Done, obtained 15913-by-2048 matrix\n",
      "Speed: 0.0016 sec/batch\n",
      "Computing distance matrix with metric=euclidean ...\n",
      "Computing CMC and mAP ...\n",
      "[   0  455    0 ... 1026  668  723] <class 'numpy.ndarray'> False\n",
      "** Results **\n",
      "mAP: 59.4%\n",
      "CMC curve\n",
      "Rank-1  : 81.3%\n",
      "Rank-5  : 91.6%\n",
      "Rank-10 : 94.4%\n",
      "Rank-20 : 96.1%\n",
      "Checkpoint saved to \"log/resnet50_market1501/model/model.pth.tar-15\"\n",
      "epoch: [16/60][50/101]\ttime 0.163 (0.168)\tdata 0.000 (0.004)\teta 0:12:33\tloss_t 0.0424 (0.0115)\tloss_x 1.2081 (1.2171)\tacc 99.2188 (98.6875)\tlr 0.000300\n",
      "epoch: [16/60][100/101]\ttime 0.164 (0.166)\tdata 0.000 (0.002)\teta 0:12:17\tloss_t 0.0121 (0.0129)\tloss_x 1.2020 (1.2157)\tacc 100.0000 (98.6562)\tlr 0.000300\n",
      "epoch: [17/60][50/101]\ttime 0.171 (0.168)\tdata 0.000 (0.004)\teta 0:12:18\tloss_t 0.0604 (0.0178)\tloss_x 1.2551 (1.2320)\tacc 98.4375 (98.5469)\tlr 0.000300\n",
      "epoch: [17/60][100/101]\ttime 0.163 (0.167)\tdata 0.000 (0.002)\teta 0:12:03\tloss_t 0.0426 (0.0196)\tloss_x 1.2762 (1.2467)\tacc 98.4375 (98.2266)\tlr 0.000300\n",
      "epoch: [18/60][50/101]\ttime 0.163 (0.167)\tdata 0.000 (0.004)\teta 0:11:55\tloss_t 0.0126 (0.0200)\tloss_x 1.1966 (1.2315)\tacc 100.0000 (98.5156)\tlr 0.000300\n",
      "epoch: [18/60][100/101]\ttime 0.162 (0.165)\tdata 0.000 (0.002)\teta 0:11:40\tloss_t 0.0248 (0.0258)\tloss_x 1.2621 (1.2475)\tacc 100.0000 (98.1719)\tlr 0.000300\n",
      "epoch: [19/60][50/101]\ttime 0.164 (0.167)\tdata 0.000 (0.004)\teta 0:11:38\tloss_t 0.0000 (0.0214)\tloss_x 1.2409 (1.2268)\tacc 98.4375 (98.9062)\tlr 0.000300\n",
      "epoch: [19/60][100/101]\ttime 0.162 (0.167)\tdata 0.000 (0.002)\teta 0:11:32\tloss_t 0.0035 (0.0210)\tloss_x 1.2057 (1.2311)\tacc 100.0000 (98.5938)\tlr 0.000300\n",
      "epoch: [20/60][50/101]\ttime 0.164 (0.170)\tdata 0.000 (0.004)\teta 0:11:36\tloss_t 0.0126 (0.0220)\tloss_x 1.2641 (1.2158)\tacc 99.2188 (98.9688)\tlr 0.000300\n",
      "epoch: [20/60][100/101]\ttime 0.164 (0.168)\tdata 0.000 (0.002)\teta 0:11:18\tloss_t 0.2983 (0.0283)\tloss_x 1.2609 (1.2348)\tacc 97.6562 (98.3906)\tlr 0.000300\n",
      "##### Evaluating market1501 (source) #####\n",
      "Extracting features from query set ...\n",
      "Done, obtained 3368-by-2048 matrix\n",
      "Extracting features from gallery set ...\n",
      "Done, obtained 15913-by-2048 matrix\n",
      "Speed: 0.0016 sec/batch\n",
      "Computing distance matrix with metric=euclidean ...\n",
      "Computing CMC and mAP ...\n",
      "[   0  455    0 ... 1026  668  723] <class 'numpy.ndarray'> False\n",
      "** Results **\n",
      "mAP: 57.2%\n",
      "CMC curve\n",
      "Rank-1  : 77.8%\n",
      "Rank-5  : 90.3%\n",
      "Rank-10 : 93.5%\n",
      "Rank-20 : 95.8%\n",
      "Checkpoint saved to \"log/resnet50_market1501/model/model.pth.tar-20\"\n",
      "epoch: [21/60][50/101]\ttime 0.163 (0.165)\tdata 0.000 (0.004)\teta 0:10:59\tloss_t 0.0000 (0.0176)\tloss_x 1.1636 (1.1776)\tacc 99.2188 (99.2812)\tlr 0.000030\n",
      "epoch: [21/60][100/101]\ttime 0.162 (0.164)\tdata 0.000 (0.002)\teta 0:10:46\tloss_t 0.0105 (0.0151)\tloss_x 1.1243 (1.1575)\tacc 100.0000 (99.4766)\tlr 0.000030\n",
      "epoch: [22/60][50/101]\ttime 0.164 (0.171)\tdata 0.000 (0.004)\teta 0:11:05\tloss_t 0.0110 (0.0144)\tloss_x 1.1077 (1.1191)\tacc 100.0000 (99.9844)\tlr 0.000030\n",
      "epoch: [22/60][100/101]\ttime 0.163 (0.168)\tdata 0.000 (0.002)\teta 0:10:43\tloss_t 0.0000 (0.0112)\tloss_x 1.1129 (1.1158)\tacc 100.0000 (99.9141)\tlr 0.000030\n",
      "epoch: [23/60][50/101]\ttime 0.164 (0.166)\tdata 0.000 (0.004)\teta 0:10:28\tloss_t 0.0025 (0.0078)\tloss_x 1.0966 (1.1028)\tacc 100.0000 (99.8906)\tlr 0.000030\n",
      "epoch: [23/60][100/101]\ttime 0.164 (0.167)\tdata 0.000 (0.002)\teta 0:10:25\tloss_t 0.0000 (0.0057)\tloss_x 1.0925 (1.1008)\tacc 100.0000 (99.9141)\tlr 0.000030\n",
      "epoch: [24/60][50/101]\ttime 0.164 (0.166)\tdata 0.000 (0.004)\teta 0:10:12\tloss_t 0.0493 (0.0068)\tloss_x 1.0954 (1.0941)\tacc 100.0000 (99.8906)\tlr 0.000030\n",
      "epoch: [24/60][100/101]\ttime 0.163 (0.165)\tdata 0.000 (0.002)\teta 0:09:59\tloss_t 0.0000 (0.0061)\tloss_x 1.0881 (1.0932)\tacc 100.0000 (99.9062)\tlr 0.000030\n",
      "epoch: [25/60][50/101]\ttime 0.168 (0.166)\tdata 0.000 (0.004)\teta 0:09:56\tloss_t 0.0000 (0.0058)\tloss_x 1.0859 (1.0874)\tacc 100.0000 (99.9375)\tlr 0.000030\n",
      "epoch: [25/60][100/101]\ttime 0.164 (0.168)\tdata 0.000 (0.002)\teta 0:09:55\tloss_t 0.0000 (0.0036)\tloss_x 1.0861 (1.0860)\tacc 99.2188 (99.9297)\tlr 0.000030\n",
      "##### Evaluating market1501 (source) #####\n",
      "Extracting features from query set ...\n",
      "Done, obtained 3368-by-2048 matrix\n",
      "Extracting features from gallery set ...\n",
      "Done, obtained 15913-by-2048 matrix\n",
      "Speed: 0.0017 sec/batch\n",
      "Computing distance matrix with metric=euclidean ...\n",
      "Computing CMC and mAP ...\n",
      "[   0  455    0 ... 1026  668  723] <class 'numpy.ndarray'> False\n",
      "** Results **\n",
      "mAP: 67.9%\n",
      "CMC curve\n",
      "Rank-1  : 85.4%\n",
      "Rank-5  : 94.4%\n",
      "Rank-10 : 96.2%\n",
      "Rank-20 : 97.3%\n",
      "Checkpoint saved to \"log/resnet50_market1501/model/model.pth.tar-25\"\n",
      "epoch: [26/60][50/101]\ttime 0.182 (0.168)\tdata 0.000 (0.004)\teta 0:09:43\tloss_t 0.0051 (0.0034)\tloss_x 1.0792 (1.0804)\tacc 100.0000 (99.9375)\tlr 0.000030\n",
      "epoch: [26/60][100/101]\ttime 0.163 (0.168)\tdata 0.000 (0.002)\teta 0:09:35\tloss_t 0.0000 (0.0030)\tloss_x 1.0744 (1.0802)\tacc 100.0000 (99.9531)\tlr 0.000030\n",
      "epoch: [27/60][50/101]\ttime 0.165 (0.169)\tdata 0.000 (0.004)\teta 0:09:31\tloss_t 0.0000 (0.0024)\tloss_x 1.0756 (1.0750)\tacc 100.0000 (100.0000)\tlr 0.000030\n",
      "epoch: [27/60][100/101]\ttime 0.163 (0.166)\tdata 0.000 (0.002)\teta 0:09:14\tloss_t 0.0000 (0.0034)\tloss_x 1.0823 (1.0752)\tacc 100.0000 (99.9766)\tlr 0.000030\n",
      "epoch: [28/60][50/101]\ttime 0.164 (0.166)\tdata 0.000 (0.004)\teta 0:09:04\tloss_t 0.0000 (0.0016)\tloss_x 1.0632 (1.0711)\tacc 100.0000 (99.9688)\tlr 0.000030\n",
      "epoch: [28/60][100/101]\ttime 0.162 (0.165)\tdata 0.000 (0.002)\teta 0:08:51\tloss_t 0.0000 (0.0011)\tloss_x 1.0677 (1.0707)\tacc 100.0000 (99.9844)\tlr 0.000030\n",
      "epoch: [29/60][50/101]\ttime 0.163 (0.166)\tdata 0.000 (0.004)\teta 0:08:47\tloss_t 0.0000 (0.0046)\tloss_x 1.0596 (1.0669)\tacc 100.0000 (99.9688)\tlr 0.000030\n",
      "epoch: [29/60][100/101]\ttime 0.163 (0.166)\tdata 0.000 (0.002)\teta 0:08:39\tloss_t 0.0000 (0.0029)\tloss_x 1.0644 (1.0670)\tacc 100.0000 (99.9766)\tlr 0.000030\n",
      "epoch: [30/60][50/101]\ttime 0.163 (0.165)\tdata 0.000 (0.004)\teta 0:08:28\tloss_t 0.0000 (0.0009)\tloss_x 1.0590 (1.0647)\tacc 100.0000 (99.9844)\tlr 0.000030\n",
      "epoch: [30/60][100/101]\ttime 0.163 (0.164)\tdata 0.000 (0.002)\teta 0:08:18\tloss_t 0.0000 (0.0011)\tloss_x 1.0630 (1.0649)\tacc 100.0000 (99.9922)\tlr 0.000030\n",
      "##### Evaluating market1501 (source) #####\n",
      "Extracting features from query set ...\n",
      "Done, obtained 3368-by-2048 matrix\n",
      "Extracting features from gallery set ...\n",
      "Done, obtained 15913-by-2048 matrix\n",
      "Speed: 0.0017 sec/batch\n",
      "Computing distance matrix with metric=euclidean ...\n",
      "Computing CMC and mAP ...\n",
      "[   0  455    0 ... 1026  668  723] <class 'numpy.ndarray'> False\n",
      "** Results **\n",
      "mAP: 69.5%\n",
      "CMC curve\n",
      "Rank-1  : 86.6%\n",
      "Rank-5  : 94.4%\n",
      "Rank-10 : 96.2%\n",
      "Rank-20 : 97.5%\n",
      "Checkpoint saved to \"log/resnet50_market1501/model/model.pth.tar-30\"\n",
      "epoch: [31/60][50/101]\ttime 0.163 (0.165)\tdata 0.000 (0.004)\teta 0:08:12\tloss_t 0.0000 (0.0045)\tloss_x 1.0552 (1.0612)\tacc 100.0000 (99.9844)\tlr 0.000030\n",
      "epoch: [31/60][100/101]\ttime 0.164 (0.164)\tdata 0.000 (0.002)\teta 0:08:01\tloss_t 0.0000 (0.0030)\tloss_x 1.0550 (1.0619)\tacc 100.0000 (99.9844)\tlr 0.000030\n",
      "epoch: [32/60][50/101]\ttime 0.164 (0.172)\tdata 0.000 (0.004)\teta 0:08:16\tloss_t 0.0000 (0.0039)\tloss_x 1.0558 (1.0599)\tacc 100.0000 (100.0000)\tlr 0.000030\n",
      "epoch: [32/60][100/101]\ttime 0.163 (0.168)\tdata 0.000 (0.002)\teta 0:07:55\tloss_t 0.0000 (0.0032)\tloss_x 1.0597 (1.0603)\tacc 100.0000 (100.0000)\tlr 0.000030\n",
      "epoch: [33/60][50/101]\ttime 0.164 (0.166)\tdata 0.000 (0.004)\teta 0:07:40\tloss_t 0.0000 (0.0010)\tloss_x 1.0597 (1.0561)\tacc 100.0000 (100.0000)\tlr 0.000030\n",
      "epoch: [33/60][100/101]\ttime 0.165 (0.165)\tdata 0.000 (0.002)\teta 0:07:29\tloss_t 0.0000 (0.0013)\tloss_x 1.0573 (1.0566)\tacc 100.0000 (100.0000)\tlr 0.000030\n",
      "epoch: [34/60][50/101]\ttime 0.163 (0.166)\tdata 0.000 (0.004)\teta 0:07:24\tloss_t 0.0000 (0.0015)\tloss_x 1.0500 (1.0548)\tacc 100.0000 (99.9688)\tlr 0.000030\n",
      "epoch: [34/60][100/101]\ttime 0.163 (0.165)\tdata 0.000 (0.002)\teta 0:07:12\tloss_t 0.0000 (0.0018)\tloss_x 1.0636 (1.0550)\tacc 100.0000 (99.9766)\tlr 0.000030\n",
      "epoch: [35/60][50/101]\ttime 0.166 (0.167)\tdata 0.000 (0.004)\teta 0:07:09\tloss_t 0.0000 (0.0013)\tloss_x 1.0625 (1.0532)\tacc 100.0000 (100.0000)\tlr 0.000030\n",
      "epoch: [35/60][100/101]\ttime 0.163 (0.165)\tdata 0.000 (0.002)\teta 0:06:56\tloss_t 0.0000 (0.0015)\tloss_x 1.0454 (1.0533)\tacc 100.0000 (99.9844)\tlr 0.000030\n",
      "##### Evaluating market1501 (source) #####\n",
      "Extracting features from query set ...\n",
      "Done, obtained 3368-by-2048 matrix\n",
      "Extracting features from gallery set ...\n",
      "Done, obtained 15913-by-2048 matrix\n",
      "Speed: 0.0017 sec/batch\n",
      "Computing distance matrix with metric=euclidean ...\n",
      "Computing CMC and mAP ...\n",
      "[   0  455    0 ... 1026  668  723] <class 'numpy.ndarray'> False\n",
      "** Results **\n",
      "mAP: 70.3%\n",
      "CMC curve\n",
      "Rank-1  : 87.5%\n",
      "Rank-5  : 94.3%\n",
      "Rank-10 : 96.1%\n",
      "Rank-20 : 97.2%\n",
      "Checkpoint saved to \"log/resnet50_market1501/model/model.pth.tar-35\"\n",
      "epoch: [36/60][50/101]\ttime 0.163 (0.166)\tdata 0.000 (0.004)\teta 0:06:50\tloss_t 0.0000 (0.0003)\tloss_x 1.0559 (1.0518)\tacc 100.0000 (100.0000)\tlr 0.000030\n",
      "epoch: [36/60][100/101]\ttime 0.165 (0.165)\tdata 0.000 (0.002)\teta 0:06:40\tloss_t 0.0000 (0.0007)\tloss_x 1.0507 (1.0518)\tacc 100.0000 (100.0000)\tlr 0.000030\n",
      "epoch: [37/60][50/101]\ttime 0.163 (0.171)\tdata 0.000 (0.004)\teta 0:06:45\tloss_t 0.0000 (0.0014)\tloss_x 1.0467 (1.0505)\tacc 100.0000 (99.9844)\tlr 0.000030\n",
      "epoch: [37/60][100/101]\ttime 0.163 (0.167)\tdata 0.000 (0.002)\teta 0:06:28\tloss_t 0.0000 (0.0013)\tloss_x 1.0524 (1.0499)\tacc 100.0000 (99.9922)\tlr 0.000030\n",
      "epoch: [38/60][50/101]\ttime 0.163 (0.166)\tdata 0.000 (0.004)\teta 0:06:18\tloss_t 0.0000 (0.0000)\tloss_x 1.0537 (1.0475)\tacc 100.0000 (99.9844)\tlr 0.000030\n",
      "epoch: [38/60][100/101]\ttime 0.164 (0.167)\tdata 0.000 (0.002)\teta 0:06:10\tloss_t 0.0000 (0.0012)\tloss_x 1.0550 (1.0475)\tacc 100.0000 (99.9844)\tlr 0.000030\n",
      "epoch: [39/60][50/101]\ttime 0.164 (0.169)\tdata 0.000 (0.004)\teta 0:06:07\tloss_t 0.0000 (0.0012)\tloss_x 1.0447 (1.0460)\tacc 100.0000 (100.0000)\tlr 0.000030\n",
      "epoch: [39/60][100/101]\ttime 0.164 (0.167)\tdata 0.000 (0.002)\teta 0:05:53\tloss_t 0.0000 (0.0011)\tloss_x 1.0465 (1.0464)\tacc 100.0000 (100.0000)\tlr 0.000030\n",
      "epoch: [40/60][50/101]\ttime 0.165 (0.166)\tdata 0.000 (0.004)\teta 0:05:43\tloss_t 0.0000 (0.0004)\tloss_x 1.0426 (1.0430)\tacc 100.0000 (100.0000)\tlr 0.000030\n",
      "epoch: [40/60][100/101]\ttime 0.163 (0.165)\tdata 0.000 (0.002)\teta 0:05:33\tloss_t 0.0000 (0.0006)\tloss_x 1.0427 (1.0443)\tacc 100.0000 (99.9922)\tlr 0.000030\n",
      "##### Evaluating market1501 (source) #####\n",
      "Extracting features from query set ...\n",
      "Done, obtained 3368-by-2048 matrix\n",
      "Extracting features from gallery set ...\n",
      "Done, obtained 15913-by-2048 matrix\n",
      "Speed: 0.0016 sec/batch\n",
      "Computing distance matrix with metric=euclidean ...\n",
      "Computing CMC and mAP ...\n",
      "[   0  455    0 ... 1026  668  723] <class 'numpy.ndarray'> False\n",
      "** Results **\n",
      "mAP: 70.9%\n",
      "CMC curve\n",
      "Rank-1  : 87.8%\n",
      "Rank-5  : 94.2%\n",
      "Rank-10 : 96.2%\n",
      "Rank-20 : 97.7%\n",
      "Checkpoint saved to \"log/resnet50_market1501/model/model.pth.tar-40\"\n",
      "epoch: [41/60][50/101]\ttime 0.172 (0.174)\tdata 0.000 (0.004)\teta 0:05:42\tloss_t 0.0000 (0.0000)\tloss_x 1.0446 (1.0420)\tacc 100.0000 (100.0000)\tlr 0.000003\n",
      "epoch: [41/60][100/101]\ttime 0.177 (0.176)\tdata 0.000 (0.002)\teta 0:05:38\tloss_t 0.0000 (0.0001)\tloss_x 1.0411 (1.0416)\tacc 100.0000 (100.0000)\tlr 0.000003\n",
      "epoch: [42/60][50/101]\ttime 0.190 (0.181)\tdata 0.000 (0.004)\teta 0:05:39\tloss_t 0.0000 (0.0000)\tloss_x 1.0396 (1.0405)\tacc 100.0000 (100.0000)\tlr 0.000003\n",
      "epoch: [42/60][100/101]\ttime 0.178 (0.180)\tdata 0.000 (0.002)\teta 0:05:26\tloss_t 0.0000 (0.0001)\tloss_x 1.0393 (1.0401)\tacc 100.0000 (100.0000)\tlr 0.000003\n",
      "epoch: [43/60][50/101]\ttime 0.172 (0.174)\tdata 0.000 (0.004)\teta 0:05:07\tloss_t 0.0000 (0.0002)\tloss_x 1.0362 (1.0388)\tacc 100.0000 (100.0000)\tlr 0.000003\n",
      "epoch: [43/60][100/101]\ttime 0.173 (0.173)\tdata 0.000 (0.002)\teta 0:04:57\tloss_t 0.0000 (0.0008)\tloss_x 1.0412 (1.0388)\tacc 100.0000 (100.0000)\tlr 0.000003\n",
      "epoch: [44/60][50/101]\ttime 0.170 (0.174)\tdata 0.000 (0.004)\teta 0:04:49\tloss_t 0.0000 (0.0002)\tloss_x 1.0401 (1.0386)\tacc 100.0000 (100.0000)\tlr 0.000003\n",
      "epoch: [44/60][100/101]\ttime 0.175 (0.174)\tdata 0.000 (0.002)\teta 0:04:41\tloss_t 0.0000 (0.0007)\tloss_x 1.0383 (1.0385)\tacc 100.0000 (100.0000)\tlr 0.000003\n",
      "epoch: [45/60][50/101]\ttime 0.182 (0.176)\tdata 0.000 (0.004)\teta 0:04:35\tloss_t 0.0000 (0.0010)\tloss_x 1.0396 (1.0379)\tacc 100.0000 (100.0000)\tlr 0.000003\n",
      "epoch: [45/60][100/101]\ttime 0.175 (0.176)\tdata 0.000 (0.002)\teta 0:04:26\tloss_t 0.0000 (0.0007)\tloss_x 1.0369 (1.0378)\tacc 100.0000 (100.0000)\tlr 0.000003\n",
      "##### Evaluating market1501 (source) #####\n",
      "Extracting features from query set ...\n",
      "Done, obtained 3368-by-2048 matrix\n",
      "Extracting features from gallery set ...\n",
      "Done, obtained 15913-by-2048 matrix\n",
      "Speed: 0.0017 sec/batch\n",
      "Computing distance matrix with metric=euclidean ...\n",
      "Computing CMC and mAP ...\n",
      "[   0  455    0 ... 1026  668  723] <class 'numpy.ndarray'> False\n",
      "** Results **\n",
      "mAP: 71.2%\n",
      "CMC curve\n",
      "Rank-1  : 87.6%\n",
      "Rank-5  : 94.5%\n",
      "Rank-10 : 96.4%\n",
      "Rank-20 : 97.8%\n",
      "Checkpoint saved to \"log/resnet50_market1501/model/model.pth.tar-45\"\n",
      "epoch: [46/60][50/101]\ttime 0.171 (0.175)\tdata 0.000 (0.004)\teta 0:04:16\tloss_t 0.0000 (0.0011)\tloss_x 1.0372 (1.0375)\tacc 100.0000 (100.0000)\tlr 0.000003\n",
      "epoch: [46/60][100/101]\ttime 0.172 (0.174)\tdata 0.000 (0.002)\teta 0:04:06\tloss_t 0.0000 (0.0005)\tloss_x 1.0360 (1.0377)\tacc 100.0000 (100.0000)\tlr 0.000003\n",
      "epoch: [47/60][50/101]\ttime 0.171 (0.176)\tdata 0.000 (0.004)\teta 0:03:59\tloss_t 0.0000 (0.0002)\tloss_x 1.0351 (1.0370)\tacc 100.0000 (100.0000)\tlr 0.000003\n",
      "epoch: [47/60][100/101]\ttime 0.172 (0.174)\tdata 0.000 (0.002)\teta 0:03:49\tloss_t 0.0000 (0.0003)\tloss_x 1.0448 (1.0374)\tacc 100.0000 (100.0000)\tlr 0.000003\n",
      "epoch: [48/60][50/101]\ttime 0.172 (0.174)\tdata 0.000 (0.004)\teta 0:03:40\tloss_t 0.0000 (0.0000)\tloss_x 1.0397 (1.0373)\tacc 100.0000 (100.0000)\tlr 0.000003\n",
      "epoch: [48/60][100/101]\ttime 0.171 (0.173)\tdata 0.000 (0.002)\teta 0:03:30\tloss_t 0.0000 (0.0000)\tloss_x 1.0396 (1.0372)\tacc 100.0000 (100.0000)\tlr 0.000003\n",
      "epoch: [49/60][50/101]\ttime 0.174 (0.174)\tdata 0.000 (0.004)\teta 0:03:21\tloss_t 0.0000 (0.0002)\tloss_x 1.0358 (1.0369)\tacc 100.0000 (100.0000)\tlr 0.000003\n",
      "epoch: [49/60][100/101]\ttime 0.170 (0.173)\tdata 0.000 (0.002)\teta 0:03:12\tloss_t 0.0000 (0.0009)\tloss_x 1.0349 (1.0366)\tacc 100.0000 (100.0000)\tlr 0.000003\n",
      "epoch: [50/60][50/101]\ttime 0.177 (0.176)\tdata 0.000 (0.004)\teta 0:03:06\tloss_t 0.0000 (0.0001)\tloss_x 1.0383 (1.0368)\tacc 100.0000 (100.0000)\tlr 0.000003\n",
      "epoch: [50/60][100/101]\ttime 0.180 (0.179)\tdata 0.000 (0.002)\teta 0:03:01\tloss_t 0.0000 (0.0006)\tloss_x 1.0344 (1.0366)\tacc 100.0000 (100.0000)\tlr 0.000003\n",
      "##### Evaluating market1501 (source) #####\n",
      "Extracting features from query set ...\n",
      "Done, obtained 3368-by-2048 matrix\n",
      "Extracting features from gallery set ...\n",
      "Done, obtained 15913-by-2048 matrix\n",
      "Speed: 0.0017 sec/batch\n",
      "Computing distance matrix with metric=euclidean ...\n",
      "Computing CMC and mAP ...\n",
      "[   0  455    0 ... 1026  668  723] <class 'numpy.ndarray'> False\n",
      "** Results **\n",
      "mAP: 71.3%\n",
      "CMC curve\n",
      "Rank-1  : 87.6%\n",
      "Rank-5  : 94.7%\n",
      "Rank-10 : 96.5%\n",
      "Rank-20 : 97.8%\n",
      "Checkpoint saved to \"log/resnet50_market1501/model/model.pth.tar-50\"\n",
      "epoch: [51/60][50/101]\ttime 0.183 (0.180)\tdata 0.000 (0.004)\teta 0:02:52\tloss_t 0.0000 (0.0004)\tloss_x 1.0336 (1.0361)\tacc 100.0000 (100.0000)\tlr 0.000003\n",
      "epoch: [51/60][100/101]\ttime 0.183 (0.179)\tdata 0.000 (0.002)\teta 0:02:42\tloss_t 0.0041 (0.0004)\tloss_x 1.0369 (1.0362)\tacc 100.0000 (100.0000)\tlr 0.000003\n",
      "epoch: [52/60][50/101]\ttime 0.177 (0.178)\tdata 0.000 (0.004)\teta 0:02:32\tloss_t 0.0000 (0.0004)\tloss_x 1.0323 (1.0357)\tacc 100.0000 (100.0000)\tlr 0.000003\n",
      "epoch: [52/60][100/101]\ttime 0.173 (0.177)\tdata 0.000 (0.002)\teta 0:02:23\tloss_t 0.0000 (0.0006)\tloss_x 1.0406 (1.0359)\tacc 100.0000 (100.0000)\tlr 0.000003\n",
      "epoch: [53/60][50/101]\ttime 0.173 (0.176)\tdata 0.000 (0.004)\teta 0:02:13\tloss_t 0.0000 (0.0001)\tloss_x 1.0362 (1.0358)\tacc 100.0000 (100.0000)\tlr 0.000003\n",
      "epoch: [53/60][100/101]\ttime 0.184 (0.175)\tdata 0.000 (0.002)\teta 0:02:03\tloss_t 0.0000 (0.0009)\tloss_x 1.0323 (1.0361)\tacc 100.0000 (100.0000)\tlr 0.000003\n",
      "epoch: [54/60][50/101]\ttime 0.172 (0.177)\tdata 0.000 (0.004)\teta 0:01:56\tloss_t 0.0000 (0.0011)\tloss_x 1.0330 (1.0357)\tacc 100.0000 (100.0000)\tlr 0.000003\n",
      "epoch: [54/60][100/101]\ttime 0.172 (0.175)\tdata 0.000 (0.002)\teta 0:01:46\tloss_t 0.0000 (0.0006)\tloss_x 1.0416 (1.0359)\tacc 100.0000 (100.0000)\tlr 0.000003\n",
      "epoch: [55/60][50/101]\ttime 0.206 (0.177)\tdata 0.000 (0.004)\teta 0:01:38\tloss_t 0.0000 (0.0003)\tloss_x 1.0353 (1.0351)\tacc 100.0000 (100.0000)\tlr 0.000003\n",
      "epoch: [55/60][100/101]\ttime 0.175 (0.177)\tdata 0.000 (0.002)\teta 0:01:29\tloss_t 0.0000 (0.0002)\tloss_x 1.0339 (1.0352)\tacc 100.0000 (100.0000)\tlr 0.000003\n",
      "##### Evaluating market1501 (source) #####\n",
      "Extracting features from query set ...\n",
      "Done, obtained 3368-by-2048 matrix\n",
      "Extracting features from gallery set ...\n",
      "Done, obtained 15913-by-2048 matrix\n",
      "Speed: 0.0017 sec/batch\n",
      "Computing distance matrix with metric=euclidean ...\n",
      "Computing CMC and mAP ...\n",
      "[   0  455    0 ... 1026  668  723] <class 'numpy.ndarray'> False\n",
      "** Results **\n",
      "mAP: 71.5%\n",
      "CMC curve\n",
      "Rank-1  : 88.0%\n",
      "Rank-5  : 94.6%\n",
      "Rank-10 : 96.3%\n",
      "Rank-20 : 97.7%\n",
      "Checkpoint saved to \"log/resnet50_market1501/model/model.pth.tar-55\"\n",
      "epoch: [56/60][50/101]\ttime 0.162 (0.167)\tdata 0.000 (0.004)\teta 0:01:15\tloss_t 0.0000 (0.0003)\tloss_x 1.0318 (1.0348)\tacc 100.0000 (100.0000)\tlr 0.000003\n",
      "epoch: [56/60][100/101]\ttime 0.166 (0.165)\tdata 0.000 (0.002)\teta 0:01:06\tloss_t 0.0000 (0.0001)\tloss_x 1.0373 (1.0350)\tacc 100.0000 (100.0000)\tlr 0.000003\n",
      "epoch: [57/60][50/101]\ttime 0.165 (0.169)\tdata 0.000 (0.004)\teta 0:00:59\tloss_t 0.0000 (0.0002)\tloss_x 1.0352 (1.0345)\tacc 100.0000 (100.0000)\tlr 0.000003\n",
      "epoch: [57/60][100/101]\ttime 0.164 (0.169)\tdata 0.000 (0.002)\teta 0:00:51\tloss_t 0.0000 (0.0001)\tloss_x 1.0360 (1.0350)\tacc 100.0000 (100.0000)\tlr 0.000003\n",
      "epoch: [58/60][50/101]\ttime 0.163 (0.168)\tdata 0.000 (0.004)\teta 0:00:42\tloss_t 0.0000 (0.0004)\tloss_x 1.0386 (1.0351)\tacc 100.0000 (100.0000)\tlr 0.000003\n",
      "epoch: [58/60][100/101]\ttime 0.162 (0.165)\tdata 0.000 (0.002)\teta 0:00:33\tloss_t 0.0000 (0.0004)\tloss_x 1.0352 (1.0350)\tacc 100.0000 (100.0000)\tlr 0.000003\n",
      "epoch: [59/60][50/101]\ttime 0.167 (0.166)\tdata 0.000 (0.004)\teta 0:00:25\tloss_t 0.0000 (0.0000)\tloss_x 1.0349 (1.0347)\tacc 100.0000 (100.0000)\tlr 0.000003\n",
      "epoch: [59/60][100/101]\ttime 0.163 (0.166)\tdata 0.000 (0.002)\teta 0:00:16\tloss_t 0.0000 (0.0001)\tloss_x 1.0326 (1.0345)\tacc 100.0000 (100.0000)\tlr 0.000003\n",
      "epoch: [60/60][50/101]\ttime 0.166 (0.167)\tdata 0.000 (0.004)\teta 0:00:08\tloss_t 0.0000 (0.0000)\tloss_x 1.0346 (1.0345)\tacc 100.0000 (100.0000)\tlr 0.000003\n",
      "epoch: [60/60][100/101]\ttime 0.165 (0.167)\tdata 0.000 (0.002)\teta 0:00:00\tloss_t 0.0000 (0.0002)\tloss_x 1.0331 (1.0344)\tacc 100.0000 (100.0000)\tlr 0.000003\n",
      "=> Final test\n",
      "##### Evaluating market1501 (source) #####\n",
      "Extracting features from query set ...\n",
      "Done, obtained 3368-by-2048 matrix\n",
      "Extracting features from gallery set ...\n",
      "Done, obtained 15913-by-2048 matrix\n",
      "Speed: 0.0016 sec/batch\n",
      "Computing distance matrix with metric=euclidean ...\n",
      "Computing CMC and mAP ...\n",
      "[   0  455    0 ... 1026  668  723] <class 'numpy.ndarray'> False\n",
      "** Results **\n",
      "mAP: 71.6%\n",
      "CMC curve\n",
      "Rank-1  : 87.7%\n",
      "Rank-5  : 94.4%\n",
      "Rank-10 : 96.3%\n",
      "Rank-20 : 97.8%\n",
      "Checkpoint saved to \"log/resnet50_market1501/model/model.pth.tar-60\"\n",
      "Elapsed 0:25:07\n"
     ]
    }
   ],
   "source": [
    "engine.run(\n",
    "    save_dir=f\"log/{config['model']['name']}_{config['data']['sources'][0]}\",\n",
    "    max_epoch=60,\n",
    "    eval_freq=5,\n",
    "    print_freq=50,\n",
    "    test_only=False,\n",
    "    visrank=False,\n",
    "    eval_metric='default'\n",
    ")"
   ]
  },
  {
   "cell_type": "code",
   "execution_count": 8,
   "id": "baa17493",
   "metadata": {},
   "outputs": [
    {
     "data": {
      "application/vnd.jupyter.widget-view+json": {
       "model_id": "1d5d4bcdab304f07a05f0dda68770921",
       "version_major": 2,
       "version_minor": 0
      },
      "text/plain": [
       "VBox(children=(Label(value='0.004 MB of 0.004 MB uploaded\\r'), FloatProgress(value=1.0, max=1.0)))"
      ]
     },
     "metadata": {},
     "output_type": "display_data"
    },
    {
     "data": {
      "text/html": [
       "<style>\n",
       "    table.wandb td:nth-child(1) { padding: 0 10px; text-align: left ; width: auto;} td:nth-child(2) {text-align: left ; width: 100%}\n",
       "    .wandb-row { display: flex; flex-direction: row; flex-wrap: wrap; justify-content: flex-start; width: 100% }\n",
       "    .wandb-col { display: flex; flex-direction: column; flex-basis: 100%; flex: 1; padding: 10px; }\n",
       "    </style>\n",
       "<div class=\"wandb-row\"><div class=\"wandb-col\"><h3>Run history:</h3><br/><table class=\"wandb\"><tr><td>acc</td><td>▁▅▆█▇███████████████████████████████████</td></tr><tr><td>data_time</td><td>▁▁▂▃▁▁▁▁▁▁▂▂▁▁▁▁▁▁▁▂▁▁▁▁▁█▁▂▁▁▁▁▁▃▁▂▁▁▁▁</td></tr><tr><td>epoch</td><td>▁▁▁▁▂▂▂▂▂▃▃▃▃▃▃▄▄▄▄▄▅▅▅▅▅▅▆▆▆▆▆▆▇▇▇▇▇███</td></tr><tr><td>learning_rate</td><td>██████████████▂▂▂▂▂▂▂▂▂▂▂▂▂▁▁▁▁▁▁▁▁▁▁▁▁▁</td></tr><tr><td>loss_t</td><td>█▆▆▇▅▄▁▁▁▂▁▁▂▁▁▁▁▁▁▁▁▁▁▁▁▁▁▁▁▁▁▁▁▁▁▁▁▁▁▁</td></tr><tr><td>loss_x</td><td>█▄▂▂▂▂▂▁▁▁▁▁▁▁▁▁▁▁▁▁▁▁▁▁▁▁▁▁▁▁▁▁▁▁▁▁▁▁▁▁</td></tr><tr><td>mAP</td><td>▁▂▄▃▇▇██████</td></tr><tr><td>model_saved_at_epoch</td><td>▁▂▂▃▄▄▅▅▆▇▇█</td></tr><tr><td>rank_1</td><td>▁▃▅▃▇▇██████</td></tr><tr><td>train_time</td><td>▆▂▃▄▂▂▂▂▂▃▂▂▁▁▂▁▁▁▂▂▁▁▁▁▂█▁▅▃▃▃▃▂▆▃▄▃▂▁▁</td></tr></table><br/></div><div class=\"wandb-col\"><h3>Run summary:</h3><br/><table class=\"wandb\"><tr><td>acc</td><td>100.0</td></tr><tr><td>data_time</td><td>0.002</td></tr><tr><td>epoch</td><td>59</td></tr><tr><td>learning_rate</td><td>0.0</td></tr><tr><td>loss_t</td><td>0.0</td></tr><tr><td>loss_x</td><td>1.03175</td></tr><tr><td>mAP</td><td>0.71566</td></tr><tr><td>model_saved_at_epoch</td><td>59</td></tr><tr><td>rank_1</td><td>0.87738</td></tr><tr><td>train_time</td><td>0.16666</td></tr></table><br/></div></div>"
      ],
      "text/plain": [
       "<IPython.core.display.HTML object>"
      ]
     },
     "metadata": {},
     "output_type": "display_data"
    },
    {
     "data": {
      "text/html": [
       " View run <strong style=\"color:#cdcd00\">golden-field-9</strong> at: <a href='https://wandb.ai/tangoeye/REID-V3/runs/2h3d3dxu' target=\"_blank\">https://wandb.ai/tangoeye/REID-V3/runs/2h3d3dxu</a><br/> View project at: <a href='https://wandb.ai/tangoeye/REID-V3' target=\"_blank\">https://wandb.ai/tangoeye/REID-V3</a><br/>Synced 6 W&B file(s), 0 media file(s), 0 artifact file(s) and 0 other file(s)"
      ],
      "text/plain": [
       "<IPython.core.display.HTML object>"
      ]
     },
     "metadata": {},
     "output_type": "display_data"
    },
    {
     "data": {
      "text/html": [
       "Find logs at: <code>./wandb/run-20240609_131428-2h3d3dxu/logs</code>"
      ],
      "text/plain": [
       "<IPython.core.display.HTML object>"
      ]
     },
     "metadata": {},
     "output_type": "display_data"
    }
   ],
   "source": [
    "wandb.finish()"
   ]
  }
 ],
 "metadata": {
  "kernelspec": {
   "display_name": "Python 3 (ipykernel)",
   "language": "python",
   "name": "python3"
  },
  "language_info": {
   "codemirror_mode": {
    "name": "ipython",
    "version": 3
   },
   "file_extension": ".py",
   "mimetype": "text/x-python",
   "name": "python",
   "nbconvert_exporter": "python",
   "pygments_lexer": "ipython3",
   "version": "3.10.14"
  }
 },
 "nbformat": 4,
 "nbformat_minor": 5
}
