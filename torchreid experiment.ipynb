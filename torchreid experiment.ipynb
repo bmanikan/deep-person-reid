{
 "cells": [
  {
   "cell_type": "code",
   "execution_count": null,
   "id": "36609ee7-f1b7-485b-8522-c97a2e8363c3",
   "metadata": {
    "tags": []
   },
   "outputs": [
    {
     "name": "stdout",
     "output_type": "stream",
     "text": [
      "Building train transforms ...\n",
      "+ resize to 256x128\n",
      "+ random flip\n",
      "+ random crop (enlarge to 288x144 and crop 256x128)\n",
      "+ to torch tensor of range [0, 1]\n",
      "+ normalization (mean=[0.485, 0.456, 0.406], std=[0.229, 0.224, 0.225])\n",
      "Building test transforms ...\n",
      "+ resize to 256x128\n",
      "+ to torch tensor of range [0, 1]\n",
      "+ normalization (mean=[0.485, 0.456, 0.406], std=[0.229, 0.224, 0.225])\n",
      "=> Loading train (source) dataset\n"
     ]
    },
    {
     "name": "stderr",
     "output_type": "stream",
     "text": [
      "Downloading /home/trewq/Desktop/Projects/RetailAnalytics/REID/RESEARCH/deep-person-reid/reid-data/soccernetv3/reid/valid.zip...: : 2.35GiB [02:53, 13.5MiB/s]                                               \n"
     ]
    },
    {
     "name": "stdout",
     "output_type": "stream",
     "text": [
      "Unzipping valid set to '/home/trewq/Desktop/Projects/RetailAnalytics/REID/RESEARCH/deep-person-reid/reid-data/soccernetv3/reid' ...\n",
      "Deleting valid set zip file at '/home/trewq/Desktop/Projects/RetailAnalytics/REID/RESEARCH/deep-person-reid/reid-data/soccernetv3/reid/valid.zip'...\n",
      "SoccerNet valid set is ready.\n"
     ]
    },
    {
     "name": "stderr",
     "output_type": "stream",
     "text": [
      "Downloading /home/trewq/Desktop/Projects/RetailAnalytics/REID/RESEARCH/deep-person-reid/reid-data/soccernetv3/reid/train.zip...:  35%|███████████▏                    | 4.22G/12.1G [05:12<09:45, 13.5MiB/s]"
     ]
    }
   ],
   "source": [
    "import torchreid\n",
    "model_name = 'resnet18'\n",
    "dataset_name = 'soccernetv3'\n",
    "datamanager = torchreid.data.ImageDataManager(\n",
    "    root=\"reid-data\",\n",
    "    sources=dataset_name,\n",
    "    targets=dataset_name,\n",
    "    height=256,\n",
    "    width=128,\n",
    "    batch_size_train=32,\n",
    "    batch_size_test=100,\n",
    "    transforms=[\"random_flip\", \"random_crop\"]\n",
    ")"
   ]
  },
  {
   "cell_type": "code",
   "execution_count": 15,
   "id": "98b6fddd-e9cd-431b-b7ec-5b82a0ab9fc5",
   "metadata": {
    "tags": []
   },
   "outputs": [],
   "source": [
    "model = torchreid.models.build_model(\n",
    "    name=model_name,\n",
    "    num_classes=datamanager.num_train_pids, #2000 for Tango\n",
    "    loss=\"softmax\",\n",
    "    pretrained=True\n",
    ")\n",
    "model = model.cuda()\n",
    "optimizer = torchreid.optim.build_optimizer(\n",
    "    model,\n",
    "    optim=\"adam\",\n",
    "    lr=0.0003\n",
    ")\n",
    "\n",
    "scheduler = torchreid.optim.build_lr_scheduler(\n",
    "    optimizer,\n",
    "    lr_scheduler=\"single_step\",\n",
    "    stepsize=20\n",
    ")"
   ]
  },
  {
   "cell_type": "code",
   "execution_count": 3,
   "id": "39cf1e57-0dce-4a74-8c35-bd4d7e4ad2ff",
   "metadata": {
    "collapsed": true,
    "jupyter": {
     "outputs_hidden": true
    },
    "tags": []
   },
   "outputs": [
    {
     "name": "stdout",
     "output_type": "stream",
     "text": [
      "Visualizing activation maps for market1501 ...\n"
     ]
    },
    {
     "ename": "ValueError",
     "evalue": "The model output is supposed to have shape of (b, c, h, w), i.e. 4 dimensions, but got 3 dimensions. Please make sure you set the model output at eval mode to be the last convolutional feature maps",
     "output_type": "error",
     "traceback": [
      "\u001b[0;31m---------------------------------------------------------------------------\u001b[0m",
      "\u001b[0;31mValueError\u001b[0m                                Traceback (most recent call last)",
      "\u001b[0;32m/tmp/ipykernel_14443/2151601791.py\u001b[0m in \u001b[0;36m<module>\u001b[0;34m\u001b[0m\n\u001b[1;32m      1\u001b[0m \u001b[0;32mfrom\u001b[0m \u001b[0mtools\u001b[0m\u001b[0;34m.\u001b[0m\u001b[0mvisualize_actmap\u001b[0m \u001b[0;32mimport\u001b[0m \u001b[0mvisactmap\u001b[0m\u001b[0;34m\u001b[0m\u001b[0;34m\u001b[0m\u001b[0m\n\u001b[1;32m      2\u001b[0m \u001b[0mtest_loader\u001b[0m \u001b[0;34m=\u001b[0m \u001b[0mdatamanager\u001b[0m\u001b[0;34m.\u001b[0m\u001b[0mtest_loader\u001b[0m\u001b[0;34m\u001b[0m\u001b[0;34m\u001b[0m\u001b[0m\n\u001b[0;32m----> 3\u001b[0;31m \u001b[0mvisactmap\u001b[0m\u001b[0;34m(\u001b[0m\u001b[0mmodel\u001b[0m\u001b[0;34m,\u001b[0m \u001b[0mtest_loader\u001b[0m\u001b[0;34m,\u001b[0m \u001b[0;34mf\"log/visactmap_{model_name}_{dataset_name}\"\u001b[0m\u001b[0;34m,\u001b[0m \u001b[0;36m128\u001b[0m\u001b[0;34m,\u001b[0m \u001b[0;36m256\u001b[0m\u001b[0;34m,\u001b[0m \u001b[0;32mTrue\u001b[0m\u001b[0;34m,\u001b[0m \u001b[0;34m[\u001b[0m\u001b[0;36m0.485\u001b[0m\u001b[0;34m,\u001b[0m \u001b[0;36m0.456\u001b[0m\u001b[0;34m,\u001b[0m \u001b[0;36m0.406\u001b[0m\u001b[0;34m]\u001b[0m\u001b[0;34m,\u001b[0m \u001b[0;34m[\u001b[0m\u001b[0;36m0.229\u001b[0m\u001b[0;34m,\u001b[0m \u001b[0;36m0.224\u001b[0m\u001b[0;34m,\u001b[0m \u001b[0;36m0.225\u001b[0m\u001b[0;34m]\u001b[0m\u001b[0;34m)\u001b[0m\u001b[0;34m\u001b[0m\u001b[0;34m\u001b[0m\u001b[0m\n\u001b[0m",
      "\u001b[0;32m~/anaconda3/envs/torchreid/lib/python3.7/site-packages/torch/autograd/grad_mode.py\u001b[0m in \u001b[0;36mdecorate_context\u001b[0;34m(*args, **kwargs)\u001b[0m\n\u001b[1;32m     25\u001b[0m         \u001b[0;32mdef\u001b[0m \u001b[0mdecorate_context\u001b[0m\u001b[0;34m(\u001b[0m\u001b[0;34m*\u001b[0m\u001b[0margs\u001b[0m\u001b[0;34m,\u001b[0m \u001b[0;34m**\u001b[0m\u001b[0mkwargs\u001b[0m\u001b[0;34m)\u001b[0m\u001b[0;34m:\u001b[0m\u001b[0;34m\u001b[0m\u001b[0;34m\u001b[0m\u001b[0m\n\u001b[1;32m     26\u001b[0m             \u001b[0;32mwith\u001b[0m \u001b[0mself\u001b[0m\u001b[0;34m.\u001b[0m\u001b[0mclone\u001b[0m\u001b[0;34m(\u001b[0m\u001b[0;34m)\u001b[0m\u001b[0;34m:\u001b[0m\u001b[0;34m\u001b[0m\u001b[0;34m\u001b[0m\u001b[0m\n\u001b[0;32m---> 27\u001b[0;31m                 \u001b[0;32mreturn\u001b[0m \u001b[0mfunc\u001b[0m\u001b[0;34m(\u001b[0m\u001b[0;34m*\u001b[0m\u001b[0margs\u001b[0m\u001b[0;34m,\u001b[0m \u001b[0;34m**\u001b[0m\u001b[0mkwargs\u001b[0m\u001b[0;34m)\u001b[0m\u001b[0;34m\u001b[0m\u001b[0;34m\u001b[0m\u001b[0m\n\u001b[0m\u001b[1;32m     28\u001b[0m         \u001b[0;32mreturn\u001b[0m \u001b[0mcast\u001b[0m\u001b[0;34m(\u001b[0m\u001b[0mF\u001b[0m\u001b[0;34m,\u001b[0m \u001b[0mdecorate_context\u001b[0m\u001b[0;34m)\u001b[0m\u001b[0;34m\u001b[0m\u001b[0;34m\u001b[0m\u001b[0m\n\u001b[1;32m     29\u001b[0m \u001b[0;34m\u001b[0m\u001b[0m\n",
      "\u001b[0;32m~/Desktop/Projects/RetailAnalytics/REID/RESEARCH/deep-person-reid/tools/visualize_actmap.py\u001b[0m in \u001b[0;36mvisactmap\u001b[0;34m(model, test_loader, save_dir, width, height, use_gpu, img_mean, img_std)\u001b[0m\n\u001b[1;32m     68\u001b[0m                     \u001b[0;34m'Please make sure you set the model output at eval mode '\u001b[0m\u001b[0;34m\u001b[0m\u001b[0;34m\u001b[0m\u001b[0m\n\u001b[1;32m     69\u001b[0m                     'to be the last convolutional feature maps'.format(\n\u001b[0;32m---> 70\u001b[0;31m                         \u001b[0moutputs\u001b[0m\u001b[0;34m.\u001b[0m\u001b[0mdim\u001b[0m\u001b[0;34m(\u001b[0m\u001b[0;34m)\u001b[0m\u001b[0;34m\u001b[0m\u001b[0;34m\u001b[0m\u001b[0m\n\u001b[0m\u001b[1;32m     71\u001b[0m                     )\n\u001b[1;32m     72\u001b[0m                 )\n",
      "\u001b[0;31mValueError\u001b[0m: The model output is supposed to have shape of (b, c, h, w), i.e. 4 dimensions, but got 3 dimensions. Please make sure you set the model output at eval mode to be the last convolutional feature maps"
     ]
    }
   ],
   "source": [
    "from tools.visualize_actmap import visactmap\n",
    "test_loader = datamanager.test_loader\n",
    "visactmap(model, test_loader, f\"log/visactmap_{model_name}_{dataset_name}\", 128, 256, True, [0.485, 0.456, 0.406], [0.229, 0.224, 0.225])"
   ]
  },
  {
   "cell_type": "code",
   "execution_count": 16,
   "id": "1b07cb99-fad4-47c9-9a17-3f87d0db5dfe",
   "metadata": {
    "tags": []
   },
   "outputs": [],
   "source": [
    "engine = torchreid.engine.ImageSoftmaxEngine(\n",
    "    datamanager,\n",
    "    model,\n",
    "    optimizer=optimizer,\n",
    "    scheduler=scheduler,\n",
    "    label_smooth=True\n",
    ")"
   ]
  },
  {
   "cell_type": "code",
   "execution_count": 17,
   "id": "4a080fba-1edf-4104-a162-cf93bda57559",
   "metadata": {
    "tags": []
   },
   "outputs": [
    {
     "name": "stdout",
     "output_type": "stream",
     "text": [
      "=> Start training\n",
      "epoch: [1/60][100/404]\ttime 0.012 (0.014)\tdata 0.000 (0.001)\teta 0:05:31\tloss 6.0718 (6.4867)\tacc 9.3750 (3.2188)\tlr 0.000300\n",
      "epoch: [1/60][200/404]\ttime 0.012 (0.013)\tdata 0.000 (0.001)\teta 0:05:16\tloss 5.2781 (5.9913)\tacc 6.2500 (6.8750)\tlr 0.000300\n",
      "epoch: [1/60][300/404]\ttime 0.012 (0.013)\tdata 0.000 (0.000)\teta 0:05:10\tloss 4.3877 (5.5417)\tacc 15.6250 (12.2188)\tlr 0.000300\n",
      "epoch: [1/60][400/404]\ttime 0.012 (0.013)\tdata 0.000 (0.000)\teta 0:05:06\tloss 3.9319 (5.1082)\tacc 40.6250 (19.0469)\tlr 0.000300\n",
      "epoch: [2/60][100/404]\ttime 0.013 (0.013)\tdata 0.000 (0.001)\teta 0:05:18\tloss 3.2270 (3.0838)\tacc 50.0000 (53.5938)\tlr 0.000300\n",
      "epoch: [2/60][200/404]\ttime 0.012 (0.013)\tdata 0.000 (0.001)\teta 0:05:07\tloss 2.3503 (2.8779)\tacc 75.0000 (58.8906)\tlr 0.000300\n",
      "epoch: [2/60][300/404]\ttime 0.013 (0.013)\tdata 0.000 (0.000)\teta 0:05:02\tloss 1.9441 (2.7150)\tacc 81.2500 (62.6562)\tlr 0.000300\n",
      "epoch: [2/60][400/404]\ttime 0.012 (0.013)\tdata 0.000 (0.000)\teta 0:04:59\tloss 2.3661 (2.5889)\tacc 75.0000 (65.6875)\tlr 0.000300\n",
      "epoch: [3/60][100/404]\ttime 0.013 (0.013)\tdata 0.000 (0.001)\teta 0:05:13\tloss 1.8731 (1.8663)\tacc 93.7500 (84.1875)\tlr 0.000300\n",
      "epoch: [3/60][200/404]\ttime 0.012 (0.013)\tdata 0.000 (0.001)\teta 0:05:01\tloss 1.6466 (1.8330)\tacc 90.6250 (84.8750)\tlr 0.000300\n",
      "epoch: [3/60][300/404]\ttime 0.013 (0.013)\tdata 0.000 (0.000)\teta 0:04:57\tloss 1.7166 (1.8107)\tacc 90.6250 (85.3750)\tlr 0.000300\n",
      "epoch: [3/60][400/404]\ttime 0.012 (0.013)\tdata 0.000 (0.000)\teta 0:04:54\tloss 1.7829 (1.7900)\tacc 90.6250 (85.7969)\tlr 0.000300\n",
      "epoch: [4/60][100/404]\ttime 0.013 (0.013)\tdata 0.000 (0.001)\teta 0:05:07\tloss 1.4562 (1.5226)\tacc 93.7500 (92.8750)\tlr 0.000300\n",
      "epoch: [4/60][200/404]\ttime 0.012 (0.013)\tdata 0.000 (0.001)\teta 0:04:55\tloss 1.4374 (1.5266)\tacc 100.0000 (92.6250)\tlr 0.000300\n",
      "epoch: [4/60][300/404]\ttime 0.012 (0.013)\tdata 0.000 (0.000)\teta 0:04:51\tloss 1.4304 (1.5262)\tacc 96.8750 (92.4792)\tlr 0.000300\n",
      "epoch: [4/60][400/404]\ttime 0.012 (0.013)\tdata 0.000 (0.000)\teta 0:04:47\tloss 1.3745 (1.5267)\tacc 100.0000 (92.4844)\tlr 0.000300\n",
      "epoch: [5/60][100/404]\ttime 0.012 (0.013)\tdata 0.000 (0.001)\teta 0:05:00\tloss 1.4079 (1.4135)\tacc 93.7500 (95.4062)\tlr 0.000300\n",
      "epoch: [5/60][200/404]\ttime 0.012 (0.013)\tdata 0.000 (0.001)\teta 0:04:50\tloss 1.3764 (1.4139)\tacc 93.7500 (95.3594)\tlr 0.000300\n",
      "epoch: [5/60][300/404]\ttime 0.012 (0.013)\tdata 0.000 (0.000)\teta 0:04:45\tloss 1.3775 (1.4257)\tacc 90.6250 (94.6979)\tlr 0.000300\n",
      "epoch: [5/60][400/404]\ttime 0.012 (0.013)\tdata 0.000 (0.000)\teta 0:04:43\tloss 1.3122 (1.4232)\tacc 96.8750 (94.6719)\tlr 0.000300\n",
      "##### Evaluating market1501 (source) #####\n",
      "Extracting features from query set ...\n"
     ]
    },
    {
     "name": "stderr",
     "output_type": "stream",
     "text": [
      "100%|███████████████████████████████████████████████████████████████████████████████████████████████████████████████████████████████████████████████████████████████████████| 34/34 [00:00<00:00, 58.39it/s]\n"
     ]
    },
    {
     "name": "stdout",
     "output_type": "stream",
     "text": [
      "Done, obtained 3368-by-512 matrix\n",
      "Extracting features from gallery set ...\n"
     ]
    },
    {
     "name": "stderr",
     "output_type": "stream",
     "text": [
      "100%|█████████████████████████████████████████████████████████████████████████████████████████████████████████████████████████████████████████████████████████████████████| 160/160 [00:02<00:00, 73.03it/s]\n"
     ]
    },
    {
     "name": "stdout",
     "output_type": "stream",
     "text": [
      "Done, obtained 15913-by-512 matrix\n",
      "Speed: 0.0015 sec/batch\n",
      "Computing distance matrix with metric=euclidean ...\n",
      "Computing CMC and mAP ...\n",
      "** Results **\n",
      "mAP: 54.5%\n",
      "CMC curve\n",
      "Rank-1  : 76.8%\n",
      "Rank-5  : 89.6%\n",
      "Rank-10 : 93.4%\n",
      "Rank-20 : 95.5%\n",
      "Checkpoint saved to \"log/resnet18_market1501/model/model.pth.tar-5\"\n",
      "epoch: [6/60][100/404]\ttime 0.012 (0.014)\tdata 0.000 (0.001)\teta 0:05:00\tloss 1.2649 (1.3223)\tacc 100.0000 (97.0312)\tlr 0.000300\n",
      "epoch: [6/60][200/404]\ttime 0.012 (0.013)\tdata 0.000 (0.001)\teta 0:04:47\tloss 1.3567 (1.3488)\tacc 90.6250 (96.3594)\tlr 0.000300\n",
      "epoch: [6/60][300/404]\ttime 0.012 (0.013)\tdata 0.000 (0.000)\teta 0:04:42\tloss 1.2619 (1.3512)\tacc 100.0000 (96.3854)\tlr 0.000300\n",
      "epoch: [6/60][400/404]\ttime 0.012 (0.013)\tdata 0.000 (0.000)\teta 0:04:39\tloss 1.2059 (1.3535)\tacc 100.0000 (96.2031)\tlr 0.000300\n",
      "epoch: [7/60][100/404]\ttime 0.012 (0.014)\tdata 0.000 (0.001)\teta 0:04:57\tloss 1.3248 (1.3049)\tacc 96.8750 (97.1250)\tlr 0.000300\n",
      "epoch: [7/60][200/404]\ttime 0.013 (0.013)\tdata 0.000 (0.001)\teta 0:04:43\tloss 1.3118 (1.3175)\tacc 100.0000 (96.9844)\tlr 0.000300\n",
      "epoch: [7/60][300/404]\ttime 0.012 (0.013)\tdata 0.000 (0.000)\teta 0:04:38\tloss 1.3159 (1.3189)\tacc 93.7500 (97.1250)\tlr 0.000300\n",
      "epoch: [7/60][400/404]\ttime 0.012 (0.013)\tdata 0.000 (0.000)\teta 0:04:35\tloss 1.3466 (1.3226)\tacc 96.8750 (96.9297)\tlr 0.000300\n",
      "epoch: [8/60][100/404]\ttime 0.012 (0.014)\tdata 0.000 (0.001)\teta 0:04:48\tloss 1.2524 (1.2765)\tacc 100.0000 (97.8125)\tlr 0.000300\n",
      "epoch: [8/60][200/404]\ttime 0.012 (0.013)\tdata 0.000 (0.001)\teta 0:04:36\tloss 1.2973 (1.2930)\tacc 93.7500 (97.2812)\tlr 0.000300\n",
      "epoch: [8/60][300/404]\ttime 0.013 (0.013)\tdata 0.000 (0.000)\teta 0:04:31\tloss 1.3133 (1.3052)\tacc 96.8750 (97.0625)\tlr 0.000300\n",
      "epoch: [8/60][400/404]\ttime 0.012 (0.013)\tdata 0.000 (0.000)\teta 0:04:28\tloss 1.4680 (1.3052)\tacc 93.7500 (97.0547)\tlr 0.000300\n",
      "epoch: [9/60][100/404]\ttime 0.012 (0.014)\tdata 0.000 (0.001)\teta 0:04:42\tloss 1.2324 (1.2488)\tacc 100.0000 (98.2500)\tlr 0.000300\n",
      "epoch: [9/60][200/404]\ttime 0.012 (0.013)\tdata 0.000 (0.001)\teta 0:04:31\tloss 1.2518 (1.2606)\tacc 96.8750 (97.8750)\tlr 0.000300\n",
      "epoch: [9/60][300/404]\ttime 0.013 (0.013)\tdata 0.000 (0.000)\teta 0:04:26\tloss 1.2025 (1.2708)\tacc 100.0000 (97.4375)\tlr 0.000300\n",
      "epoch: [9/60][400/404]\ttime 0.012 (0.013)\tdata 0.000 (0.000)\teta 0:04:23\tloss 1.2952 (1.2738)\tacc 93.7500 (97.4062)\tlr 0.000300\n",
      "epoch: [10/60][100/404]\ttime 0.012 (0.014)\tdata 0.000 (0.001)\teta 0:04:39\tloss 1.2105 (1.2494)\tacc 96.8750 (98.1875)\tlr 0.000300\n",
      "epoch: [10/60][200/404]\ttime 0.012 (0.013)\tdata 0.000 (0.001)\teta 0:04:26\tloss 1.2824 (1.2554)\tacc 96.8750 (97.9062)\tlr 0.000300\n",
      "epoch: [10/60][300/404]\ttime 0.012 (0.013)\tdata 0.000 (0.000)\teta 0:04:21\tloss 1.3535 (1.2623)\tacc 93.7500 (97.6458)\tlr 0.000300\n",
      "epoch: [10/60][400/404]\ttime 0.012 (0.013)\tdata 0.000 (0.000)\teta 0:04:18\tloss 1.2821 (1.2657)\tacc 96.8750 (97.6406)\tlr 0.000300\n",
      "##### Evaluating market1501 (source) #####\n",
      "Extracting features from query set ...\n"
     ]
    },
    {
     "name": "stderr",
     "output_type": "stream",
     "text": [
      "100%|███████████████████████████████████████████████████████████████████████████████████████████████████████████████████████████████████████████████████████████████████████| 34/34 [00:00<00:00, 58.91it/s]\n"
     ]
    },
    {
     "name": "stdout",
     "output_type": "stream",
     "text": [
      "Done, obtained 3368-by-512 matrix\n",
      "Extracting features from gallery set ...\n"
     ]
    },
    {
     "name": "stderr",
     "output_type": "stream",
     "text": [
      "100%|█████████████████████████████████████████████████████████████████████████████████████████████████████████████████████████████████████████████████████████████████████| 160/160 [00:02<00:00, 73.04it/s]\n"
     ]
    },
    {
     "name": "stdout",
     "output_type": "stream",
     "text": [
      "Done, obtained 15913-by-512 matrix\n",
      "Speed: 0.0014 sec/batch\n",
      "Computing distance matrix with metric=euclidean ...\n",
      "Computing CMC and mAP ...\n",
      "** Results **\n",
      "mAP: 57.1%\n",
      "CMC curve\n",
      "Rank-1  : 79.1%\n",
      "Rank-5  : 90.8%\n",
      "Rank-10 : 94.1%\n",
      "Rank-20 : 96.2%\n",
      "Checkpoint saved to \"log/resnet18_market1501/model/model.pth.tar-10\"\n",
      "epoch: [11/60][100/404]\ttime 0.013 (0.014)\tdata 0.000 (0.001)\teta 0:04:32\tloss 1.1893 (1.2382)\tacc 100.0000 (97.9062)\tlr 0.000300\n",
      "epoch: [11/60][200/404]\ttime 0.013 (0.013)\tdata 0.000 (0.001)\teta 0:04:21\tloss 1.2382 (1.2407)\tacc 96.8750 (97.9531)\tlr 0.000300\n",
      "epoch: [11/60][300/404]\ttime 0.013 (0.013)\tdata 0.000 (0.000)\teta 0:04:18\tloss 1.3003 (1.2473)\tacc 100.0000 (97.8854)\tlr 0.000300\n",
      "epoch: [11/60][400/404]\ttime 0.012 (0.013)\tdata 0.000 (0.000)\teta 0:04:14\tloss 1.2291 (1.2521)\tacc 100.0000 (97.8438)\tlr 0.000300\n",
      "epoch: [12/60][100/404]\ttime 0.012 (0.014)\tdata 0.000 (0.001)\teta 0:04:25\tloss 1.2573 (1.2201)\tacc 96.8750 (98.5938)\tlr 0.000300\n",
      "epoch: [12/60][200/404]\ttime 0.012 (0.013)\tdata 0.000 (0.001)\teta 0:04:15\tloss 1.2718 (1.2234)\tacc 93.7500 (98.6094)\tlr 0.000300\n",
      "epoch: [12/60][300/404]\ttime 0.013 (0.013)\tdata 0.000 (0.000)\teta 0:04:10\tloss 1.2632 (1.2333)\tacc 100.0000 (98.4271)\tlr 0.000300\n",
      "epoch: [12/60][400/404]\ttime 0.012 (0.013)\tdata 0.000 (0.000)\teta 0:04:07\tloss 1.2657 (1.2386)\tacc 96.8750 (98.3516)\tlr 0.000300\n",
      "epoch: [13/60][100/404]\ttime 0.012 (0.013)\tdata 0.000 (0.001)\teta 0:04:17\tloss 1.3243 (1.2120)\tacc 93.7500 (98.8438)\tlr 0.000300\n",
      "epoch: [13/60][200/404]\ttime 0.013 (0.013)\tdata 0.000 (0.001)\teta 0:04:08\tloss 1.1802 (1.2242)\tacc 100.0000 (98.6562)\tlr 0.000300\n",
      "epoch: [13/60][300/404]\ttime 0.012 (0.013)\tdata 0.000 (0.000)\teta 0:04:03\tloss 1.2024 (1.2286)\tacc 100.0000 (98.4375)\tlr 0.000300\n",
      "epoch: [13/60][400/404]\ttime 0.012 (0.013)\tdata 0.000 (0.000)\teta 0:04:01\tloss 1.2101 (1.2326)\tacc 96.8750 (98.3750)\tlr 0.000300\n",
      "epoch: [14/60][100/404]\ttime 0.013 (0.013)\tdata 0.000 (0.001)\teta 0:04:13\tloss 1.1540 (1.1971)\tacc 100.0000 (99.0000)\tlr 0.000300\n",
      "epoch: [14/60][200/404]\ttime 0.013 (0.013)\tdata 0.000 (0.001)\teta 0:04:04\tloss 1.2950 (1.2139)\tacc 96.8750 (98.7344)\tlr 0.000300\n",
      "epoch: [14/60][300/404]\ttime 0.012 (0.013)\tdata 0.000 (0.000)\teta 0:04:00\tloss 1.1640 (1.2184)\tacc 100.0000 (98.7292)\tlr 0.000300\n",
      "epoch: [14/60][400/404]\ttime 0.012 (0.013)\tdata 0.000 (0.000)\teta 0:03:57\tloss 1.2892 (1.2255)\tacc 100.0000 (98.5781)\tlr 0.000300\n",
      "epoch: [15/60][100/404]\ttime 0.013 (0.013)\tdata 0.000 (0.001)\teta 0:04:09\tloss 1.1639 (1.2032)\tacc 100.0000 (98.9062)\tlr 0.000300\n",
      "epoch: [15/60][200/404]\ttime 0.013 (0.013)\tdata 0.000 (0.001)\teta 0:03:59\tloss 1.2499 (1.2083)\tacc 96.8750 (98.7031)\tlr 0.000300\n",
      "epoch: [15/60][300/404]\ttime 0.012 (0.013)\tdata 0.000 (0.000)\teta 0:03:55\tloss 1.2449 (1.2178)\tacc 96.8750 (98.4167)\tlr 0.000300\n",
      "epoch: [15/60][400/404]\ttime 0.012 (0.013)\tdata 0.000 (0.000)\teta 0:03:52\tloss 1.1997 (1.2229)\tacc 100.0000 (98.3750)\tlr 0.000300\n",
      "##### Evaluating market1501 (source) #####\n",
      "Extracting features from query set ...\n"
     ]
    },
    {
     "name": "stderr",
     "output_type": "stream",
     "text": [
      "100%|███████████████████████████████████████████████████████████████████████████████████████████████████████████████████████████████████████████████████████████████████████| 34/34 [00:00<00:00, 58.96it/s]\n"
     ]
    },
    {
     "name": "stdout",
     "output_type": "stream",
     "text": [
      "Done, obtained 3368-by-512 matrix\n",
      "Extracting features from gallery set ...\n"
     ]
    },
    {
     "name": "stderr",
     "output_type": "stream",
     "text": [
      "100%|█████████████████████████████████████████████████████████████████████████████████████████████████████████████████████████████████████████████████████████████████████| 160/160 [00:02<00:00, 72.37it/s]\n"
     ]
    },
    {
     "name": "stdout",
     "output_type": "stream",
     "text": [
      "Done, obtained 15913-by-512 matrix\n",
      "Speed: 0.0014 sec/batch\n",
      "Computing distance matrix with metric=euclidean ...\n",
      "Computing CMC and mAP ...\n",
      "** Results **\n",
      "mAP: 56.8%\n",
      "CMC curve\n",
      "Rank-1  : 78.9%\n",
      "Rank-5  : 90.7%\n",
      "Rank-10 : 93.8%\n",
      "Rank-20 : 95.9%\n",
      "Checkpoint saved to \"log/resnet18_market1501/model/model.pth.tar-15\"\n",
      "epoch: [16/60][100/404]\ttime 0.012 (0.014)\tdata 0.000 (0.001)\teta 0:04:05\tloss 1.2490 (1.1939)\tacc 96.8750 (99.0625)\tlr 0.000300\n",
      "epoch: [16/60][200/404]\ttime 0.012 (0.013)\tdata 0.000 (0.001)\teta 0:03:55\tloss 1.1986 (1.2074)\tacc 100.0000 (98.7031)\tlr 0.000300\n",
      "epoch: [16/60][300/404]\ttime 0.012 (0.013)\tdata 0.000 (0.000)\teta 0:03:50\tloss 1.1631 (1.2152)\tacc 100.0000 (98.6250)\tlr 0.000300\n",
      "epoch: [16/60][400/404]\ttime 0.012 (0.013)\tdata 0.000 (0.000)\teta 0:03:48\tloss 1.2194 (1.2191)\tacc 100.0000 (98.5703)\tlr 0.000300\n",
      "epoch: [17/60][100/404]\ttime 0.013 (0.014)\tdata 0.000 (0.001)\teta 0:03:59\tloss 1.1376 (1.1915)\tacc 100.0000 (98.9375)\tlr 0.000300\n",
      "epoch: [17/60][200/404]\ttime 0.012 (0.013)\tdata 0.000 (0.001)\teta 0:03:49\tloss 1.1855 (1.2013)\tacc 100.0000 (98.7344)\tlr 0.000300\n",
      "epoch: [17/60][300/404]\ttime 0.012 (0.013)\tdata 0.000 (0.000)\teta 0:03:45\tloss 1.2289 (1.2092)\tacc 96.8750 (98.5625)\tlr 0.000300\n",
      "epoch: [17/60][400/404]\ttime 0.012 (0.013)\tdata 0.000 (0.000)\teta 0:03:42\tloss 1.1528 (1.2141)\tacc 100.0000 (98.4688)\tlr 0.000300\n",
      "epoch: [18/60][100/404]\ttime 0.012 (0.014)\tdata 0.000 (0.001)\teta 0:03:53\tloss 1.1735 (1.1874)\tacc 100.0000 (98.6562)\tlr 0.000300\n",
      "epoch: [18/60][200/404]\ttime 0.013 (0.013)\tdata 0.000 (0.001)\teta 0:03:44\tloss 1.2438 (1.1959)\tacc 96.8750 (98.6094)\tlr 0.000300\n",
      "epoch: [18/60][300/404]\ttime 0.013 (0.013)\tdata 0.000 (0.000)\teta 0:03:40\tloss 1.2177 (1.2025)\tacc 100.0000 (98.6250)\tlr 0.000300\n",
      "epoch: [18/60][400/404]\ttime 0.012 (0.013)\tdata 0.000 (0.000)\teta 0:03:37\tloss 1.2940 (1.2083)\tacc 100.0000 (98.4922)\tlr 0.000300\n",
      "epoch: [19/60][100/404]\ttime 0.012 (0.014)\tdata 0.000 (0.001)\teta 0:03:48\tloss 1.2023 (1.1807)\tacc 96.8750 (98.9688)\tlr 0.000300\n",
      "epoch: [19/60][200/404]\ttime 0.013 (0.013)\tdata 0.000 (0.001)\teta 0:03:38\tloss 1.1696 (1.1920)\tacc 100.0000 (98.8906)\tlr 0.000300\n",
      "epoch: [19/60][300/404]\ttime 0.013 (0.013)\tdata 0.000 (0.000)\teta 0:03:34\tloss 1.2228 (1.1983)\tacc 100.0000 (98.8542)\tlr 0.000300\n",
      "epoch: [19/60][400/404]\ttime 0.012 (0.013)\tdata 0.000 (0.000)\teta 0:03:32\tloss 1.2692 (1.2028)\tacc 93.7500 (98.7344)\tlr 0.000300\n",
      "epoch: [20/60][100/404]\ttime 0.012 (0.014)\tdata 0.000 (0.001)\teta 0:03:42\tloss 1.1631 (1.1894)\tacc 100.0000 (99.0938)\tlr 0.000300\n",
      "epoch: [20/60][200/404]\ttime 0.014 (0.013)\tdata 0.000 (0.001)\teta 0:03:33\tloss 1.1755 (1.1859)\tacc 100.0000 (99.0469)\tlr 0.000300\n",
      "epoch: [20/60][300/404]\ttime 0.013 (0.013)\tdata 0.000 (0.000)\teta 0:03:29\tloss 1.3106 (1.1950)\tacc 96.8750 (98.8646)\tlr 0.000300\n",
      "epoch: [20/60][400/404]\ttime 0.012 (0.013)\tdata 0.000 (0.000)\teta 0:03:27\tloss 1.2128 (1.2003)\tacc 96.8750 (98.7344)\tlr 0.000300\n",
      "##### Evaluating market1501 (source) #####\n",
      "Extracting features from query set ...\n"
     ]
    },
    {
     "name": "stderr",
     "output_type": "stream",
     "text": [
      "100%|███████████████████████████████████████████████████████████████████████████████████████████████████████████████████████████████████████████████████████████████████████| 34/34 [00:00<00:00, 58.35it/s]\n"
     ]
    },
    {
     "name": "stdout",
     "output_type": "stream",
     "text": [
      "Done, obtained 3368-by-512 matrix\n",
      "Extracting features from gallery set ...\n"
     ]
    },
    {
     "name": "stderr",
     "output_type": "stream",
     "text": [
      "100%|█████████████████████████████████████████████████████████████████████████████████████████████████████████████████████████████████████████████████████████████████████| 160/160 [00:02<00:00, 72.82it/s]\n"
     ]
    },
    {
     "name": "stdout",
     "output_type": "stream",
     "text": [
      "Done, obtained 15913-by-512 matrix\n",
      "Speed: 0.0015 sec/batch\n",
      "Computing distance matrix with metric=euclidean ...\n",
      "Computing CMC and mAP ...\n",
      "** Results **\n",
      "mAP: 58.3%\n",
      "CMC curve\n",
      "Rank-1  : 80.8%\n",
      "Rank-5  : 91.5%\n",
      "Rank-10 : 94.3%\n",
      "Rank-20 : 96.2%\n",
      "Checkpoint saved to \"log/resnet18_market1501/model/model.pth.tar-20\"\n",
      "epoch: [21/60][100/404]\ttime 0.013 (0.014)\tdata 0.000 (0.001)\teta 0:03:38\tloss 1.1064 (1.1406)\tacc 100.0000 (99.5000)\tlr 0.000030\n",
      "epoch: [21/60][200/404]\ttime 0.013 (0.013)\tdata 0.000 (0.001)\teta 0:03:28\tloss 1.1092 (1.1274)\tacc 100.0000 (99.6406)\tlr 0.000030\n",
      "epoch: [21/60][300/404]\ttime 0.013 (0.013)\tdata 0.000 (0.000)\teta 0:03:24\tloss 1.0895 (1.1179)\tacc 100.0000 (99.6875)\tlr 0.000030\n",
      "epoch: [21/60][400/404]\ttime 0.012 (0.013)\tdata 0.000 (0.000)\teta 0:03:22\tloss 1.1096 (1.1126)\tacc 100.0000 (99.7188)\tlr 0.000030\n",
      "epoch: [22/60][100/404]\ttime 0.012 (0.013)\tdata 0.000 (0.001)\teta 0:03:30\tloss 1.0842 (1.0846)\tacc 100.0000 (100.0000)\tlr 0.000030\n",
      "epoch: [22/60][200/404]\ttime 0.013 (0.013)\tdata 0.000 (0.001)\teta 0:03:22\tloss 1.0734 (1.0839)\tacc 100.0000 (99.9531)\tlr 0.000030\n",
      "epoch: [22/60][300/404]\ttime 0.012 (0.013)\tdata 0.000 (0.000)\teta 0:03:19\tloss 1.1153 (1.0830)\tacc 100.0000 (99.9479)\tlr 0.000030\n",
      "epoch: [22/60][400/404]\ttime 0.012 (0.013)\tdata 0.000 (0.000)\teta 0:03:16\tloss 1.0852 (1.0821)\tacc 100.0000 (99.9453)\tlr 0.000030\n",
      "epoch: [23/60][100/404]\ttime 0.013 (0.014)\tdata 0.000 (0.001)\teta 0:03:26\tloss 1.0605 (1.0756)\tacc 100.0000 (99.9688)\tlr 0.000030\n",
      "epoch: [23/60][200/404]\ttime 0.013 (0.013)\tdata 0.000 (0.001)\teta 0:03:17\tloss 1.0807 (1.0736)\tacc 100.0000 (99.9688)\tlr 0.000030\n",
      "epoch: [23/60][300/404]\ttime 0.013 (0.013)\tdata 0.000 (0.000)\teta 0:03:13\tloss 1.0577 (1.0726)\tacc 100.0000 (99.9688)\tlr 0.000030\n",
      "epoch: [23/60][400/404]\ttime 0.012 (0.013)\tdata 0.000 (0.000)\teta 0:03:11\tloss 1.0902 (1.0723)\tacc 100.0000 (99.9688)\tlr 0.000030\n",
      "epoch: [24/60][100/404]\ttime 0.013 (0.013)\tdata 0.000 (0.001)\teta 0:03:20\tloss 1.0635 (1.0664)\tacc 100.0000 (100.0000)\tlr 0.000030\n",
      "epoch: [24/60][200/404]\ttime 0.013 (0.013)\tdata 0.000 (0.001)\teta 0:03:12\tloss 1.0549 (1.0661)\tacc 100.0000 (99.9688)\tlr 0.000030\n",
      "epoch: [24/60][300/404]\ttime 0.013 (0.013)\tdata 0.000 (0.000)\teta 0:03:08\tloss 1.0552 (1.0663)\tacc 100.0000 (99.9792)\tlr 0.000030\n",
      "epoch: [24/60][400/404]\ttime 0.012 (0.013)\tdata 0.000 (0.000)\teta 0:03:06\tloss 1.0601 (1.0675)\tacc 100.0000 (99.9766)\tlr 0.000030\n",
      "epoch: [25/60][100/404]\ttime 0.012 (0.013)\tdata 0.000 (0.001)\teta 0:03:14\tloss 1.0855 (1.0629)\tacc 100.0000 (100.0000)\tlr 0.000030\n",
      "epoch: [25/60][200/404]\ttime 0.012 (0.013)\tdata 0.000 (0.001)\teta 0:03:06\tloss 1.0488 (1.0634)\tacc 100.0000 (100.0000)\tlr 0.000030\n",
      "epoch: [25/60][300/404]\ttime 0.013 (0.013)\tdata 0.000 (0.000)\teta 0:03:03\tloss 1.0580 (1.0631)\tacc 100.0000 (100.0000)\tlr 0.000030\n",
      "epoch: [25/60][400/404]\ttime 0.012 (0.013)\tdata 0.000 (0.000)\teta 0:03:00\tloss 1.0464 (1.0637)\tacc 100.0000 (99.9766)\tlr 0.000030\n",
      "##### Evaluating market1501 (source) #####\n",
      "Extracting features from query set ...\n"
     ]
    },
    {
     "name": "stderr",
     "output_type": "stream",
     "text": [
      "100%|███████████████████████████████████████████████████████████████████████████████████████████████████████████████████████████████████████████████████████████████████████| 34/34 [00:00<00:00, 58.08it/s]\n"
     ]
    },
    {
     "name": "stdout",
     "output_type": "stream",
     "text": [
      "Done, obtained 3368-by-512 matrix\n",
      "Extracting features from gallery set ...\n"
     ]
    },
    {
     "name": "stderr",
     "output_type": "stream",
     "text": [
      "100%|█████████████████████████████████████████████████████████████████████████████████████████████████████████████████████████████████████████████████████████████████████| 160/160 [00:02<00:00, 73.01it/s]\n"
     ]
    },
    {
     "name": "stdout",
     "output_type": "stream",
     "text": [
      "Done, obtained 15913-by-512 matrix\n",
      "Speed: 0.0015 sec/batch\n",
      "Computing distance matrix with metric=euclidean ...\n",
      "Computing CMC and mAP ...\n",
      "** Results **\n",
      "mAP: 64.5%\n",
      "CMC curve\n",
      "Rank-1  : 84.3%\n",
      "Rank-5  : 93.2%\n",
      "Rank-10 : 95.6%\n",
      "Rank-20 : 96.9%\n",
      "Checkpoint saved to \"log/resnet18_market1501/model/model.pth.tar-25\"\n",
      "epoch: [26/60][100/404]\ttime 0.012 (0.013)\tdata 0.000 (0.001)\teta 0:03:09\tloss 1.0728 (1.0625)\tacc 100.0000 (100.0000)\tlr 0.000030\n",
      "epoch: [26/60][200/404]\ttime 0.013 (0.013)\tdata 0.000 (0.001)\teta 0:03:01\tloss 1.0928 (1.0620)\tacc 100.0000 (100.0000)\tlr 0.000030\n",
      "epoch: [26/60][300/404]\ttime 0.013 (0.013)\tdata 0.000 (0.000)\teta 0:02:57\tloss 1.0526 (1.0623)\tacc 100.0000 (99.9896)\tlr 0.000030\n",
      "epoch: [26/60][400/404]\ttime 0.012 (0.013)\tdata 0.000 (0.000)\teta 0:02:55\tloss 1.0647 (1.0625)\tacc 100.0000 (99.9922)\tlr 0.000030\n",
      "epoch: [27/60][100/404]\ttime 0.013 (0.013)\tdata 0.000 (0.001)\teta 0:03:03\tloss 1.0576 (1.0578)\tacc 100.0000 (99.9688)\tlr 0.000030\n",
      "epoch: [27/60][200/404]\ttime 0.012 (0.013)\tdata 0.000 (0.001)\teta 0:02:55\tloss 1.0608 (1.0587)\tacc 100.0000 (99.9844)\tlr 0.000030\n",
      "epoch: [27/60][300/404]\ttime 0.012 (0.013)\tdata 0.000 (0.000)\teta 0:02:52\tloss 1.0599 (1.0593)\tacc 100.0000 (99.9688)\tlr 0.000030\n",
      "epoch: [27/60][400/404]\ttime 0.012 (0.013)\tdata 0.000 (0.000)\teta 0:02:50\tloss 1.0650 (1.0595)\tacc 100.0000 (99.9609)\tlr 0.000030\n",
      "epoch: [28/60][100/404]\ttime 0.012 (0.013)\tdata 0.000 (0.001)\teta 0:02:58\tloss 1.0661 (1.0586)\tacc 100.0000 (100.0000)\tlr 0.000030\n",
      "epoch: [28/60][200/404]\ttime 0.013 (0.013)\tdata 0.000 (0.001)\teta 0:02:50\tloss 1.0632 (1.0594)\tacc 100.0000 (100.0000)\tlr 0.000030\n",
      "epoch: [28/60][300/404]\ttime 0.013 (0.013)\tdata 0.000 (0.000)\teta 0:02:47\tloss 1.0507 (1.0588)\tacc 100.0000 (100.0000)\tlr 0.000030\n",
      "epoch: [28/60][400/404]\ttime 0.012 (0.013)\tdata 0.000 (0.000)\teta 0:02:45\tloss 1.0503 (1.0589)\tacc 100.0000 (100.0000)\tlr 0.000030\n",
      "epoch: [29/60][100/404]\ttime 0.013 (0.014)\tdata 0.000 (0.001)\teta 0:02:53\tloss 1.0478 (1.0559)\tacc 100.0000 (100.0000)\tlr 0.000030\n",
      "epoch: [29/60][200/404]\ttime 0.012 (0.013)\tdata 0.000 (0.001)\teta 0:02:45\tloss 1.0390 (1.0563)\tacc 100.0000 (100.0000)\tlr 0.000030\n",
      "epoch: [29/60][300/404]\ttime 0.013 (0.013)\tdata 0.000 (0.000)\teta 0:02:42\tloss 1.0703 (1.0566)\tacc 100.0000 (100.0000)\tlr 0.000030\n",
      "epoch: [29/60][400/404]\ttime 0.012 (0.013)\tdata 0.000 (0.000)\teta 0:02:40\tloss 1.0588 (1.0572)\tacc 100.0000 (100.0000)\tlr 0.000030\n",
      "epoch: [30/60][100/404]\ttime 0.013 (0.014)\tdata 0.000 (0.001)\teta 0:02:47\tloss 1.0768 (1.0540)\tacc 100.0000 (99.9688)\tlr 0.000030\n",
      "epoch: [30/60][200/404]\ttime 0.013 (0.013)\tdata 0.000 (0.001)\teta 0:02:40\tloss 1.0430 (1.0557)\tacc 100.0000 (99.9844)\tlr 0.000030\n",
      "epoch: [30/60][300/404]\ttime 0.012 (0.013)\tdata 0.000 (0.000)\teta 0:02:37\tloss 1.0406 (1.0563)\tacc 100.0000 (99.9896)\tlr 0.000030\n",
      "epoch: [30/60][400/404]\ttime 0.012 (0.013)\tdata 0.000 (0.000)\teta 0:02:35\tloss 1.0374 (1.0563)\tacc 100.0000 (99.9922)\tlr 0.000030\n",
      "##### Evaluating market1501 (source) #####\n",
      "Extracting features from query set ...\n"
     ]
    },
    {
     "name": "stderr",
     "output_type": "stream",
     "text": [
      "100%|███████████████████████████████████████████████████████████████████████████████████████████████████████████████████████████████████████████████████████████████████████| 34/34 [00:00<00:00, 57.62it/s]\n"
     ]
    },
    {
     "name": "stdout",
     "output_type": "stream",
     "text": [
      "Done, obtained 3368-by-512 matrix\n",
      "Extracting features from gallery set ...\n"
     ]
    },
    {
     "name": "stderr",
     "output_type": "stream",
     "text": [
      "100%|█████████████████████████████████████████████████████████████████████████████████████████████████████████████████████████████████████████████████████████████████████| 160/160 [00:02<00:00, 73.09it/s]\n"
     ]
    },
    {
     "name": "stdout",
     "output_type": "stream",
     "text": [
      "Done, obtained 15913-by-512 matrix\n",
      "Speed: 0.0014 sec/batch\n",
      "Computing distance matrix with metric=euclidean ...\n",
      "Computing CMC and mAP ...\n",
      "** Results **\n",
      "mAP: 65.1%\n",
      "CMC curve\n",
      "Rank-1  : 85.0%\n",
      "Rank-5  : 93.6%\n",
      "Rank-10 : 95.8%\n",
      "Rank-20 : 97.3%\n",
      "Checkpoint saved to \"log/resnet18_market1501/model/model.pth.tar-30\"\n",
      "epoch: [31/60][100/404]\ttime 0.012 (0.014)\tdata 0.000 (0.001)\teta 0:02:43\tloss 1.0435 (1.0500)\tacc 100.0000 (100.0000)\tlr 0.000030\n",
      "epoch: [31/60][200/404]\ttime 0.012 (0.013)\tdata 0.000 (0.001)\teta 0:02:35\tloss 1.0480 (1.0544)\tacc 100.0000 (99.9844)\tlr 0.000030\n",
      "epoch: [31/60][300/404]\ttime 0.012 (0.013)\tdata 0.000 (0.000)\teta 0:02:31\tloss 1.0907 (1.0551)\tacc 100.0000 (99.9896)\tlr 0.000030\n",
      "epoch: [31/60][400/404]\ttime 0.012 (0.013)\tdata 0.000 (0.000)\teta 0:02:29\tloss 1.0506 (1.0553)\tacc 100.0000 (99.9922)\tlr 0.000030\n",
      "epoch: [32/60][100/404]\ttime 0.013 (0.013)\tdata 0.000 (0.001)\teta 0:02:35\tloss 1.0839 (1.0519)\tacc 100.0000 (100.0000)\tlr 0.000030\n",
      "epoch: [32/60][200/404]\ttime 0.012 (0.013)\tdata 0.000 (0.001)\teta 0:02:28\tloss 1.0623 (1.0526)\tacc 100.0000 (100.0000)\tlr 0.000030\n",
      "epoch: [32/60][300/404]\ttime 0.012 (0.013)\tdata 0.000 (0.000)\teta 0:02:25\tloss 1.0470 (1.0536)\tacc 100.0000 (100.0000)\tlr 0.000030\n",
      "epoch: [32/60][400/404]\ttime 0.012 (0.013)\tdata 0.000 (0.000)\teta 0:02:23\tloss 1.0429 (1.0539)\tacc 100.0000 (99.9922)\tlr 0.000030\n",
      "epoch: [33/60][100/404]\ttime 0.012 (0.013)\tdata 0.000 (0.001)\teta 0:02:31\tloss 1.0411 (1.0539)\tacc 100.0000 (100.0000)\tlr 0.000030\n",
      "epoch: [33/60][200/404]\ttime 0.013 (0.013)\tdata 0.000 (0.001)\teta 0:02:25\tloss 1.0630 (1.0533)\tacc 100.0000 (100.0000)\tlr 0.000030\n",
      "epoch: [33/60][300/404]\ttime 0.012 (0.013)\tdata 0.000 (0.000)\teta 0:02:21\tloss 1.0458 (1.0532)\tacc 100.0000 (100.0000)\tlr 0.000030\n",
      "epoch: [33/60][400/404]\ttime 0.012 (0.013)\tdata 0.000 (0.000)\teta 0:02:19\tloss 1.0435 (1.0537)\tacc 100.0000 (99.9922)\tlr 0.000030\n",
      "epoch: [34/60][100/404]\ttime 0.013 (0.013)\tdata 0.000 (0.001)\teta 0:02:25\tloss 1.0505 (1.0530)\tacc 100.0000 (100.0000)\tlr 0.000030\n",
      "epoch: [34/60][200/404]\ttime 0.012 (0.013)\tdata 0.000 (0.001)\teta 0:02:18\tloss 1.0616 (1.0517)\tacc 100.0000 (100.0000)\tlr 0.000030\n",
      "epoch: [34/60][300/404]\ttime 0.012 (0.013)\tdata 0.000 (0.000)\teta 0:02:15\tloss 1.0468 (1.0519)\tacc 100.0000 (100.0000)\tlr 0.000030\n",
      "epoch: [34/60][400/404]\ttime 0.012 (0.013)\tdata 0.000 (0.000)\teta 0:02:13\tloss 1.0503 (1.0517)\tacc 100.0000 (100.0000)\tlr 0.000030\n",
      "epoch: [35/60][100/404]\ttime 0.013 (0.013)\tdata 0.000 (0.001)\teta 0:02:19\tloss 1.0448 (1.0494)\tacc 100.0000 (100.0000)\tlr 0.000030\n",
      "epoch: [35/60][200/404]\ttime 0.012 (0.013)\tdata 0.000 (0.001)\teta 0:02:13\tloss 1.0433 (1.0511)\tacc 100.0000 (99.9844)\tlr 0.000030\n",
      "epoch: [35/60][300/404]\ttime 0.013 (0.013)\tdata 0.000 (0.000)\teta 0:02:11\tloss 1.0499 (1.0507)\tacc 100.0000 (99.9792)\tlr 0.000030\n",
      "epoch: [35/60][400/404]\ttime 0.012 (0.013)\tdata 0.000 (0.000)\teta 0:02:09\tloss 1.0462 (1.0513)\tacc 100.0000 (99.9766)\tlr 0.000030\n",
      "##### Evaluating market1501 (source) #####\n",
      "Extracting features from query set ...\n"
     ]
    },
    {
     "name": "stderr",
     "output_type": "stream",
     "text": [
      "100%|███████████████████████████████████████████████████████████████████████████████████████████████████████████████████████████████████████████████████████████████████████| 34/34 [00:00<00:00, 58.22it/s]\n"
     ]
    },
    {
     "name": "stdout",
     "output_type": "stream",
     "text": [
      "Done, obtained 3368-by-512 matrix\n",
      "Extracting features from gallery set ...\n"
     ]
    },
    {
     "name": "stderr",
     "output_type": "stream",
     "text": [
      "100%|█████████████████████████████████████████████████████████████████████████████████████████████████████████████████████████████████████████████████████████████████████| 160/160 [00:02<00:00, 73.00it/s]\n"
     ]
    },
    {
     "name": "stdout",
     "output_type": "stream",
     "text": [
      "Done, obtained 15913-by-512 matrix\n",
      "Speed: 0.0015 sec/batch\n",
      "Computing distance matrix with metric=euclidean ...\n",
      "Computing CMC and mAP ...\n",
      "** Results **\n",
      "mAP: 65.3%\n",
      "CMC curve\n",
      "Rank-1  : 85.5%\n",
      "Rank-5  : 93.8%\n",
      "Rank-10 : 95.8%\n",
      "Rank-20 : 97.2%\n",
      "Checkpoint saved to \"log/resnet18_market1501/model/model.pth.tar-35\"\n",
      "epoch: [36/60][100/404]\ttime 0.013 (0.014)\tdata 0.000 (0.001)\teta 0:02:15\tloss 1.0663 (1.0500)\tacc 100.0000 (100.0000)\tlr 0.000030\n",
      "epoch: [36/60][200/404]\ttime 0.012 (0.013)\tdata 0.000 (0.001)\teta 0:02:09\tloss 1.0490 (1.0502)\tacc 100.0000 (100.0000)\tlr 0.000030\n",
      "epoch: [36/60][300/404]\ttime 0.012 (0.013)\tdata 0.000 (0.000)\teta 0:02:06\tloss 1.0417 (1.0512)\tacc 100.0000 (100.0000)\tlr 0.000030\n",
      "epoch: [36/60][400/404]\ttime 0.012 (0.013)\tdata 0.000 (0.000)\teta 0:02:04\tloss 1.0528 (1.0519)\tacc 100.0000 (100.0000)\tlr 0.000030\n",
      "epoch: [37/60][100/404]\ttime 0.013 (0.013)\tdata 0.000 (0.001)\teta 0:02:09\tloss 1.0325 (1.0507)\tacc 100.0000 (100.0000)\tlr 0.000030\n",
      "epoch: [37/60][200/404]\ttime 0.012 (0.013)\tdata 0.000 (0.001)\teta 0:02:03\tloss 1.0409 (1.0502)\tacc 100.0000 (100.0000)\tlr 0.000030\n",
      "epoch: [37/60][300/404]\ttime 0.012 (0.013)\tdata 0.000 (0.000)\teta 0:02:00\tloss 1.0384 (1.0501)\tacc 100.0000 (100.0000)\tlr 0.000030\n",
      "epoch: [37/60][400/404]\ttime 0.012 (0.013)\tdata 0.000 (0.000)\teta 0:01:58\tloss 1.0435 (1.0503)\tacc 100.0000 (100.0000)\tlr 0.000030\n",
      "epoch: [38/60][100/404]\ttime 0.012 (0.013)\tdata 0.000 (0.001)\teta 0:02:03\tloss 1.0477 (1.0498)\tacc 100.0000 (100.0000)\tlr 0.000030\n",
      "epoch: [38/60][200/404]\ttime 0.013 (0.013)\tdata 0.000 (0.001)\teta 0:01:58\tloss 1.0442 (1.0501)\tacc 100.0000 (100.0000)\tlr 0.000030\n",
      "epoch: [38/60][300/404]\ttime 0.013 (0.013)\tdata 0.000 (0.000)\teta 0:01:55\tloss 1.0452 (1.0500)\tacc 100.0000 (100.0000)\tlr 0.000030\n",
      "epoch: [38/60][400/404]\ttime 0.012 (0.013)\tdata 0.000 (0.000)\teta 0:01:53\tloss 1.0463 (1.0496)\tacc 100.0000 (100.0000)\tlr 0.000030\n",
      "epoch: [39/60][100/404]\ttime 0.013 (0.014)\tdata 0.000 (0.001)\teta 0:01:58\tloss 1.0593 (1.0477)\tacc 100.0000 (100.0000)\tlr 0.000030\n",
      "epoch: [39/60][200/404]\ttime 0.012 (0.013)\tdata 0.000 (0.001)\teta 0:01:53\tloss 1.0653 (1.0481)\tacc 100.0000 (100.0000)\tlr 0.000030\n",
      "epoch: [39/60][300/404]\ttime 0.012 (0.013)\tdata 0.000 (0.000)\teta 0:01:50\tloss 1.0475 (1.0489)\tacc 100.0000 (100.0000)\tlr 0.000030\n",
      "epoch: [39/60][400/404]\ttime 0.012 (0.013)\tdata 0.000 (0.000)\teta 0:01:48\tloss 1.0570 (1.0490)\tacc 100.0000 (100.0000)\tlr 0.000030\n",
      "epoch: [40/60][100/404]\ttime 0.012 (0.013)\tdata 0.000 (0.001)\teta 0:01:52\tloss 1.0416 (1.0465)\tacc 100.0000 (100.0000)\tlr 0.000030\n",
      "epoch: [40/60][200/404]\ttime 0.013 (0.013)\tdata 0.000 (0.001)\teta 0:01:47\tloss 1.0538 (1.0464)\tacc 100.0000 (100.0000)\tlr 0.000030\n",
      "epoch: [40/60][300/404]\ttime 0.013 (0.013)\tdata 0.000 (0.000)\teta 0:01:45\tloss 1.0455 (1.0474)\tacc 100.0000 (100.0000)\tlr 0.000030\n",
      "epoch: [40/60][400/404]\ttime 0.012 (0.013)\tdata 0.000 (0.000)\teta 0:01:43\tloss 1.0445 (1.0474)\tacc 100.0000 (100.0000)\tlr 0.000030\n",
      "##### Evaluating market1501 (source) #####\n",
      "Extracting features from query set ...\n"
     ]
    },
    {
     "name": "stderr",
     "output_type": "stream",
     "text": [
      "100%|███████████████████████████████████████████████████████████████████████████████████████████████████████████████████████████████████████████████████████████████████████| 34/34 [00:00<00:00, 59.00it/s]\n"
     ]
    },
    {
     "name": "stdout",
     "output_type": "stream",
     "text": [
      "Done, obtained 3368-by-512 matrix\n",
      "Extracting features from gallery set ...\n"
     ]
    },
    {
     "name": "stderr",
     "output_type": "stream",
     "text": [
      "100%|█████████████████████████████████████████████████████████████████████████████████████████████████████████████████████████████████████████████████████████████████████| 160/160 [00:02<00:00, 72.54it/s]\n"
     ]
    },
    {
     "name": "stdout",
     "output_type": "stream",
     "text": [
      "Done, obtained 15913-by-512 matrix\n",
      "Speed: 0.0014 sec/batch\n",
      "Computing distance matrix with metric=euclidean ...\n",
      "Computing CMC and mAP ...\n",
      "** Results **\n",
      "mAP: 65.4%\n",
      "CMC curve\n",
      "Rank-1  : 85.0%\n",
      "Rank-5  : 93.9%\n",
      "Rank-10 : 95.8%\n",
      "Rank-20 : 97.2%\n",
      "Checkpoint saved to \"log/resnet18_market1501/model/model.pth.tar-40\"\n",
      "epoch: [41/60][100/404]\ttime 0.013 (0.014)\tdata 0.000 (0.001)\teta 0:01:47\tloss 1.0356 (1.0443)\tacc 100.0000 (100.0000)\tlr 0.000003\n",
      "epoch: [41/60][200/404]\ttime 0.013 (0.013)\tdata 0.000 (0.001)\teta 0:01:42\tloss 1.0481 (1.0436)\tacc 100.0000 (100.0000)\tlr 0.000003\n",
      "epoch: [41/60][300/404]\ttime 0.013 (0.013)\tdata 0.000 (0.000)\teta 0:01:40\tloss 1.0423 (1.0428)\tacc 100.0000 (100.0000)\tlr 0.000003\n",
      "epoch: [41/60][400/404]\ttime 0.012 (0.013)\tdata 0.000 (0.000)\teta 0:01:38\tloss 1.0320 (1.0424)\tacc 100.0000 (100.0000)\tlr 0.000003\n",
      "epoch: [42/60][100/404]\ttime 0.012 (0.013)\tdata 0.000 (0.001)\teta 0:01:42\tloss 1.0345 (1.0387)\tacc 100.0000 (100.0000)\tlr 0.000003\n",
      "epoch: [42/60][200/404]\ttime 0.013 (0.013)\tdata 0.000 (0.001)\teta 0:01:37\tloss 1.0285 (1.0389)\tacc 100.0000 (100.0000)\tlr 0.000003\n",
      "epoch: [42/60][300/404]\ttime 0.012 (0.013)\tdata 0.000 (0.000)\teta 0:01:35\tloss 1.0384 (1.0390)\tacc 100.0000 (100.0000)\tlr 0.000003\n",
      "epoch: [42/60][400/404]\ttime 0.012 (0.013)\tdata 0.000 (0.000)\teta 0:01:33\tloss 1.0349 (1.0392)\tacc 100.0000 (100.0000)\tlr 0.000003\n",
      "epoch: [43/60][100/404]\ttime 0.013 (0.014)\tdata 0.000 (0.001)\teta 0:01:37\tloss 1.0339 (1.0370)\tacc 100.0000 (100.0000)\tlr 0.000003\n",
      "epoch: [43/60][200/404]\ttime 0.013 (0.013)\tdata 0.000 (0.001)\teta 0:01:32\tloss 1.0293 (1.0377)\tacc 100.0000 (100.0000)\tlr 0.000003\n",
      "epoch: [43/60][300/404]\ttime 0.013 (0.013)\tdata 0.000 (0.000)\teta 0:01:30\tloss 1.0493 (1.0382)\tacc 100.0000 (100.0000)\tlr 0.000003\n",
      "epoch: [43/60][400/404]\ttime 0.012 (0.013)\tdata 0.000 (0.000)\teta 0:01:28\tloss 1.0327 (1.0381)\tacc 100.0000 (100.0000)\tlr 0.000003\n",
      "epoch: [44/60][100/404]\ttime 0.012 (0.013)\tdata 0.000 (0.001)\teta 0:01:31\tloss 1.0291 (1.0361)\tacc 100.0000 (100.0000)\tlr 0.000003\n",
      "epoch: [44/60][200/404]\ttime 0.012 (0.013)\tdata 0.000 (0.001)\teta 0:01:26\tloss 1.0277 (1.0378)\tacc 100.0000 (100.0000)\tlr 0.000003\n",
      "epoch: [44/60][300/404]\ttime 0.012 (0.013)\tdata 0.000 (0.000)\teta 0:01:24\tloss 1.0317 (1.0382)\tacc 100.0000 (100.0000)\tlr 0.000003\n",
      "epoch: [44/60][400/404]\ttime 0.012 (0.013)\tdata 0.000 (0.000)\teta 0:01:22\tloss 1.0420 (1.0383)\tacc 100.0000 (100.0000)\tlr 0.000003\n",
      "epoch: [45/60][100/404]\ttime 0.012 (0.013)\tdata 0.000 (0.001)\teta 0:01:25\tloss 1.0349 (1.0377)\tacc 100.0000 (100.0000)\tlr 0.000003\n",
      "epoch: [45/60][200/404]\ttime 0.013 (0.013)\tdata 0.000 (0.001)\teta 0:01:21\tloss 1.0411 (1.0380)\tacc 100.0000 (100.0000)\tlr 0.000003\n",
      "epoch: [45/60][300/404]\ttime 0.013 (0.013)\tdata 0.000 (0.000)\teta 0:01:19\tloss 1.0418 (1.0381)\tacc 100.0000 (100.0000)\tlr 0.000003\n",
      "epoch: [45/60][400/404]\ttime 0.012 (0.013)\tdata 0.000 (0.000)\teta 0:01:17\tloss 1.0263 (1.0381)\tacc 100.0000 (100.0000)\tlr 0.000003\n",
      "##### Evaluating market1501 (source) #####\n",
      "Extracting features from query set ...\n"
     ]
    },
    {
     "name": "stderr",
     "output_type": "stream",
     "text": [
      "100%|███████████████████████████████████████████████████████████████████████████████████████████████████████████████████████████████████████████████████████████████████████| 34/34 [00:00<00:00, 58.67it/s]\n"
     ]
    },
    {
     "name": "stdout",
     "output_type": "stream",
     "text": [
      "Done, obtained 3368-by-512 matrix\n",
      "Extracting features from gallery set ...\n"
     ]
    },
    {
     "name": "stderr",
     "output_type": "stream",
     "text": [
      "100%|█████████████████████████████████████████████████████████████████████████████████████████████████████████████████████████████████████████████████████████████████████| 160/160 [00:02<00:00, 73.17it/s]\n"
     ]
    },
    {
     "name": "stdout",
     "output_type": "stream",
     "text": [
      "Done, obtained 15913-by-512 matrix\n",
      "Speed: 0.0014 sec/batch\n",
      "Computing distance matrix with metric=euclidean ...\n",
      "Computing CMC and mAP ...\n",
      "** Results **\n",
      "mAP: 65.9%\n",
      "CMC curve\n",
      "Rank-1  : 84.7%\n",
      "Rank-5  : 93.9%\n",
      "Rank-10 : 95.8%\n",
      "Rank-20 : 97.2%\n",
      "Checkpoint saved to \"log/resnet18_market1501/model/model.pth.tar-45\"\n",
      "epoch: [46/60][100/404]\ttime 0.012 (0.014)\tdata 0.000 (0.001)\teta 0:01:21\tloss 1.0332 (1.0382)\tacc 100.0000 (100.0000)\tlr 0.000003\n",
      "epoch: [46/60][200/404]\ttime 0.012 (0.013)\tdata 0.000 (0.001)\teta 0:01:16\tloss 1.0248 (1.0374)\tacc 100.0000 (100.0000)\tlr 0.000003\n",
      "epoch: [46/60][300/404]\ttime 0.013 (0.013)\tdata 0.000 (0.000)\teta 0:01:14\tloss 1.0339 (1.0378)\tacc 100.0000 (100.0000)\tlr 0.000003\n",
      "epoch: [46/60][400/404]\ttime 0.012 (0.013)\tdata 0.000 (0.000)\teta 0:01:12\tloss 1.0353 (1.0379)\tacc 100.0000 (99.9922)\tlr 0.000003\n",
      "epoch: [47/60][100/404]\ttime 0.012 (0.013)\tdata 0.000 (0.001)\teta 0:01:14\tloss 1.0532 (1.0386)\tacc 100.0000 (100.0000)\tlr 0.000003\n",
      "epoch: [47/60][200/404]\ttime 0.012 (0.013)\tdata 0.000 (0.001)\teta 0:01:11\tloss 1.0300 (1.0380)\tacc 100.0000 (100.0000)\tlr 0.000003\n",
      "epoch: [47/60][300/404]\ttime 0.013 (0.013)\tdata 0.000 (0.000)\teta 0:01:08\tloss 1.0263 (1.0374)\tacc 100.0000 (100.0000)\tlr 0.000003\n",
      "epoch: [47/60][400/404]\ttime 0.012 (0.013)\tdata 0.000 (0.000)\teta 0:01:07\tloss 1.0366 (1.0376)\tacc 100.0000 (100.0000)\tlr 0.000003\n",
      "epoch: [48/60][100/404]\ttime 0.013 (0.013)\tdata 0.000 (0.001)\teta 0:01:09\tloss 1.0401 (1.0378)\tacc 100.0000 (100.0000)\tlr 0.000003\n",
      "epoch: [48/60][200/404]\ttime 0.012 (0.013)\tdata 0.000 (0.001)\teta 0:01:05\tloss 1.0486 (1.0379)\tacc 100.0000 (100.0000)\tlr 0.000003\n",
      "epoch: [48/60][300/404]\ttime 0.013 (0.013)\tdata 0.000 (0.000)\teta 0:01:03\tloss 1.0358 (1.0379)\tacc 100.0000 (100.0000)\tlr 0.000003\n",
      "epoch: [48/60][400/404]\ttime 0.013 (0.013)\tdata 0.000 (0.000)\teta 0:01:02\tloss 1.0400 (1.0381)\tacc 100.0000 (100.0000)\tlr 0.000003\n",
      "epoch: [49/60][100/404]\ttime 0.013 (0.013)\tdata 0.000 (0.001)\teta 0:01:04\tloss 1.0356 (1.0373)\tacc 100.0000 (100.0000)\tlr 0.000003\n",
      "epoch: [49/60][200/404]\ttime 0.013 (0.013)\tdata 0.000 (0.001)\teta 0:01:00\tloss 1.0348 (1.0367)\tacc 100.0000 (100.0000)\tlr 0.000003\n",
      "epoch: [49/60][300/404]\ttime 0.012 (0.013)\tdata 0.000 (0.000)\teta 0:00:58\tloss 1.0287 (1.0365)\tacc 100.0000 (100.0000)\tlr 0.000003\n",
      "epoch: [49/60][400/404]\ttime 0.012 (0.013)\tdata 0.000 (0.000)\teta 0:00:56\tloss 1.0330 (1.0369)\tacc 100.0000 (100.0000)\tlr 0.000003\n",
      "epoch: [50/60][100/404]\ttime 0.012 (0.013)\tdata 0.000 (0.001)\teta 0:00:58\tloss 1.0347 (1.0362)\tacc 100.0000 (100.0000)\tlr 0.000003\n",
      "epoch: [50/60][200/404]\ttime 0.012 (0.013)\tdata 0.000 (0.001)\teta 0:00:55\tloss 1.0472 (1.0369)\tacc 100.0000 (100.0000)\tlr 0.000003\n",
      "epoch: [50/60][300/404]\ttime 0.013 (0.013)\tdata 0.000 (0.000)\teta 0:00:53\tloss 1.0502 (1.0371)\tacc 100.0000 (100.0000)\tlr 0.000003\n",
      "epoch: [50/60][400/404]\ttime 0.012 (0.013)\tdata 0.000 (0.000)\teta 0:00:51\tloss 1.0412 (1.0373)\tacc 100.0000 (100.0000)\tlr 0.000003\n",
      "##### Evaluating market1501 (source) #####\n",
      "Extracting features from query set ...\n"
     ]
    },
    {
     "name": "stderr",
     "output_type": "stream",
     "text": [
      "100%|███████████████████████████████████████████████████████████████████████████████████████████████████████████████████████████████████████████████████████████████████████| 34/34 [00:00<00:00, 59.55it/s]\n"
     ]
    },
    {
     "name": "stdout",
     "output_type": "stream",
     "text": [
      "Done, obtained 3368-by-512 matrix\n",
      "Extracting features from gallery set ...\n"
     ]
    },
    {
     "name": "stderr",
     "output_type": "stream",
     "text": [
      "100%|█████████████████████████████████████████████████████████████████████████████████████████████████████████████████████████████████████████████████████████████████████| 160/160 [00:02<00:00, 72.40it/s]\n"
     ]
    },
    {
     "name": "stdout",
     "output_type": "stream",
     "text": [
      "Done, obtained 15913-by-512 matrix\n",
      "Speed: 0.0014 sec/batch\n",
      "Computing distance matrix with metric=euclidean ...\n",
      "Computing CMC and mAP ...\n",
      "** Results **\n",
      "mAP: 65.8%\n",
      "CMC curve\n",
      "Rank-1  : 84.7%\n",
      "Rank-5  : 93.9%\n",
      "Rank-10 : 95.7%\n",
      "Rank-20 : 97.1%\n",
      "Checkpoint saved to \"log/resnet18_market1501/model/model.pth.tar-50\"\n",
      "epoch: [51/60][100/404]\ttime 0.013 (0.014)\tdata 0.000 (0.001)\teta 0:00:53\tloss 1.0332 (1.0365)\tacc 100.0000 (100.0000)\tlr 0.000003\n",
      "epoch: [51/60][200/404]\ttime 0.013 (0.013)\tdata 0.000 (0.001)\teta 0:00:50\tloss 1.0400 (1.0365)\tacc 100.0000 (100.0000)\tlr 0.000003\n",
      "epoch: [51/60][300/404]\ttime 0.012 (0.013)\tdata 0.000 (0.000)\teta 0:00:48\tloss 1.0361 (1.0368)\tacc 100.0000 (100.0000)\tlr 0.000003\n",
      "epoch: [51/60][400/404]\ttime 0.012 (0.013)\tdata 0.000 (0.000)\teta 0:00:46\tloss 1.0317 (1.0367)\tacc 100.0000 (100.0000)\tlr 0.000003\n",
      "epoch: [52/60][100/404]\ttime 0.013 (0.014)\tdata 0.000 (0.001)\teta 0:00:47\tloss 1.0676 (1.0377)\tacc 100.0000 (100.0000)\tlr 0.000003\n",
      "epoch: [52/60][200/404]\ttime 0.013 (0.013)\tdata 0.000 (0.001)\teta 0:00:44\tloss 1.0280 (1.0376)\tacc 100.0000 (100.0000)\tlr 0.000003\n",
      "epoch: [52/60][300/404]\ttime 0.013 (0.013)\tdata 0.000 (0.000)\teta 0:00:43\tloss 1.0433 (1.0374)\tacc 100.0000 (100.0000)\tlr 0.000003\n",
      "epoch: [52/60][400/404]\ttime 0.012 (0.013)\tdata 0.000 (0.000)\teta 0:00:41\tloss 1.0265 (1.0376)\tacc 100.0000 (100.0000)\tlr 0.000003\n",
      "epoch: [53/60][100/404]\ttime 0.012 (0.013)\tdata 0.000 (0.001)\teta 0:00:42\tloss 1.0420 (1.0373)\tacc 100.0000 (100.0000)\tlr 0.000003\n",
      "epoch: [53/60][200/404]\ttime 0.013 (0.013)\tdata 0.000 (0.001)\teta 0:00:39\tloss 1.0287 (1.0381)\tacc 100.0000 (100.0000)\tlr 0.000003\n",
      "epoch: [53/60][300/404]\ttime 0.013 (0.013)\tdata 0.000 (0.000)\teta 0:00:37\tloss 1.0247 (1.0380)\tacc 100.0000 (100.0000)\tlr 0.000003\n",
      "epoch: [53/60][400/404]\ttime 0.012 (0.013)\tdata 0.000 (0.000)\teta 0:00:36\tloss 1.0410 (1.0377)\tacc 100.0000 (100.0000)\tlr 0.000003\n",
      "epoch: [54/60][100/404]\ttime 0.013 (0.013)\tdata 0.000 (0.001)\teta 0:00:36\tloss 1.0293 (1.0384)\tacc 100.0000 (100.0000)\tlr 0.000003\n",
      "epoch: [54/60][200/404]\ttime 0.013 (0.013)\tdata 0.000 (0.001)\teta 0:00:34\tloss 1.0267 (1.0375)\tacc 100.0000 (100.0000)\tlr 0.000003\n",
      "epoch: [54/60][300/404]\ttime 0.013 (0.013)\tdata 0.000 (0.000)\teta 0:00:32\tloss 1.0372 (1.0376)\tacc 100.0000 (100.0000)\tlr 0.000003\n",
      "epoch: [54/60][400/404]\ttime 0.012 (0.013)\tdata 0.000 (0.000)\teta 0:00:31\tloss 1.0357 (1.0375)\tacc 100.0000 (100.0000)\tlr 0.000003\n",
      "epoch: [55/60][100/404]\ttime 0.013 (0.013)\tdata 0.000 (0.001)\teta 0:00:31\tloss 1.0301 (1.0364)\tacc 100.0000 (100.0000)\tlr 0.000003\n",
      "epoch: [55/60][200/404]\ttime 0.013 (0.013)\tdata 0.000 (0.001)\teta 0:00:28\tloss 1.0410 (1.0367)\tacc 100.0000 (100.0000)\tlr 0.000003\n",
      "epoch: [55/60][300/404]\ttime 0.013 (0.013)\tdata 0.000 (0.000)\teta 0:00:27\tloss 1.0297 (1.0366)\tacc 100.0000 (100.0000)\tlr 0.000003\n",
      "epoch: [55/60][400/404]\ttime 0.012 (0.013)\tdata 0.000 (0.000)\teta 0:00:25\tloss 1.0372 (1.0368)\tacc 100.0000 (100.0000)\tlr 0.000003\n",
      "##### Evaluating market1501 (source) #####\n",
      "Extracting features from query set ...\n"
     ]
    },
    {
     "name": "stderr",
     "output_type": "stream",
     "text": [
      "100%|███████████████████████████████████████████████████████████████████████████████████████████████████████████████████████████████████████████████████████████████████████| 34/34 [00:00<00:00, 57.77it/s]\n"
     ]
    },
    {
     "name": "stdout",
     "output_type": "stream",
     "text": [
      "Done, obtained 3368-by-512 matrix\n",
      "Extracting features from gallery set ...\n"
     ]
    },
    {
     "name": "stderr",
     "output_type": "stream",
     "text": [
      "100%|█████████████████████████████████████████████████████████████████████████████████████████████████████████████████████████████████████████████████████████████████████| 160/160 [00:02<00:00, 70.85it/s]\n"
     ]
    },
    {
     "name": "stdout",
     "output_type": "stream",
     "text": [
      "Done, obtained 15913-by-512 matrix\n",
      "Speed: 0.0015 sec/batch\n",
      "Computing distance matrix with metric=euclidean ...\n",
      "Computing CMC and mAP ...\n",
      "** Results **\n",
      "mAP: 65.8%\n",
      "CMC curve\n",
      "Rank-1  : 84.9%\n",
      "Rank-5  : 93.7%\n",
      "Rank-10 : 95.7%\n",
      "Rank-20 : 97.2%\n",
      "Checkpoint saved to \"log/resnet18_market1501/model/model.pth.tar-55\"\n",
      "epoch: [56/60][100/404]\ttime 0.013 (0.014)\tdata 0.000 (0.001)\teta 0:00:26\tloss 1.0345 (1.0360)\tacc 100.0000 (100.0000)\tlr 0.000003\n",
      "epoch: [56/60][200/404]\ttime 0.013 (0.013)\tdata 0.000 (0.001)\teta 0:00:23\tloss 1.0296 (1.0364)\tacc 100.0000 (100.0000)\tlr 0.000003\n",
      "epoch: [56/60][300/404]\ttime 0.013 (0.013)\tdata 0.000 (0.000)\teta 0:00:22\tloss 1.0613 (1.0368)\tacc 100.0000 (100.0000)\tlr 0.000003\n",
      "epoch: [56/60][400/404]\ttime 0.012 (0.013)\tdata 0.000 (0.000)\teta 0:00:20\tloss 1.0235 (1.0368)\tacc 100.0000 (100.0000)\tlr 0.000003\n",
      "epoch: [57/60][100/404]\ttime 0.013 (0.013)\tdata 0.000 (0.001)\teta 0:00:20\tloss 1.0254 (1.0383)\tacc 100.0000 (100.0000)\tlr 0.000003\n",
      "epoch: [57/60][200/404]\ttime 0.013 (0.013)\tdata 0.000 (0.001)\teta 0:00:18\tloss 1.0306 (1.0369)\tacc 100.0000 (100.0000)\tlr 0.000003\n",
      "epoch: [57/60][300/404]\ttime 0.013 (0.013)\tdata 0.000 (0.000)\teta 0:00:16\tloss 1.0355 (1.0369)\tacc 100.0000 (100.0000)\tlr 0.000003\n",
      "epoch: [57/60][400/404]\ttime 0.012 (0.013)\tdata 0.000 (0.000)\teta 0:00:15\tloss 1.0261 (1.0370)\tacc 100.0000 (100.0000)\tlr 0.000003\n",
      "epoch: [58/60][100/404]\ttime 0.013 (0.014)\tdata 0.000 (0.001)\teta 0:00:15\tloss 1.0226 (1.0383)\tacc 100.0000 (100.0000)\tlr 0.000003\n",
      "epoch: [58/60][200/404]\ttime 0.013 (0.013)\tdata 0.000 (0.001)\teta 0:00:13\tloss 1.0269 (1.0371)\tacc 100.0000 (100.0000)\tlr 0.000003\n",
      "epoch: [58/60][300/404]\ttime 0.013 (0.013)\tdata 0.000 (0.000)\teta 0:00:11\tloss 1.0231 (1.0367)\tacc 100.0000 (100.0000)\tlr 0.000003\n",
      "epoch: [58/60][400/404]\ttime 0.012 (0.013)\tdata 0.000 (0.000)\teta 0:00:10\tloss 1.0343 (1.0373)\tacc 100.0000 (100.0000)\tlr 0.000003\n",
      "epoch: [59/60][100/404]\ttime 0.012 (0.014)\tdata 0.000 (0.001)\teta 0:00:09\tloss 1.0383 (1.0359)\tacc 100.0000 (100.0000)\tlr 0.000003\n",
      "epoch: [59/60][200/404]\ttime 0.013 (0.013)\tdata 0.001 (0.001)\teta 0:00:07\tloss 1.0622 (1.0361)\tacc 100.0000 (100.0000)\tlr 0.000003\n",
      "epoch: [59/60][300/404]\ttime 0.012 (0.013)\tdata 0.000 (0.000)\teta 0:00:06\tloss 1.0337 (1.0365)\tacc 100.0000 (100.0000)\tlr 0.000003\n",
      "epoch: [59/60][400/404]\ttime 0.012 (0.013)\tdata 0.000 (0.000)\teta 0:00:05\tloss 1.0456 (1.0365)\tacc 100.0000 (100.0000)\tlr 0.000003\n",
      "epoch: [60/60][100/404]\ttime 0.013 (0.013)\tdata 0.000 (0.001)\teta 0:00:04\tloss 1.0449 (1.0360)\tacc 100.0000 (100.0000)\tlr 0.000003\n",
      "epoch: [60/60][200/404]\ttime 0.013 (0.013)\tdata 0.000 (0.001)\teta 0:00:02\tloss 1.0329 (1.0366)\tacc 100.0000 (100.0000)\tlr 0.000003\n",
      "epoch: [60/60][300/404]\ttime 0.013 (0.013)\tdata 0.000 (0.000)\teta 0:00:01\tloss 1.0336 (1.0359)\tacc 100.0000 (100.0000)\tlr 0.000003\n",
      "epoch: [60/60][400/404]\ttime 0.013 (0.013)\tdata 0.000 (0.000)\teta 0:00:00\tloss 1.0377 (1.0367)\tacc 100.0000 (100.0000)\tlr 0.000003\n",
      "=> Final test\n",
      "##### Evaluating market1501 (source) #####\n",
      "Extracting features from query set ...\n"
     ]
    },
    {
     "name": "stderr",
     "output_type": "stream",
     "text": [
      "100%|███████████████████████████████████████████████████████████████████████████████████████████████████████████████████████████████████████████████████████████████████████| 34/34 [00:00<00:00, 57.51it/s]\n"
     ]
    },
    {
     "name": "stdout",
     "output_type": "stream",
     "text": [
      "Done, obtained 3368-by-512 matrix\n",
      "Extracting features from gallery set ...\n"
     ]
    },
    {
     "name": "stderr",
     "output_type": "stream",
     "text": [
      "100%|█████████████████████████████████████████████████████████████████████████████████████████████████████████████████████████████████████████████████████████████████████| 160/160 [00:02<00:00, 72.89it/s]\n"
     ]
    },
    {
     "name": "stdout",
     "output_type": "stream",
     "text": [
      "Done, obtained 15913-by-512 matrix\n",
      "Speed: 0.0014 sec/batch\n",
      "Computing distance matrix with metric=euclidean ...\n",
      "Computing CMC and mAP ...\n",
      "** Results **\n",
      "mAP: 65.8%\n",
      "CMC curve\n",
      "Rank-1  : 84.8%\n",
      "Rank-5  : 93.7%\n",
      "Rank-10 : 95.6%\n",
      "Rank-20 : 97.1%\n",
      "Checkpoint saved to \"log/resnet18_market1501/model/model.pth.tar-60\"\n",
      "Elapsed 0:06:21\n"
     ]
    }
   ],
   "source": [
    "engine.run(\n",
    "    save_dir=f\"log/{model_name}_{dataset_name}\",\n",
    "    max_epoch=60,\n",
    "    eval_freq=5,\n",
    "    print_freq=100,\n",
    "    test_only=False,\n",
    "    visrank=False\n",
    ")"
   ]
  }
 ],
 "metadata": {
  "kernelspec": {
   "display_name": "Python 3 (ipykernel)",
   "language": "python",
   "name": "python3"
  },
  "language_info": {
   "codemirror_mode": {
    "name": "ipython",
    "version": 3
   },
   "file_extension": ".py",
   "mimetype": "text/x-python",
   "name": "python",
   "nbconvert_exporter": "python",
   "pygments_lexer": "ipython3",
   "version": "3.7.16"
  }
 },
 "nbformat": 4,
 "nbformat_minor": 5
}
