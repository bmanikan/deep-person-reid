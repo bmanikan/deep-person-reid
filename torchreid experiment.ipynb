{
 "cells": [
  {
   "cell_type": "code",
   "execution_count": 1,
   "id": "aed01835",
   "metadata": {},
   "outputs": [
    {
     "name": "stderr",
     "output_type": "stream",
     "text": [
      "/home/trewq/Desktop/Projects/RetailAnalytics/REID/RESEARCH/deep-person-reid/torchreid/metrics/rank.py:11: UserWarning: Cython evaluation (very fast so highly recommended) is unavailable, now use python evaluation.\n",
      "  warnings.warn(\n",
      "Failed to detect the name of this notebook, you can set it manually with the WANDB_NOTEBOOK_NAME environment variable to enable code saving.\n",
      "\u001b[34m\u001b[1mwandb\u001b[0m: Currently logged in as: \u001b[33mbalamanikandan\u001b[0m (\u001b[33mtangoeye\u001b[0m). Use \u001b[1m`wandb login --relogin`\u001b[0m to force relogin\n"
     ]
    },
    {
     "data": {
      "text/html": [
       "Tracking run with wandb version 0.17.0"
      ],
      "text/plain": [
       "<IPython.core.display.HTML object>"
      ]
     },
     "metadata": {},
     "output_type": "display_data"
    },
    {
     "data": {
      "text/html": [
       "Run data is saved locally in <code>/home/trewq/Desktop/Projects/RetailAnalytics/REID/RESEARCH/deep-person-reid/wandb/run-20240603_010915-72nuc9vm</code>"
      ],
      "text/plain": [
       "<IPython.core.display.HTML object>"
      ]
     },
     "metadata": {},
     "output_type": "display_data"
    },
    {
     "data": {
      "text/html": [
       "Syncing run <strong><a href='https://wandb.ai/tangoeye/REID-V3/runs/72nuc9vm' target=\"_blank\">genial-shadow-5</a></strong> to <a href='https://wandb.ai/tangoeye/REID-V3' target=\"_blank\">Weights & Biases</a> (<a href='https://wandb.me/run' target=\"_blank\">docs</a>)<br/>"
      ],
      "text/plain": [
       "<IPython.core.display.HTML object>"
      ]
     },
     "metadata": {},
     "output_type": "display_data"
    },
    {
     "data": {
      "text/html": [
       " View project at <a href='https://wandb.ai/tangoeye/REID-V3' target=\"_blank\">https://wandb.ai/tangoeye/REID-V3</a>"
      ],
      "text/plain": [
       "<IPython.core.display.HTML object>"
      ]
     },
     "metadata": {},
     "output_type": "display_data"
    },
    {
     "data": {
      "text/html": [
       " View run at <a href='https://wandb.ai/tangoeye/REID-V3/runs/72nuc9vm' target=\"_blank\">https://wandb.ai/tangoeye/REID-V3/runs/72nuc9vm</a>"
      ],
      "text/plain": [
       "<IPython.core.display.HTML object>"
      ]
     },
     "metadata": {},
     "output_type": "display_data"
    },
    {
     "data": {
      "text/html": [
       "<button onClick=\"this.nextSibling.style.display='block';this.style.display='none';\">Display W&B run</button><iframe src='https://wandb.ai/tangoeye/REID-V3/runs/72nuc9vm?jupyter=true' style='border:none;width:100%;height:420px;display:none;'></iframe>"
      ],
      "text/plain": [
       "<wandb.sdk.wandb_run.Run at 0x71365150ad40>"
      ]
     },
     "execution_count": 1,
     "metadata": {},
     "output_type": "execute_result"
    }
   ],
   "source": [
    "import yaml\n",
    "import wandb\n",
    "import torchreid\n",
    "\n",
    "config_path = \"configs/im_osnet_ain_x1_0_softmax_256x128_amsgrad_cosine.yaml\"\n",
    "with open(config_path, 'r') as file:\n",
    "    config = yaml.safe_load(file)\n",
    "\n",
    "wandb.init(project=config['wandb']['project'],\n",
    "           entity=config['wandb']['entity'],\n",
    "           config=config)\n"
   ]
  },
  {
   "cell_type": "code",
   "execution_count": 2,
   "id": "36609ee7-f1b7-485b-8522-c97a2e8363c3",
   "metadata": {
    "tags": []
   },
   "outputs": [
    {
     "name": "stdout",
     "output_type": "stream",
     "text": [
      "Building train transforms ...\n",
      "+ resize to 256x128\n",
      "+ random flip\n",
      "+ color jitter\n",
      "+ to torch tensor of range [0, 1]\n",
      "+ normalization (mean=[0.485, 0.456, 0.406], std=[0.229, 0.224, 0.225])\n",
      "Building test transforms ...\n",
      "+ resize to 256x128\n",
      "+ to torch tensor of range [0, 1]\n",
      "+ normalization (mean=[0.485, 0.456, 0.406], std=[0.229, 0.224, 0.225])\n",
      "=> Loading train (source) dataset\n",
      "=> Loaded Market1501\n",
      "  ----------------------------------------\n",
      "  subset   | # ids | # images | # cameras\n",
      "  ----------------------------------------\n",
      "  train    |   751 |    12936 |         6\n",
      "  query    |   750 |     3368 |         6\n",
      "  gallery  |   751 |    15913 |         6\n",
      "  ----------------------------------------\n",
      "=> Loading test (target) dataset\n",
      "=> Loaded Market1501\n",
      "  ----------------------------------------\n",
      "  subset   | # ids | # images | # cameras\n",
      "  ----------------------------------------\n",
      "  train    |   751 |    12936 |         6\n",
      "  query    |   750 |     3368 |         6\n",
      "  gallery  |   751 |    15913 |         6\n",
      "  ----------------------------------------\n",
      "\n",
      "\n",
      "  **************** Summary ****************\n",
      "  source            : ['market1501']\n",
      "  # source datasets : 1\n",
      "  # source ids      : 751\n",
      "  # source images   : 12936\n",
      "  # source cameras  : 6\n",
      "  target            : ['market1501']\n",
      "  *****************************************\n",
      "\n",
      "\n"
     ]
    }
   ],
   "source": [
    "import torchreid\n",
    "datamanager = torchreid.data.ImageDataManager(\n",
    "    root            = config['data']['root'],\n",
    "    sources         = config['data']['sources'],\n",
    "    targets         = config['data']['targets'],\n",
    "    height          = config['data']['height'],\n",
    "    width           = config['data']['width'],\n",
    "    batch_size_train= config['data']['batch_size'],\n",
    "    batch_size_test = config['data']['batch_size'],\n",
    "    transforms      = config['data']['transforms']\n",
    ")"
   ]
  },
  {
   "cell_type": "code",
   "execution_count": 3,
   "id": "98b6fddd-e9cd-431b-b7ec-5b82a0ab9fc5",
   "metadata": {
    "tags": []
   },
   "outputs": [],
   "source": [
    "model = torchreid.models.build_model(\n",
    "    name        = config['model']['name'],\n",
    "    num_classes = 2000 if 'tango2000' in config['data']['sources'] else datamanager.num_train_pids, #2000 for Tango\n",
    "    loss        = config['loss']['name'],\n",
    "    pretrained  = config['model']['pretrained'],\n",
    "    pooling     = config['model']['final_pooling'],\n",
    "    **config['custom']\n",
    ")\n",
    "model = model.cuda()\n",
    "optimizer = torchreid.optim.build_optimizer(\n",
    "    model,\n",
    "    optim=\"adam\",\n",
    "    lr=0.0003\n",
    ")\n",
    "\n",
    "scheduler = torchreid.optim.build_lr_scheduler(\n",
    "    optimizer,\n",
    "    lr_scheduler=\"single_step\",\n",
    "    stepsize=20\n",
    ")"
   ]
  },
  {
   "cell_type": "code",
   "execution_count": 4,
   "id": "39cf1e57-0dce-4a74-8c35-bd4d7e4ad2ff",
   "metadata": {
    "tags": []
   },
   "outputs": [],
   "source": [
    "# from tools.visualize_actmap import visactmap\n",
    "# test_loader = datamanager.test_loader\n",
    "# visactmap(model, test_loader, f\"log/visactmap_{model_name}_{dataset_name}\", 128, 256, True, [0.485, 0.456, 0.406], [0.229, 0.224, 0.225])"
   ]
  },
  {
   "cell_type": "code",
   "execution_count": 5,
   "id": "1b07cb99-fad4-47c9-9a17-3f87d0db5dfe",
   "metadata": {
    "tags": []
   },
   "outputs": [],
   "source": [
    "engine = torchreid.engine.ImageSoftmaxEngine(\n",
    "    datamanager,\n",
    "    model,\n",
    "    optimizer=optimizer,\n",
    "    scheduler=scheduler,\n",
    "    label_smooth=True,\n",
    "    logger=wandb\n",
    ")"
   ]
  },
  {
   "cell_type": "code",
   "execution_count": 6,
   "id": "4a080fba-1edf-4104-a162-cf93bda57559",
   "metadata": {
    "tags": []
   },
   "outputs": [
    {
     "name": "stdout",
     "output_type": "stream",
     "text": [
      "=> Start training\n",
      "epoch: [1/60][50/101]\ttime 0.151 (0.169)\tdata 0.000 (0.006)\teta 0:16:55\tloss 5.5082 (6.2888)\tacc 9.3750 (5.4219)\tlr 0.000300\n",
      "epoch: [1/60][100/101]\ttime 0.149 (0.159)\tdata 0.000 (0.003)\teta 0:15:49\tloss 3.9327 (5.3938)\tacc 31.2500 (15.2891)\tlr 0.000300\n",
      "epoch: [2/60][50/101]\ttime 0.150 (0.154)\tdata 0.000 (0.004)\teta 0:15:12\tloss 2.5561 (2.9104)\tacc 68.7500 (55.8594)\tlr 0.000300\n",
      "epoch: [2/60][100/101]\ttime 0.154 (0.153)\tdata 0.000 (0.002)\teta 0:14:57\tloss 1.9116 (2.5736)\tacc 77.3438 (63.7656)\tlr 0.000300\n",
      "epoch: [3/60][50/101]\ttime 0.147 (0.151)\tdata 0.001 (0.004)\teta 0:14:37\tloss 1.6080 (1.7010)\tacc 87.5000 (87.0000)\tlr 0.000300\n",
      "epoch: [3/60][100/101]\ttime 0.155 (0.150)\tdata 0.000 (0.002)\teta 0:14:21\tloss 1.5150 (1.6519)\tacc 89.0625 (87.8125)\tlr 0.000300\n",
      "epoch: [4/60][50/101]\ttime 0.147 (0.152)\tdata 0.000 (0.004)\teta 0:14:27\tloss 1.3871 (1.4088)\tacc 93.7500 (94.0156)\tlr 0.000300\n",
      "epoch: [4/60][100/101]\ttime 0.147 (0.150)\tdata 0.000 (0.002)\teta 0:14:09\tloss 1.4656 (1.3991)\tacc 92.9688 (94.3047)\tlr 0.000300\n",
      "epoch: [5/60][50/101]\ttime 0.153 (0.152)\tdata 0.000 (0.004)\teta 0:14:10\tloss 1.2963 (1.2824)\tacc 96.0938 (97.2969)\tlr 0.000300\n",
      "epoch: [5/60][100/101]\ttime 0.146 (0.151)\tdata 0.000 (0.002)\teta 0:14:00\tloss 1.2730 (1.2881)\tacc 97.6562 (96.9453)\tlr 0.000300\n",
      "##### Evaluating market1501 (source) #####\n",
      "Extracting features from query set ...\n",
      "Done, obtained 3368-by-2048 matrix\n",
      "Extracting features from gallery set ...\n",
      "Done, obtained 15913-by-2048 matrix\n",
      "Speed: 0.0020 sec/batch\n",
      "Computing distance matrix with metric=euclidean ...\n",
      "Computing CMC and mAP ...\n",
      "[   0  455    0 ... 1026  668  723] <class 'numpy.ndarray'> False\n",
      "** Results **\n",
      "mAP: 52.7%\n",
      "CMC curve\n",
      "Rank-1  : 74.5%\n",
      "Rank-5  : 87.2%\n",
      "Rank-10 : 91.2%\n",
      "Rank-20 : 94.2%\n",
      "Checkpoint saved to \"log/resnet50_market1501/model/model.pth.tar-5\"\n",
      "epoch: [6/60][50/101]\ttime 0.154 (0.156)\tdata 0.000 (0.004)\teta 0:14:19\tloss 1.2399 (1.2441)\tacc 98.4375 (98.0000)\tlr 0.000300\n",
      "epoch: [6/60][100/101]\ttime 0.153 (0.154)\tdata 0.000 (0.002)\teta 0:13:57\tloss 1.2929 (1.2538)\tacc 95.3125 (97.6641)\tlr 0.000300\n",
      "epoch: [7/60][50/101]\ttime 0.154 (0.156)\tdata 0.000 (0.004)\teta 0:14:03\tloss 1.2122 (1.2213)\tacc 96.8750 (98.3594)\tlr 0.000300\n",
      "epoch: [7/60][100/101]\ttime 0.150 (0.154)\tdata 0.000 (0.002)\teta 0:13:43\tloss 1.2009 (1.2277)\tacc 97.6562 (98.0547)\tlr 0.000300\n",
      "epoch: [8/60][50/101]\ttime 0.151 (0.156)\tdata 0.000 (0.004)\teta 0:13:47\tloss 1.1953 (1.2049)\tacc 99.2188 (98.5781)\tlr 0.000300\n",
      "epoch: [8/60][100/101]\ttime 0.147 (0.152)\tdata 0.000 (0.002)\teta 0:13:18\tloss 1.2310 (1.2113)\tacc 96.8750 (98.4062)\tlr 0.000300\n",
      "epoch: [9/60][50/101]\ttime 0.142 (0.146)\tdata 0.000 (0.004)\teta 0:12:38\tloss 1.1974 (1.1847)\tacc 98.4375 (99.0156)\tlr 0.000300\n",
      "epoch: [9/60][100/101]\ttime 0.140 (0.147)\tdata 0.000 (0.002)\teta 0:12:35\tloss 1.1949 (1.1884)\tacc 99.2188 (98.8359)\tlr 0.000300\n",
      "epoch: [10/60][50/101]\ttime 0.143 (0.149)\tdata 0.000 (0.004)\teta 0:12:37\tloss 1.1688 (1.1832)\tacc 100.0000 (98.8906)\tlr 0.000300\n",
      "epoch: [10/60][100/101]\ttime 0.146 (0.145)\tdata 0.000 (0.002)\teta 0:12:13\tloss 1.1832 (1.1907)\tacc 99.2188 (98.7031)\tlr 0.000300\n",
      "##### Evaluating market1501 (source) #####\n",
      "Extracting features from query set ...\n",
      "Done, obtained 3368-by-2048 matrix\n",
      "Extracting features from gallery set ...\n",
      "Done, obtained 15913-by-2048 matrix\n",
      "Speed: 0.0016 sec/batch\n",
      "Computing distance matrix with metric=euclidean ...\n",
      "Computing CMC and mAP ...\n",
      "[   0  455    0 ... 1026  668  723] <class 'numpy.ndarray'> False\n"
     ]
    }
   ],
   "source": [
    "engine.run(\n",
    "    save_dir=f\"log/{config['model']['name']}_{config['data']['sources'][0]}\",\n",
    "    max_epoch=60,\n",
    "    eval_freq=5,\n",
    "    print_freq=50,\n",
    "    test_only=False,\n",
    "    visrank=False,\n",
    "    eval_metric='default'\n",
    ")"
   ]
  },
  {
   "cell_type": "code",
   "execution_count": null,
   "id": "baa17493",
   "metadata": {},
   "outputs": [],
   "source": []
  }
 ],
 "metadata": {
  "kernelspec": {
   "display_name": "Python 3 (ipykernel)",
   "language": "python",
   "name": "python3"
  },
  "language_info": {
   "codemirror_mode": {
    "name": "ipython",
    "version": 3
   },
   "file_extension": ".py",
   "mimetype": "text/x-python",
   "name": "python",
   "nbconvert_exporter": "python",
   "pygments_lexer": "ipython3",
   "version": "3.10.14"
  }
 },
 "nbformat": 4,
 "nbformat_minor": 5
}
