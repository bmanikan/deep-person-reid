{
 "cells": [
  {
   "cell_type": "code",
   "execution_count": 1,
   "id": "aed01835",
   "metadata": {},
   "outputs": [
    {
     "name": "stderr",
     "output_type": "stream",
     "text": [
      "Failed to detect the name of this notebook, you can set it manually with the WANDB_NOTEBOOK_NAME environment variable to enable code saving.\n",
      "\u001b[34m\u001b[1mwandb\u001b[0m: Currently logged in as: \u001b[33mbalamanikandan\u001b[0m (\u001b[33mtangoeye\u001b[0m). Use \u001b[1m`wandb login --relogin`\u001b[0m to force relogin\n"
     ]
    },
    {
     "data": {
      "text/html": [
       "wandb version 0.17.1 is available!  To upgrade, please run:\n",
       " $ pip install wandb --upgrade"
      ],
      "text/plain": [
       "<IPython.core.display.HTML object>"
      ]
     },
     "metadata": {},
     "output_type": "display_data"
    },
    {
     "data": {
      "text/html": [
       "Tracking run with wandb version 0.17.0"
      ],
      "text/plain": [
       "<IPython.core.display.HTML object>"
      ]
     },
     "metadata": {},
     "output_type": "display_data"
    },
    {
     "data": {
      "text/html": [
       "Run data is saved locally in <code>/home/trewq/Desktop/Projects/RetailAnalytics/REID/RESEARCH/deep-person-reid/wandb/run-20240609_194905-kszwpalb</code>"
      ],
      "text/plain": [
       "<IPython.core.display.HTML object>"
      ]
     },
     "metadata": {},
     "output_type": "display_data"
    },
    {
     "data": {
      "text/html": [
       "Syncing run <strong><a href='https://wandb.ai/tangoeye/REID-V3/runs/kszwpalb' target=\"_blank\">silver-elevator-17</a></strong> to <a href='https://wandb.ai/tangoeye/REID-V3' target=\"_blank\">Weights & Biases</a> (<a href='https://wandb.me/run' target=\"_blank\">docs</a>)<br/>"
      ],
      "text/plain": [
       "<IPython.core.display.HTML object>"
      ]
     },
     "metadata": {},
     "output_type": "display_data"
    },
    {
     "data": {
      "text/html": [
       " View project at <a href='https://wandb.ai/tangoeye/REID-V3' target=\"_blank\">https://wandb.ai/tangoeye/REID-V3</a>"
      ],
      "text/plain": [
       "<IPython.core.display.HTML object>"
      ]
     },
     "metadata": {},
     "output_type": "display_data"
    },
    {
     "data": {
      "text/html": [
       " View run at <a href='https://wandb.ai/tangoeye/REID-V3/runs/kszwpalb' target=\"_blank\">https://wandb.ai/tangoeye/REID-V3/runs/kszwpalb</a>"
      ],
      "text/plain": [
       "<IPython.core.display.HTML object>"
      ]
     },
     "metadata": {},
     "output_type": "display_data"
    },
    {
     "data": {
      "text/html": [
       "<button onClick=\"this.nextSibling.style.display='block';this.style.display='none';\">Display W&B run</button><iframe src='https://wandb.ai/tangoeye/REID-V3/runs/kszwpalb?jupyter=true' style='border:none;width:100%;height:420px;display:none;'></iframe>"
      ],
      "text/plain": [
       "<wandb.sdk.wandb_run.Run at 0x70325266ffa0>"
      ]
     },
     "execution_count": 1,
     "metadata": {},
     "output_type": "execute_result"
    }
   ],
   "source": [
    "import yaml\n",
    "import wandb\n",
    "\n",
    "config_path = \"configs/base_config.yaml\"\n",
    "with open(config_path, 'r') as file:\n",
    "    config = yaml.safe_load(file)\n",
    "\n",
    "wandb.init(project=config['wandb']['project'],\n",
    "           entity=config['wandb']['entity'],\n",
    "           config=config)"
   ]
  },
  {
   "cell_type": "code",
   "execution_count": 2,
   "id": "36609ee7-f1b7-485b-8522-c97a2e8363c3",
   "metadata": {
    "tags": []
   },
   "outputs": [
    {
     "name": "stderr",
     "output_type": "stream",
     "text": [
      "/home/trewq/Desktop/Projects/RetailAnalytics/REID/RESEARCH/deep-person-reid/torchreid/metrics/rank.py:11: UserWarning: Cython evaluation (very fast so highly recommended) is unavailable, now use python evaluation.\n",
      "  warnings.warn(\n"
     ]
    },
    {
     "name": "stdout",
     "output_type": "stream",
     "text": [
      "Building train transforms ...\n",
      "+ resize to 256x128\n",
      "+ random flip\n",
      "+ random crop (enlarge to 288x144 and crop 256x128)\n",
      "+ to torch tensor of range [0, 1]\n",
      "+ normalization (mean=[0.485, 0.456, 0.406], std=[0.229, 0.224, 0.225])\n",
      "Building test transforms ...\n",
      "+ resize to 256x128\n",
      "+ to torch tensor of range [0, 1]\n",
      "+ normalization (mean=[0.485, 0.456, 0.406], std=[0.229, 0.224, 0.225])\n",
      "=> Loading train (source) dataset\n",
      "=> Loaded Market1501\n",
      "  ----------------------------------------\n",
      "  subset   | # ids | # images | # cameras\n",
      "  ----------------------------------------\n",
      "  train    |   751 |    12936 |         6\n",
      "  query    |   750 |     3368 |         6\n",
      "  gallery  |   751 |    15913 |         6\n",
      "  ----------------------------------------\n",
      "=> Loading test (target) dataset\n",
      "=> Loaded Market1501\n",
      "  ----------------------------------------\n",
      "  subset   | # ids | # images | # cameras\n",
      "  ----------------------------------------\n",
      "  train    |   751 |    12936 |         6\n",
      "  query    |   750 |     3368 |         6\n",
      "  gallery  |   751 |    15913 |         6\n",
      "  ----------------------------------------\n",
      "\n",
      "\n",
      "  **************** Summary ****************\n",
      "  source            : ['market1501']\n",
      "  # source datasets : 1\n",
      "  # source ids      : 751\n",
      "  # source images   : 12936\n",
      "  # source cameras  : 6\n",
      "  target            : ['market1501']\n",
      "  *****************************************\n",
      "\n",
      "\n"
     ]
    }
   ],
   "source": [
    "import torchreid\n",
    "datamanager = torchreid.data.ImageDataManager(\n",
    "    root            = config['data']['root'],\n",
    "    sources         = config['data']['sources'],\n",
    "    targets         = config['data']['targets'],\n",
    "    height          = config['data']['height'],\n",
    "    width           = config['data']['width'],\n",
    "    batch_size_train= config['data']['batch_size'],\n",
    "    batch_size_test = config['data']['batch_size'],\n",
    "    transforms      = config['data']['transforms']\n",
    ")"
   ]
  },
  {
   "cell_type": "code",
   "execution_count": 3,
   "id": "98b6fddd-e9cd-431b-b7ec-5b82a0ab9fc5",
   "metadata": {
    "tags": []
   },
   "outputs": [
    {
     "name": "stdout",
     "output_type": "stream",
     "text": [
      "gem\n"
     ]
    }
   ],
   "source": [
    "model = torchreid.models.build_model(\n",
    "    name        = config['model']['name'],\n",
    "    num_classes = 2000 if 'tango2000' in config['data']['sources'] else datamanager.num_train_pids, #2000 for Tango\n",
    "    loss        = config['loss']['name'],\n",
    "    pretrained  = config['model']['pretrained'],\n",
    "    pooling     = config['model']['final_pooling'],\n",
    "    **config['custom']\n",
    ")\n",
    "model = model.cuda()\n",
    "optimizer = torchreid.optim.build_optimizer(\n",
    "    model,\n",
    "    optim=config['train']['optim'],\n",
    "    lr=config['train']['lr']\n",
    ")\n",
    "\n",
    "scheduler = torchreid.optim.build_lr_scheduler(\n",
    "    optimizer,\n",
    "    **config['train']['lr_scheduler'],\n",
    ")"
   ]
  },
  {
   "cell_type": "code",
   "execution_count": 4,
   "id": "91dcfd04",
   "metadata": {},
   "outputs": [
    {
     "data": {
      "text/plain": [
       "ResNet(\n",
       "  (conv1): Conv2d(3, 64, kernel_size=(7, 7), stride=(2, 2), padding=(3, 3), bias=False)\n",
       "  (bn1): BatchNorm2d(64, eps=1e-05, momentum=0.1, affine=True, track_running_stats=True)\n",
       "  (relu): ReLU(inplace=True)\n",
       "  (maxpool): MaxPool2d(kernel_size=3, stride=2, padding=1, dilation=1, ceil_mode=False)\n",
       "  (layer1): Sequential(\n",
       "    (0): Bottleneck(\n",
       "      (conv1): Conv2d(64, 64, kernel_size=(1, 1), stride=(1, 1), bias=False)\n",
       "      (bn1): BatchNorm2d(64, eps=1e-05, momentum=0.1, affine=True, track_running_stats=True)\n",
       "      (conv2): Conv2d(64, 64, kernel_size=(3, 3), stride=(1, 1), padding=(1, 1), bias=False)\n",
       "      (bn2): BatchNorm2d(64, eps=1e-05, momentum=0.1, affine=True, track_running_stats=True)\n",
       "      (conv3): Conv2d(64, 256, kernel_size=(1, 1), stride=(1, 1), bias=False)\n",
       "      (bn3): BatchNorm2d(256, eps=1e-05, momentum=0.1, affine=True, track_running_stats=True)\n",
       "      (relu): ReLU(inplace=True)\n",
       "      (downsample): Sequential(\n",
       "        (0): Conv2d(64, 256, kernel_size=(1, 1), stride=(1, 1), bias=False)\n",
       "        (1): BatchNorm2d(256, eps=1e-05, momentum=0.1, affine=True, track_running_stats=True)\n",
       "      )\n",
       "    )\n",
       "    (1): Bottleneck(\n",
       "      (conv1): Conv2d(256, 64, kernel_size=(1, 1), stride=(1, 1), bias=False)\n",
       "      (bn1): BatchNorm2d(64, eps=1e-05, momentum=0.1, affine=True, track_running_stats=True)\n",
       "      (conv2): Conv2d(64, 64, kernel_size=(3, 3), stride=(1, 1), padding=(1, 1), bias=False)\n",
       "      (bn2): BatchNorm2d(64, eps=1e-05, momentum=0.1, affine=True, track_running_stats=True)\n",
       "      (conv3): Conv2d(64, 256, kernel_size=(1, 1), stride=(1, 1), bias=False)\n",
       "      (bn3): BatchNorm2d(256, eps=1e-05, momentum=0.1, affine=True, track_running_stats=True)\n",
       "      (relu): ReLU(inplace=True)\n",
       "    )\n",
       "    (2): Bottleneck(\n",
       "      (conv1): Conv2d(256, 64, kernel_size=(1, 1), stride=(1, 1), bias=False)\n",
       "      (bn1): BatchNorm2d(64, eps=1e-05, momentum=0.1, affine=True, track_running_stats=True)\n",
       "      (conv2): Conv2d(64, 64, kernel_size=(3, 3), stride=(1, 1), padding=(1, 1), bias=False)\n",
       "      (bn2): BatchNorm2d(64, eps=1e-05, momentum=0.1, affine=True, track_running_stats=True)\n",
       "      (conv3): Conv2d(64, 256, kernel_size=(1, 1), stride=(1, 1), bias=False)\n",
       "      (bn3): BatchNorm2d(256, eps=1e-05, momentum=0.1, affine=True, track_running_stats=True)\n",
       "      (relu): ReLU(inplace=True)\n",
       "    )\n",
       "  )\n",
       "  (layer2): Sequential(\n",
       "    (0): Bottleneck(\n",
       "      (conv1): Conv2d(256, 128, kernel_size=(1, 1), stride=(1, 1), bias=False)\n",
       "      (bn1): BatchNorm2d(128, eps=1e-05, momentum=0.1, affine=True, track_running_stats=True)\n",
       "      (conv2): Conv2d(128, 128, kernel_size=(3, 3), stride=(2, 2), padding=(1, 1), bias=False)\n",
       "      (bn2): BatchNorm2d(128, eps=1e-05, momentum=0.1, affine=True, track_running_stats=True)\n",
       "      (conv3): Conv2d(128, 512, kernel_size=(1, 1), stride=(1, 1), bias=False)\n",
       "      (bn3): BatchNorm2d(512, eps=1e-05, momentum=0.1, affine=True, track_running_stats=True)\n",
       "      (relu): ReLU(inplace=True)\n",
       "      (downsample): Sequential(\n",
       "        (0): Conv2d(256, 512, kernel_size=(1, 1), stride=(2, 2), bias=False)\n",
       "        (1): BatchNorm2d(512, eps=1e-05, momentum=0.1, affine=True, track_running_stats=True)\n",
       "      )\n",
       "    )\n",
       "    (1): Bottleneck(\n",
       "      (conv1): Conv2d(512, 128, kernel_size=(1, 1), stride=(1, 1), bias=False)\n",
       "      (bn1): BatchNorm2d(128, eps=1e-05, momentum=0.1, affine=True, track_running_stats=True)\n",
       "      (conv2): Conv2d(128, 128, kernel_size=(3, 3), stride=(1, 1), padding=(1, 1), bias=False)\n",
       "      (bn2): BatchNorm2d(128, eps=1e-05, momentum=0.1, affine=True, track_running_stats=True)\n",
       "      (conv3): Conv2d(128, 512, kernel_size=(1, 1), stride=(1, 1), bias=False)\n",
       "      (bn3): BatchNorm2d(512, eps=1e-05, momentum=0.1, affine=True, track_running_stats=True)\n",
       "      (relu): ReLU(inplace=True)\n",
       "    )\n",
       "    (2): Bottleneck(\n",
       "      (conv1): Conv2d(512, 128, kernel_size=(1, 1), stride=(1, 1), bias=False)\n",
       "      (bn1): BatchNorm2d(128, eps=1e-05, momentum=0.1, affine=True, track_running_stats=True)\n",
       "      (conv2): Conv2d(128, 128, kernel_size=(3, 3), stride=(1, 1), padding=(1, 1), bias=False)\n",
       "      (bn2): BatchNorm2d(128, eps=1e-05, momentum=0.1, affine=True, track_running_stats=True)\n",
       "      (conv3): Conv2d(128, 512, kernel_size=(1, 1), stride=(1, 1), bias=False)\n",
       "      (bn3): BatchNorm2d(512, eps=1e-05, momentum=0.1, affine=True, track_running_stats=True)\n",
       "      (relu): ReLU(inplace=True)\n",
       "    )\n",
       "    (3): Bottleneck(\n",
       "      (conv1): Conv2d(512, 128, kernel_size=(1, 1), stride=(1, 1), bias=False)\n",
       "      (bn1): BatchNorm2d(128, eps=1e-05, momentum=0.1, affine=True, track_running_stats=True)\n",
       "      (conv2): Conv2d(128, 128, kernel_size=(3, 3), stride=(1, 1), padding=(1, 1), bias=False)\n",
       "      (bn2): BatchNorm2d(128, eps=1e-05, momentum=0.1, affine=True, track_running_stats=True)\n",
       "      (conv3): Conv2d(128, 512, kernel_size=(1, 1), stride=(1, 1), bias=False)\n",
       "      (bn3): BatchNorm2d(512, eps=1e-05, momentum=0.1, affine=True, track_running_stats=True)\n",
       "      (relu): ReLU(inplace=True)\n",
       "    )\n",
       "  )\n",
       "  (layer3): Sequential(\n",
       "    (0): Bottleneck(\n",
       "      (conv1): Conv2d(512, 256, kernel_size=(1, 1), stride=(1, 1), bias=False)\n",
       "      (bn1): BatchNorm2d(256, eps=1e-05, momentum=0.1, affine=True, track_running_stats=True)\n",
       "      (conv2): Conv2d(256, 256, kernel_size=(3, 3), stride=(2, 2), padding=(1, 1), bias=False)\n",
       "      (bn2): BatchNorm2d(256, eps=1e-05, momentum=0.1, affine=True, track_running_stats=True)\n",
       "      (conv3): Conv2d(256, 1024, kernel_size=(1, 1), stride=(1, 1), bias=False)\n",
       "      (bn3): BatchNorm2d(1024, eps=1e-05, momentum=0.1, affine=True, track_running_stats=True)\n",
       "      (relu): ReLU(inplace=True)\n",
       "      (downsample): Sequential(\n",
       "        (0): Conv2d(512, 1024, kernel_size=(1, 1), stride=(2, 2), bias=False)\n",
       "        (1): BatchNorm2d(1024, eps=1e-05, momentum=0.1, affine=True, track_running_stats=True)\n",
       "      )\n",
       "    )\n",
       "    (1): Bottleneck(\n",
       "      (conv1): Conv2d(1024, 256, kernel_size=(1, 1), stride=(1, 1), bias=False)\n",
       "      (bn1): BatchNorm2d(256, eps=1e-05, momentum=0.1, affine=True, track_running_stats=True)\n",
       "      (conv2): Conv2d(256, 256, kernel_size=(3, 3), stride=(1, 1), padding=(1, 1), bias=False)\n",
       "      (bn2): BatchNorm2d(256, eps=1e-05, momentum=0.1, affine=True, track_running_stats=True)\n",
       "      (conv3): Conv2d(256, 1024, kernel_size=(1, 1), stride=(1, 1), bias=False)\n",
       "      (bn3): BatchNorm2d(1024, eps=1e-05, momentum=0.1, affine=True, track_running_stats=True)\n",
       "      (relu): ReLU(inplace=True)\n",
       "    )\n",
       "    (2): Bottleneck(\n",
       "      (conv1): Conv2d(1024, 256, kernel_size=(1, 1), stride=(1, 1), bias=False)\n",
       "      (bn1): BatchNorm2d(256, eps=1e-05, momentum=0.1, affine=True, track_running_stats=True)\n",
       "      (conv2): Conv2d(256, 256, kernel_size=(3, 3), stride=(1, 1), padding=(1, 1), bias=False)\n",
       "      (bn2): BatchNorm2d(256, eps=1e-05, momentum=0.1, affine=True, track_running_stats=True)\n",
       "      (conv3): Conv2d(256, 1024, kernel_size=(1, 1), stride=(1, 1), bias=False)\n",
       "      (bn3): BatchNorm2d(1024, eps=1e-05, momentum=0.1, affine=True, track_running_stats=True)\n",
       "      (relu): ReLU(inplace=True)\n",
       "    )\n",
       "    (3): Bottleneck(\n",
       "      (conv1): Conv2d(1024, 256, kernel_size=(1, 1), stride=(1, 1), bias=False)\n",
       "      (bn1): BatchNorm2d(256, eps=1e-05, momentum=0.1, affine=True, track_running_stats=True)\n",
       "      (conv2): Conv2d(256, 256, kernel_size=(3, 3), stride=(1, 1), padding=(1, 1), bias=False)\n",
       "      (bn2): BatchNorm2d(256, eps=1e-05, momentum=0.1, affine=True, track_running_stats=True)\n",
       "      (conv3): Conv2d(256, 1024, kernel_size=(1, 1), stride=(1, 1), bias=False)\n",
       "      (bn3): BatchNorm2d(1024, eps=1e-05, momentum=0.1, affine=True, track_running_stats=True)\n",
       "      (relu): ReLU(inplace=True)\n",
       "    )\n",
       "    (4): Bottleneck(\n",
       "      (conv1): Conv2d(1024, 256, kernel_size=(1, 1), stride=(1, 1), bias=False)\n",
       "      (bn1): BatchNorm2d(256, eps=1e-05, momentum=0.1, affine=True, track_running_stats=True)\n",
       "      (conv2): Conv2d(256, 256, kernel_size=(3, 3), stride=(1, 1), padding=(1, 1), bias=False)\n",
       "      (bn2): BatchNorm2d(256, eps=1e-05, momentum=0.1, affine=True, track_running_stats=True)\n",
       "      (conv3): Conv2d(256, 1024, kernel_size=(1, 1), stride=(1, 1), bias=False)\n",
       "      (bn3): BatchNorm2d(1024, eps=1e-05, momentum=0.1, affine=True, track_running_stats=True)\n",
       "      (relu): ReLU(inplace=True)\n",
       "    )\n",
       "    (5): Bottleneck(\n",
       "      (conv1): Conv2d(1024, 256, kernel_size=(1, 1), stride=(1, 1), bias=False)\n",
       "      (bn1): BatchNorm2d(256, eps=1e-05, momentum=0.1, affine=True, track_running_stats=True)\n",
       "      (conv2): Conv2d(256, 256, kernel_size=(3, 3), stride=(1, 1), padding=(1, 1), bias=False)\n",
       "      (bn2): BatchNorm2d(256, eps=1e-05, momentum=0.1, affine=True, track_running_stats=True)\n",
       "      (conv3): Conv2d(256, 1024, kernel_size=(1, 1), stride=(1, 1), bias=False)\n",
       "      (bn3): BatchNorm2d(1024, eps=1e-05, momentum=0.1, affine=True, track_running_stats=True)\n",
       "      (relu): ReLU(inplace=True)\n",
       "    )\n",
       "  )\n",
       "  (layer4): Sequential(\n",
       "    (0): Bottleneck(\n",
       "      (conv1): Conv2d(1024, 512, kernel_size=(1, 1), stride=(1, 1), bias=False)\n",
       "      (bn1): BatchNorm2d(512, eps=1e-05, momentum=0.1, affine=True, track_running_stats=True)\n",
       "      (conv2): Conv2d(512, 512, kernel_size=(3, 3), stride=(2, 2), padding=(1, 1), bias=False)\n",
       "      (bn2): BatchNorm2d(512, eps=1e-05, momentum=0.1, affine=True, track_running_stats=True)\n",
       "      (conv3): Conv2d(512, 2048, kernel_size=(1, 1), stride=(1, 1), bias=False)\n",
       "      (bn3): BatchNorm2d(2048, eps=1e-05, momentum=0.1, affine=True, track_running_stats=True)\n",
       "      (relu): ReLU(inplace=True)\n",
       "      (downsample): Sequential(\n",
       "        (0): Conv2d(1024, 2048, kernel_size=(1, 1), stride=(2, 2), bias=False)\n",
       "        (1): BatchNorm2d(2048, eps=1e-05, momentum=0.1, affine=True, track_running_stats=True)\n",
       "      )\n",
       "    )\n",
       "    (1): Bottleneck(\n",
       "      (conv1): Conv2d(2048, 512, kernel_size=(1, 1), stride=(1, 1), bias=False)\n",
       "      (bn1): BatchNorm2d(512, eps=1e-05, momentum=0.1, affine=True, track_running_stats=True)\n",
       "      (conv2): Conv2d(512, 512, kernel_size=(3, 3), stride=(1, 1), padding=(1, 1), bias=False)\n",
       "      (bn2): BatchNorm2d(512, eps=1e-05, momentum=0.1, affine=True, track_running_stats=True)\n",
       "      (conv3): Conv2d(512, 2048, kernel_size=(1, 1), stride=(1, 1), bias=False)\n",
       "      (bn3): BatchNorm2d(2048, eps=1e-05, momentum=0.1, affine=True, track_running_stats=True)\n",
       "      (relu): ReLU(inplace=True)\n",
       "    )\n",
       "    (2): Bottleneck(\n",
       "      (conv1): Conv2d(2048, 512, kernel_size=(1, 1), stride=(1, 1), bias=False)\n",
       "      (bn1): BatchNorm2d(512, eps=1e-05, momentum=0.1, affine=True, track_running_stats=True)\n",
       "      (conv2): Conv2d(512, 512, kernel_size=(3, 3), stride=(1, 1), padding=(1, 1), bias=False)\n",
       "      (bn2): BatchNorm2d(512, eps=1e-05, momentum=0.1, affine=True, track_running_stats=True)\n",
       "      (conv3): Conv2d(512, 2048, kernel_size=(1, 1), stride=(1, 1), bias=False)\n",
       "      (bn3): BatchNorm2d(2048, eps=1e-05, momentum=0.1, affine=True, track_running_stats=True)\n",
       "      (relu): ReLU(inplace=True)\n",
       "    )\n",
       "  )\n",
       "  (pool): GeM(p=3.0000, eps=1e-06)\n",
       "  (classifier): Linear(in_features=2048, out_features=751, bias=True)\n",
       ")"
      ]
     },
     "execution_count": 4,
     "metadata": {},
     "output_type": "execute_result"
    }
   ],
   "source": [
    "model"
   ]
  },
  {
   "cell_type": "code",
   "execution_count": 5,
   "id": "39cf1e57-0dce-4a74-8c35-bd4d7e4ad2ff",
   "metadata": {
    "tags": []
   },
   "outputs": [],
   "source": [
    "# from tools.visualize_actmap import visactmap\n",
    "# test_loader = datamanager.test_loader\n",
    "# visactmap(model, test_loader, f\"log/visactmap_{model_name}_{dataset_name}\", 128, 256, True, [0.485, 0.456, 0.406], [0.229, 0.224, 0.225])"
   ]
  },
  {
   "cell_type": "code",
   "execution_count": 6,
   "id": "1b07cb99-fad4-47c9-9a17-3f87d0db5dfe",
   "metadata": {
    "tags": []
   },
   "outputs": [],
   "source": [
    "engine = torchreid.engine.ImageTripletEngine(\n",
    "    datamanager,\n",
    "    model,\n",
    "    optimizer=optimizer,\n",
    "    scheduler=scheduler,\n",
    "    label_smooth=config['loss']['softmax']['label_smooth'],\n",
    "    logger=wandb\n",
    ")"
   ]
  },
  {
   "cell_type": "code",
   "execution_count": 7,
   "id": "4a080fba-1edf-4104-a162-cf93bda57559",
   "metadata": {
    "tags": []
   },
   "outputs": [
    {
     "name": "stdout",
     "output_type": "stream",
     "text": [
      "=> Start training\n",
      "epoch: [1/60][50/101]\ttime 0.175 (0.189)\tdata 0.000 (0.005)\teta 0:18:58\tloss_t 0.6585 (0.4862)\tloss_x 5.9408 (6.5798)\tacc 4.6875 (2.7188)\tlr 0.000300\n",
      "epoch: [1/60][100/101]\ttime 0.176 (0.183)\tdata 0.000 (0.003)\teta 0:18:10\tloss_t 0.2831 (0.4286)\tloss_x 4.5800 (5.9520)\tacc 21.0938 (8.0938)\tlr 0.000300\n",
      "epoch: [2/60][50/101]\ttime 0.171 (0.175)\tdata 0.000 (0.004)\teta 0:17:15\tloss_t 0.4691 (0.3240)\tloss_x 3.4451 (3.9812)\tacc 42.9688 (33.4531)\tlr 0.000300\n",
      "epoch: [2/60][100/101]\ttime 0.179 (0.174)\tdata 0.000 (0.002)\teta 0:17:01\tloss_t 0.1591 (0.3072)\tloss_x 2.9317 (3.6167)\tacc 50.7812 (40.7578)\tlr 0.000300\n",
      "epoch: [3/60][50/101]\ttime 0.172 (0.176)\tdata 0.000 (0.004)\teta 0:17:03\tloss_t 0.1189 (0.2293)\tloss_x 2.6051 (2.5785)\tacc 67.1875 (64.3906)\tlr 0.000300\n",
      "epoch: [3/60][100/101]\ttime 0.173 (0.175)\tdata 0.000 (0.002)\teta 0:16:46\tloss_t 0.5287 (0.2139)\tloss_x 2.4147 (2.4593)\tacc 64.0625 (67.4609)\tlr 0.000300\n",
      "epoch: [4/60][50/101]\ttime 0.172 (0.177)\tdata 0.000 (0.004)\teta 0:16:47\tloss_t 0.0446 (0.1509)\tloss_x 1.9302 (1.9994)\tacc 80.4688 (80.6250)\tlr 0.000300\n",
      "epoch: [4/60][100/101]\ttime 0.174 (0.176)\tdata 0.000 (0.002)\teta 0:16:33\tloss_t 0.0518 (0.1528)\tloss_x 1.8482 (1.9711)\tacc 89.8438 (81.2266)\tlr 0.000300\n",
      "epoch: [5/60][50/101]\ttime 0.177 (0.181)\tdata 0.000 (0.005)\teta 0:16:53\tloss_t 0.0591 (0.1721)\tloss_x 1.7802 (1.8142)\tacc 86.7188 (85.3594)\tlr 0.000300\n",
      "epoch: [5/60][100/101]\ttime 0.171 (0.177)\tdata 0.000 (0.002)\teta 0:16:25\tloss_t 0.1634 (0.1490)\tloss_x 1.6572 (1.7781)\tacc 89.0625 (86.2500)\tlr 0.000300\n",
      "##### Evaluating market1501 (source) #####\n",
      "Extracting features from query set ...\n",
      "Done, obtained 3368-by-2048 matrix\n",
      "Extracting features from gallery set ...\n",
      "Done, obtained 15913-by-2048 matrix\n",
      "Speed: 0.0021 sec/batch\n",
      "Computing distance matrix with metric=euclidean ...\n",
      "Computing CMC and mAP ...\n",
      "[   0  455    0 ... 1026  668  723] <class 'numpy.ndarray'> False\n",
      "** Results **\n",
      "mAP: 51.5%\n",
      "CMC curve\n",
      "Rank-1  : 71.5%\n",
      "Rank-5  : 86.7%\n",
      "Rank-10 : 91.0%\n",
      "Rank-20 : 94.2%\n",
      "Checkpoint saved to \"log/resnet50_market1501/model/model.pth.tar-5\"\n",
      "epoch: [6/60][50/101]\ttime 0.173 (0.178)\tdata 0.000 (0.004)\teta 0:16:21\tloss_t 0.3297 (0.0738)\tloss_x 1.6092 (1.6214)\tacc 90.6250 (90.7812)\tlr 0.000300\n",
      "epoch: [6/60][100/101]\ttime 0.175 (0.178)\tdata 0.000 (0.002)\teta 0:16:10\tloss_t 0.0483 (0.0811)\tloss_x 1.5475 (1.6147)\tacc 92.1875 (90.7891)\tlr 0.000300\n",
      "epoch: [7/60][50/101]\ttime 0.174 (0.176)\tdata 0.000 (0.004)\teta 0:15:51\tloss_t 0.0556 (0.0758)\tloss_x 1.4687 (1.5156)\tacc 93.7500 (92.7969)\tlr 0.000300\n",
      "epoch: [7/60][100/101]\ttime 0.174 (0.175)\tdata 0.000 (0.002)\teta 0:15:35\tloss_t 0.0039 (0.0811)\tloss_x 1.5880 (1.5299)\tacc 89.8438 (92.2656)\tlr 0.000300\n",
      "epoch: [8/60][50/101]\ttime 0.176 (0.176)\tdata 0.000 (0.004)\teta 0:15:35\tloss_t 0.0161 (0.0472)\tloss_x 1.3918 (1.4193)\tacc 93.7500 (95.5312)\tlr 0.000300\n",
      "epoch: [8/60][100/101]\ttime 0.174 (0.175)\tdata 0.000 (0.002)\teta 0:15:20\tloss_t 0.1128 (0.0601)\tloss_x 1.4434 (1.4395)\tacc 92.9688 (94.8125)\tlr 0.000300\n",
      "epoch: [9/60][50/101]\ttime 0.173 (0.177)\tdata 0.000 (0.004)\teta 0:15:21\tloss_t 0.3118 (0.0492)\tloss_x 1.4311 (1.4050)\tacc 93.7500 (95.5625)\tlr 0.000300\n",
      "epoch: [9/60][100/101]\ttime 0.174 (0.175)\tdata 0.000 (0.002)\teta 0:15:04\tloss_t 0.0000 (0.0513)\tloss_x 1.5198 (1.4197)\tacc 92.1875 (95.0703)\tlr 0.000300\n",
      "epoch: [10/60][50/101]\ttime 0.174 (0.177)\tdata 0.000 (0.004)\teta 0:15:02\tloss_t 0.0063 (0.0403)\tloss_x 1.3062 (1.3594)\tacc 97.6562 (96.2812)\tlr 0.000300\n",
      "epoch: [10/60][100/101]\ttime 0.175 (0.176)\tdata 0.000 (0.002)\teta 0:14:50\tloss_t 0.0016 (0.0509)\tloss_x 1.4327 (1.3747)\tacc 92.9688 (95.9141)\tlr 0.000300\n",
      "##### Evaluating market1501 (source) #####\n",
      "Extracting features from query set ...\n",
      "Done, obtained 3368-by-2048 matrix\n",
      "Extracting features from gallery set ...\n",
      "Done, obtained 15913-by-2048 matrix\n",
      "Speed: 0.0016 sec/batch\n",
      "Computing distance matrix with metric=euclidean ...\n",
      "Computing CMC and mAP ...\n",
      "[   0  455    0 ... 1026  668  723] <class 'numpy.ndarray'> False\n",
      "** Results **\n",
      "mAP: 54.5%\n",
      "CMC curve\n",
      "Rank-1  : 75.6%\n",
      "Rank-5  : 88.9%\n",
      "Rank-10 : 92.5%\n",
      "Rank-20 : 95.2%\n",
      "Checkpoint saved to \"log/resnet50_market1501/model/model.pth.tar-10\"\n",
      "epoch: [11/60][50/101]\ttime 0.173 (0.178)\tdata 0.000 (0.004)\teta 0:14:49\tloss_t 0.0093 (0.0454)\tloss_x 1.4117 (1.3661)\tacc 94.5312 (96.1875)\tlr 0.000300\n",
      "epoch: [11/60][100/101]\ttime 0.173 (0.176)\tdata 0.000 (0.002)\teta 0:14:31\tloss_t 0.0028 (0.0415)\tloss_x 1.3065 (1.3577)\tacc 96.8750 (96.5312)\tlr 0.000300\n",
      "epoch: [12/60][50/101]\ttime 0.174 (0.177)\tdata 0.000 (0.005)\teta 0:14:25\tloss_t 0.0364 (0.0309)\tloss_x 1.3099 (1.3217)\tacc 98.4375 (96.9375)\tlr 0.000300\n",
      "epoch: [12/60][100/101]\ttime 0.181 (0.176)\tdata 0.000 (0.002)\teta 0:14:11\tloss_t 0.0077 (0.0260)\tloss_x 1.2823 (1.3020)\tacc 99.2188 (97.4688)\tlr 0.000300\n",
      "epoch: [13/60][50/101]\ttime 0.175 (0.178)\tdata 0.000 (0.004)\teta 0:14:11\tloss_t 0.0578 (0.0331)\tloss_x 1.3400 (1.2920)\tacc 96.8750 (97.5469)\tlr 0.000300\n",
      "epoch: [13/60][100/101]\ttime 0.182 (0.178)\tdata 0.000 (0.002)\teta 0:14:03\tloss_t 0.1131 (0.0314)\tloss_x 1.2846 (1.2931)\tacc 99.2188 (97.6172)\tlr 0.000300\n",
      "epoch: [14/60][50/101]\ttime 0.172 (0.176)\tdata 0.000 (0.004)\teta 0:13:46\tloss_t 0.0000 (0.0282)\tloss_x 1.2355 (1.2661)\tacc 99.2188 (98.0781)\tlr 0.000300\n",
      "epoch: [14/60][100/101]\ttime 0.170 (0.174)\tdata 0.000 (0.002)\teta 0:13:27\tloss_t 0.0092 (0.0330)\tloss_x 1.3088 (1.2845)\tacc 98.4375 (97.6953)\tlr 0.000300\n",
      "epoch: [15/60][50/101]\ttime 0.172 (0.174)\tdata 0.000 (0.004)\teta 0:13:17\tloss_t 0.0000 (0.0324)\tloss_x 1.3102 (1.2798)\tacc 97.6562 (97.8750)\tlr 0.000300\n",
      "epoch: [15/60][100/101]\ttime 0.172 (0.173)\tdata 0.000 (0.002)\teta 0:13:08\tloss_t 0.0042 (0.0283)\tloss_x 1.2899 (1.2730)\tacc 96.8750 (97.8047)\tlr 0.000300\n",
      "##### Evaluating market1501 (source) #####\n",
      "Extracting features from query set ...\n",
      "Done, obtained 3368-by-2048 matrix\n",
      "Extracting features from gallery set ...\n",
      "Done, obtained 15913-by-2048 matrix\n",
      "Speed: 0.0016 sec/batch\n",
      "Computing distance matrix with metric=euclidean ...\n",
      "Computing CMC and mAP ...\n",
      "[   0  455    0 ... 1026  668  723] <class 'numpy.ndarray'> False\n",
      "** Results **\n",
      "mAP: 58.7%\n",
      "CMC curve\n",
      "Rank-1  : 79.0%\n",
      "Rank-5  : 91.1%\n",
      "Rank-10 : 93.9%\n",
      "Rank-20 : 96.2%\n",
      "Checkpoint saved to \"log/resnet50_market1501/model/model.pth.tar-15\"\n",
      "epoch: [16/60][50/101]\ttime 0.172 (0.174)\tdata 0.001 (0.004)\teta 0:13:00\tloss_t 0.0000 (0.0351)\tloss_x 1.2337 (1.2523)\tacc 100.0000 (98.0938)\tlr 0.000300\n",
      "epoch: [16/60][100/101]\ttime 0.182 (0.173)\tdata 0.000 (0.002)\teta 0:12:48\tloss_t 0.1465 (0.0352)\tloss_x 1.2608 (1.2705)\tacc 99.2188 (97.6406)\tlr 0.000300\n",
      "epoch: [17/60][50/101]\ttime 0.171 (0.174)\tdata 0.000 (0.004)\teta 0:12:45\tloss_t 0.0215 (0.0222)\tloss_x 1.2950 (1.2567)\tacc 96.8750 (98.2031)\tlr 0.000300\n",
      "epoch: [17/60][100/101]\ttime 0.170 (0.173)\tdata 0.000 (0.002)\teta 0:12:30\tloss_t 0.0000 (0.0283)\tloss_x 1.2828 (1.2501)\tacc 96.0938 (98.2969)\tlr 0.000300\n",
      "epoch: [18/60][50/101]\ttime 0.172 (0.175)\tdata 0.000 (0.004)\teta 0:12:30\tloss_t 0.0492 (0.0220)\tloss_x 1.2346 (1.2358)\tacc 100.0000 (98.5781)\tlr 0.000300\n",
      "epoch: [18/60][100/101]\ttime 0.178 (0.175)\tdata 0.000 (0.002)\teta 0:12:20\tloss_t 0.0413 (0.0259)\tloss_x 1.2702 (1.2463)\tacc 98.4375 (98.2188)\tlr 0.000300\n",
      "epoch: [19/60][50/101]\ttime 0.170 (0.175)\tdata 0.000 (0.004)\teta 0:12:12\tloss_t 0.1239 (0.0252)\tloss_x 1.2727 (1.2337)\tacc 99.2188 (98.6406)\tlr 0.000300\n",
      "epoch: [19/60][100/101]\ttime 0.172 (0.173)\tdata 0.000 (0.002)\teta 0:11:57\tloss_t 0.0000 (0.0206)\tloss_x 1.2250 (1.2312)\tacc 99.2188 (98.6094)\tlr 0.000300\n",
      "epoch: [20/60][50/101]\ttime 0.171 (0.173)\tdata 0.000 (0.004)\teta 0:11:48\tloss_t 0.0000 (0.0134)\tloss_x 1.2453 (1.1876)\tacc 97.6562 (99.0938)\tlr 0.000300\n",
      "epoch: [20/60][100/101]\ttime 0.171 (0.172)\tdata 0.000 (0.002)\teta 0:11:34\tloss_t 0.0088 (0.0120)\tloss_x 1.2237 (1.1915)\tacc 99.2188 (99.0391)\tlr 0.000300\n",
      "##### Evaluating market1501 (source) #####\n",
      "Extracting features from query set ...\n",
      "Done, obtained 3368-by-2048 matrix\n",
      "Extracting features from gallery set ...\n",
      "Done, obtained 15913-by-2048 matrix\n",
      "Speed: 0.0016 sec/batch\n",
      "Computing distance matrix with metric=euclidean ...\n",
      "Computing CMC and mAP ...\n",
      "[   0  455    0 ... 1026  668  723] <class 'numpy.ndarray'> False\n",
      "** Results **\n",
      "mAP: 61.1%\n",
      "CMC curve\n",
      "Rank-1  : 80.4%\n",
      "Rank-5  : 91.9%\n",
      "Rank-10 : 94.5%\n",
      "Rank-20 : 96.4%\n",
      "Checkpoint saved to \"log/resnet50_market1501/model/model.pth.tar-20\"\n",
      "epoch: [21/60][50/101]\ttime 0.170 (0.173)\tdata 0.000 (0.004)\teta 0:11:29\tloss_t 0.0000 (0.0071)\tloss_x 1.1626 (1.1849)\tacc 99.2188 (99.1250)\tlr 0.000300\n",
      "epoch: [21/60][100/101]\ttime 0.186 (0.173)\tdata 0.000 (0.002)\teta 0:11:22\tloss_t 0.0000 (0.0149)\tloss_x 1.2065 (1.1967)\tacc 97.6562 (98.9453)\tlr 0.000300\n",
      "epoch: [22/60][50/101]\ttime 0.170 (0.177)\tdata 0.000 (0.004)\teta 0:11:29\tloss_t 0.0000 (0.0198)\tloss_x 1.1991 (1.2204)\tacc 99.2188 (98.5469)\tlr 0.000300\n",
      "epoch: [22/60][100/101]\ttime 0.170 (0.174)\tdata 0.000 (0.002)\teta 0:11:08\tloss_t 0.0000 (0.0209)\tloss_x 1.2142 (1.2225)\tacc 98.4375 (98.5312)\tlr 0.000300\n",
      "epoch: [23/60][50/101]\ttime 0.169 (0.179)\tdata 0.000 (0.004)\teta 0:11:19\tloss_t 0.0000 (0.0157)\tloss_x 1.1617 (1.2007)\tacc 99.2188 (98.7969)\tlr 0.000300\n",
      "epoch: [23/60][100/101]\ttime 0.171 (0.176)\tdata 0.000 (0.002)\teta 0:10:56\tloss_t 0.0245 (0.0135)\tloss_x 1.2109 (1.2009)\tacc 97.6562 (98.8047)\tlr 0.000300\n",
      "epoch: [24/60][50/101]\ttime 0.174 (0.173)\tdata 0.000 (0.004)\teta 0:10:38\tloss_t 0.0000 (0.0178)\tloss_x 1.1841 (1.2033)\tacc 99.2188 (98.9062)\tlr 0.000300\n",
      "epoch: [24/60][100/101]\ttime 0.170 (0.172)\tdata 0.000 (0.002)\teta 0:10:25\tloss_t 0.0269 (0.0183)\tloss_x 1.2156 (1.2000)\tacc 96.8750 (98.9531)\tlr 0.000300\n",
      "epoch: [25/60][50/101]\ttime 0.170 (0.174)\tdata 0.000 (0.004)\teta 0:10:25\tloss_t 0.0000 (0.0100)\tloss_x 1.1706 (1.1863)\tacc 98.4375 (99.1094)\tlr 0.000300\n",
      "epoch: [25/60][100/101]\ttime 0.169 (0.173)\tdata 0.000 (0.002)\teta 0:10:11\tloss_t 0.0218 (0.0180)\tloss_x 1.2016 (1.1912)\tacc 98.4375 (99.1094)\tlr 0.000300\n",
      "##### Evaluating market1501 (source) #####\n",
      "Extracting features from query set ...\n",
      "Done, obtained 3368-by-2048 matrix\n",
      "Extracting features from gallery set ...\n",
      "Done, obtained 15913-by-2048 matrix\n",
      "Speed: 0.0017 sec/batch\n",
      "Computing distance matrix with metric=euclidean ...\n",
      "Computing CMC and mAP ...\n",
      "[   0  455    0 ... 1026  668  723] <class 'numpy.ndarray'> False\n",
      "** Results **\n",
      "mAP: 59.6%\n",
      "CMC curve\n",
      "Rank-1  : 79.2%\n",
      "Rank-5  : 91.5%\n",
      "Rank-10 : 94.1%\n",
      "Rank-20 : 96.3%\n",
      "Checkpoint saved to \"log/resnet50_market1501/model/model.pth.tar-25\"\n",
      "epoch: [26/60][50/101]\ttime 0.170 (0.174)\tdata 0.000 (0.004)\teta 0:10:06\tloss_t 0.0000 (0.0389)\tloss_x 1.2772 (1.2223)\tacc 96.8750 (98.6094)\tlr 0.000300\n",
      "epoch: [26/60][100/101]\ttime 0.171 (0.172)\tdata 0.000 (0.002)\teta 0:09:51\tloss_t 0.0316 (0.0290)\tloss_x 1.1969 (1.2111)\tacc 99.2188 (98.8438)\tlr 0.000300\n",
      "epoch: [27/60][50/101]\ttime 0.171 (0.173)\tdata 0.000 (0.004)\teta 0:09:46\tloss_t 0.0035 (0.0205)\tloss_x 1.2045 (1.1976)\tacc 99.2188 (99.1094)\tlr 0.000300\n",
      "epoch: [27/60][100/101]\ttime 0.169 (0.172)\tdata 0.000 (0.002)\teta 0:09:32\tloss_t 0.0174 (0.0180)\tloss_x 1.1551 (1.1937)\tacc 100.0000 (98.9688)\tlr 0.000300\n",
      "epoch: [28/60][50/101]\ttime 0.171 (0.176)\tdata 0.000 (0.004)\teta 0:09:37\tloss_t 0.0000 (0.0096)\tloss_x 1.1244 (1.1502)\tacc 100.0000 (99.5156)\tlr 0.000300\n",
      "epoch: [28/60][100/101]\ttime 0.172 (0.175)\tdata 0.000 (0.002)\teta 0:09:26\tloss_t 0.0213 (0.0127)\tloss_x 1.1968 (1.1586)\tacc 98.4375 (99.2734)\tlr 0.000300\n",
      "epoch: [29/60][50/101]\ttime 0.176 (0.174)\tdata 0.000 (0.004)\teta 0:09:14\tloss_t 0.0125 (0.0168)\tloss_x 1.1969 (1.1824)\tacc 100.0000 (98.9062)\tlr 0.000300\n",
      "epoch: [29/60][100/101]\ttime 0.183 (0.175)\tdata 0.000 (0.002)\teta 0:09:07\tloss_t 0.0936 (0.0215)\tloss_x 1.2625 (1.1997)\tacc 96.0938 (98.7188)\tlr 0.000300\n",
      "epoch: [30/60][50/101]\ttime 0.171 (0.175)\tdata 0.000 (0.004)\teta 0:08:58\tloss_t 0.0000 (0.0103)\tloss_x 1.1423 (1.1679)\tacc 100.0000 (99.3750)\tlr 0.000300\n",
      "epoch: [30/60][100/101]\ttime 0.170 (0.173)\tdata 0.000 (0.002)\teta 0:08:43\tloss_t 0.0000 (0.0103)\tloss_x 1.1406 (1.1621)\tacc 100.0000 (99.3672)\tlr 0.000300\n",
      "##### Evaluating market1501 (source) #####\n",
      "Extracting features from query set ...\n",
      "Done, obtained 3368-by-2048 matrix\n",
      "Extracting features from gallery set ...\n",
      "Done, obtained 15913-by-2048 matrix\n",
      "Speed: 0.0017 sec/batch\n",
      "Computing distance matrix with metric=euclidean ...\n",
      "Computing CMC and mAP ...\n",
      "[   0  455    0 ... 1026  668  723] <class 'numpy.ndarray'> False\n",
      "** Results **\n",
      "mAP: 63.6%\n",
      "CMC curve\n",
      "Rank-1  : 82.0%\n",
      "Rank-5  : 92.3%\n",
      "Rank-10 : 94.5%\n",
      "Rank-20 : 96.8%\n",
      "Checkpoint saved to \"log/resnet50_market1501/model/model.pth.tar-30\"\n",
      "epoch: [31/60][50/101]\ttime 0.172 (0.174)\tdata 0.000 (0.004)\teta 0:08:38\tloss_t 0.0000 (0.0196)\tloss_x 1.1516 (1.1641)\tacc 100.0000 (99.2344)\tlr 0.000300\n",
      "epoch: [31/60][100/101]\ttime 0.172 (0.173)\tdata 0.000 (0.002)\teta 0:08:27\tloss_t 0.0000 (0.0189)\tloss_x 1.2263 (1.1705)\tacc 97.6562 (99.1328)\tlr 0.000300\n",
      "epoch: [32/60][50/101]\ttime 0.171 (0.173)\tdata 0.000 (0.004)\teta 0:08:19\tloss_t 0.0000 (0.0170)\tloss_x 1.1666 (1.1770)\tacc 99.2188 (99.2344)\tlr 0.000300\n",
      "epoch: [32/60][100/101]\ttime 0.170 (0.173)\tdata 0.000 (0.002)\teta 0:08:08\tloss_t 0.0027 (0.0158)\tloss_x 1.1356 (1.1795)\tacc 100.0000 (99.2109)\tlr 0.000300\n",
      "epoch: [33/60][50/101]\ttime 0.171 (0.173)\tdata 0.000 (0.004)\teta 0:08:00\tloss_t 0.0451 (0.0137)\tloss_x 1.1475 (1.1505)\tacc 99.2188 (99.3281)\tlr 0.000300\n",
      "epoch: [33/60][100/101]\ttime 0.173 (0.173)\tdata 0.000 (0.002)\teta 0:07:52\tloss_t 0.0000 (0.0136)\tloss_x 1.1684 (1.1565)\tacc 99.2188 (99.3516)\tlr 0.000300\n",
      "epoch: [34/60][50/101]\ttime 0.172 (0.173)\tdata 0.000 (0.004)\teta 0:07:44\tloss_t 0.0000 (0.0071)\tloss_x 1.1632 (1.1387)\tacc 100.0000 (99.5312)\tlr 0.000300\n",
      "epoch: [34/60][100/101]\ttime 0.170 (0.173)\tdata 0.000 (0.002)\teta 0:07:34\tloss_t 0.0000 (0.0078)\tloss_x 1.1437 (1.1446)\tacc 99.2188 (99.4922)\tlr 0.000300\n",
      "epoch: [35/60][50/101]\ttime 0.175 (0.174)\tdata 0.000 (0.004)\teta 0:07:27\tloss_t 0.0475 (0.0244)\tloss_x 1.2034 (1.1780)\tacc 99.2188 (99.1562)\tlr 0.000300\n",
      "epoch: [35/60][100/101]\ttime 0.171 (0.173)\tdata 0.000 (0.002)\teta 0:07:16\tloss_t 0.0039 (0.0218)\tloss_x 1.1655 (1.1818)\tacc 99.2188 (99.1094)\tlr 0.000300\n",
      "##### Evaluating market1501 (source) #####\n",
      "Extracting features from query set ...\n",
      "Done, obtained 3368-by-2048 matrix\n",
      "Extracting features from gallery set ...\n",
      "Done, obtained 15913-by-2048 matrix\n",
      "Speed: 0.0016 sec/batch\n",
      "Computing distance matrix with metric=euclidean ...\n",
      "Computing CMC and mAP ...\n",
      "[   0  455    0 ... 1026  668  723] <class 'numpy.ndarray'> False\n",
      "** Results **\n",
      "mAP: 62.4%\n",
      "CMC curve\n",
      "Rank-1  : 81.9%\n",
      "Rank-5  : 91.8%\n",
      "Rank-10 : 94.1%\n",
      "Rank-20 : 96.2%\n",
      "Checkpoint saved to \"log/resnet50_market1501/model/model.pth.tar-35\"\n",
      "epoch: [36/60][50/101]\ttime 0.163 (0.172)\tdata 0.000 (0.004)\teta 0:07:04\tloss_t 0.0296 (0.0076)\tloss_x 1.1529 (1.1462)\tacc 99.2188 (99.4688)\tlr 0.000300\n",
      "epoch: [36/60][100/101]\ttime 0.162 (0.168)\tdata 0.000 (0.002)\teta 0:06:48\tloss_t 0.0000 (0.0074)\tloss_x 1.1353 (1.1436)\tacc 98.4375 (99.4453)\tlr 0.000300\n",
      "epoch: [37/60][50/101]\ttime 0.163 (0.167)\tdata 0.000 (0.004)\teta 0:06:36\tloss_t 0.1034 (0.0100)\tloss_x 1.1721 (1.1270)\tacc 100.0000 (99.7500)\tlr 0.000300\n",
      "epoch: [37/60][100/101]\ttime 0.197 (0.167)\tdata 0.000 (0.002)\teta 0:06:27\tloss_t 0.0000 (0.0096)\tloss_x 1.1813 (1.1480)\tacc 99.2188 (99.3828)\tlr 0.000300\n",
      "epoch: [38/60][50/101]\ttime 0.177 (0.171)\tdata 0.000 (0.004)\teta 0:06:28\tloss_t 0.0000 (0.0100)\tloss_x 1.2135 (1.1418)\tacc 98.4375 (99.4531)\tlr 0.000300\n"
     ]
    },
    {
     "ename": "KeyboardInterrupt",
     "evalue": "",
     "output_type": "error",
     "traceback": [
      "\u001b[0;31m---------------------------------------------------------------------------\u001b[0m",
      "\u001b[0;31mKeyboardInterrupt\u001b[0m                         Traceback (most recent call last)",
      "Cell \u001b[0;32mIn[7], line 1\u001b[0m\n\u001b[0;32m----> 1\u001b[0m \u001b[43mengine\u001b[49m\u001b[38;5;241;43m.\u001b[39;49m\u001b[43mrun\u001b[49m\u001b[43m(\u001b[49m\n\u001b[1;32m      2\u001b[0m \u001b[43m    \u001b[49m\u001b[43msave_dir\u001b[49m\u001b[38;5;241;43m=\u001b[39;49m\u001b[38;5;124;43mf\u001b[39;49m\u001b[38;5;124;43m\"\u001b[39;49m\u001b[38;5;124;43mlog/\u001b[39;49m\u001b[38;5;132;43;01m{\u001b[39;49;00m\u001b[43mconfig\u001b[49m\u001b[43m[\u001b[49m\u001b[38;5;124;43m'\u001b[39;49m\u001b[38;5;124;43mmodel\u001b[39;49m\u001b[38;5;124;43m'\u001b[39;49m\u001b[43m]\u001b[49m\u001b[43m[\u001b[49m\u001b[38;5;124;43m'\u001b[39;49m\u001b[38;5;124;43mname\u001b[39;49m\u001b[38;5;124;43m'\u001b[39;49m\u001b[43m]\u001b[49m\u001b[38;5;132;43;01m}\u001b[39;49;00m\u001b[38;5;124;43m_\u001b[39;49m\u001b[38;5;132;43;01m{\u001b[39;49;00m\u001b[43mconfig\u001b[49m\u001b[43m[\u001b[49m\u001b[38;5;124;43m'\u001b[39;49m\u001b[38;5;124;43mdata\u001b[39;49m\u001b[38;5;124;43m'\u001b[39;49m\u001b[43m]\u001b[49m\u001b[43m[\u001b[49m\u001b[38;5;124;43m'\u001b[39;49m\u001b[38;5;124;43msources\u001b[39;49m\u001b[38;5;124;43m'\u001b[39;49m\u001b[43m]\u001b[49m\u001b[43m[\u001b[49m\u001b[38;5;241;43m0\u001b[39;49m\u001b[43m]\u001b[49m\u001b[38;5;132;43;01m}\u001b[39;49;00m\u001b[38;5;124;43m\"\u001b[39;49m\u001b[43m,\u001b[49m\n\u001b[1;32m      3\u001b[0m \u001b[43m    \u001b[49m\u001b[43mmax_epoch\u001b[49m\u001b[38;5;241;43m=\u001b[39;49m\u001b[38;5;241;43m60\u001b[39;49m\u001b[43m,\u001b[49m\n\u001b[1;32m      4\u001b[0m \u001b[43m    \u001b[49m\u001b[43meval_freq\u001b[49m\u001b[38;5;241;43m=\u001b[39;49m\u001b[38;5;241;43m5\u001b[39;49m\u001b[43m,\u001b[49m\n\u001b[1;32m      5\u001b[0m \u001b[43m    \u001b[49m\u001b[43mprint_freq\u001b[49m\u001b[38;5;241;43m=\u001b[39;49m\u001b[38;5;241;43m50\u001b[39;49m\u001b[43m,\u001b[49m\n\u001b[1;32m      6\u001b[0m \u001b[43m    \u001b[49m\u001b[43mtest_only\u001b[49m\u001b[38;5;241;43m=\u001b[39;49m\u001b[38;5;28;43;01mFalse\u001b[39;49;00m\u001b[43m,\u001b[49m\n\u001b[1;32m      7\u001b[0m \u001b[43m    \u001b[49m\u001b[43mvisrank\u001b[49m\u001b[38;5;241;43m=\u001b[39;49m\u001b[38;5;28;43;01mFalse\u001b[39;49;00m\u001b[43m,\u001b[49m\n\u001b[1;32m      8\u001b[0m \u001b[43m    \u001b[49m\u001b[43meval_metric\u001b[49m\u001b[38;5;241;43m=\u001b[39;49m\u001b[38;5;124;43m'\u001b[39;49m\u001b[38;5;124;43mdefault\u001b[39;49m\u001b[38;5;124;43m'\u001b[39;49m\n\u001b[1;32m      9\u001b[0m \u001b[43m)\u001b[49m\n",
      "File \u001b[0;32m~/Desktop/Projects/RetailAnalytics/REID/RESEARCH/deep-person-reid/torchreid/engine/engine.py:206\u001b[0m, in \u001b[0;36mEngine.run\u001b[0;34m(self, save_dir, max_epoch, start_epoch, print_freq, fixbase_epoch, open_layers, start_eval, eval_freq, test_only, dist_metric, normalize_feature, visrank, visrank_topk, eval_metric, ranks, rerank)\u001b[0m\n\u001b[1;32m    203\u001b[0m \u001b[38;5;28;01mif\u001b[39;00m \u001b[38;5;28mself\u001b[39m\u001b[38;5;241m.\u001b[39mlogger \u001b[38;5;129;01mis\u001b[39;00m \u001b[38;5;129;01mnot\u001b[39;00m \u001b[38;5;28;01mNone\u001b[39;00m:\n\u001b[1;32m    204\u001b[0m     \u001b[38;5;28mself\u001b[39m\u001b[38;5;241m.\u001b[39mlogger\u001b[38;5;241m.\u001b[39mlog({\u001b[38;5;124m'\u001b[39m\u001b[38;5;124mepoch\u001b[39m\u001b[38;5;124m'\u001b[39m:\u001b[38;5;28mself\u001b[39m\u001b[38;5;241m.\u001b[39mepoch})\n\u001b[0;32m--> 206\u001b[0m \u001b[38;5;28;43mself\u001b[39;49m\u001b[38;5;241;43m.\u001b[39;49m\u001b[43mtrain\u001b[49m\u001b[43m(\u001b[49m\n\u001b[1;32m    207\u001b[0m \u001b[43m    \u001b[49m\u001b[43mprint_freq\u001b[49m\u001b[38;5;241;43m=\u001b[39;49m\u001b[43mprint_freq\u001b[49m\u001b[43m,\u001b[49m\n\u001b[1;32m    208\u001b[0m \u001b[43m    \u001b[49m\u001b[43mfixbase_epoch\u001b[49m\u001b[38;5;241;43m=\u001b[39;49m\u001b[43mfixbase_epoch\u001b[49m\u001b[43m,\u001b[49m\n\u001b[1;32m    209\u001b[0m \u001b[43m    \u001b[49m\u001b[43mopen_layers\u001b[49m\u001b[38;5;241;43m=\u001b[39;49m\u001b[43mopen_layers\u001b[49m\n\u001b[1;32m    210\u001b[0m \u001b[43m\u001b[49m\u001b[43m)\u001b[49m\n\u001b[1;32m    212\u001b[0m \u001b[38;5;28;01mif\u001b[39;00m (\u001b[38;5;28mself\u001b[39m\u001b[38;5;241m.\u001b[39mepoch \u001b[38;5;241m+\u001b[39m \u001b[38;5;241m1\u001b[39m) \u001b[38;5;241m>\u001b[39m\u001b[38;5;241m=\u001b[39m start_eval \\\n\u001b[1;32m    213\u001b[0m    \u001b[38;5;129;01mand\u001b[39;00m eval_freq \u001b[38;5;241m>\u001b[39m \u001b[38;5;241m0\u001b[39m \\\n\u001b[1;32m    214\u001b[0m    \u001b[38;5;129;01mand\u001b[39;00m (\u001b[38;5;28mself\u001b[39m\u001b[38;5;241m.\u001b[39mepoch\u001b[38;5;241m+\u001b[39m\u001b[38;5;241m1\u001b[39m) \u001b[38;5;241m%\u001b[39m eval_freq \u001b[38;5;241m==\u001b[39m \u001b[38;5;241m0\u001b[39m \\\n\u001b[1;32m    215\u001b[0m    \u001b[38;5;129;01mand\u001b[39;00m (\u001b[38;5;28mself\u001b[39m\u001b[38;5;241m.\u001b[39mepoch \u001b[38;5;241m+\u001b[39m \u001b[38;5;241m1\u001b[39m) \u001b[38;5;241m!=\u001b[39m \u001b[38;5;28mself\u001b[39m\u001b[38;5;241m.\u001b[39mmax_epoch:\n\u001b[1;32m    216\u001b[0m     rank1 \u001b[38;5;241m=\u001b[39m \u001b[38;5;28mself\u001b[39m\u001b[38;5;241m.\u001b[39mtest(\n\u001b[1;32m    217\u001b[0m         dist_metric\u001b[38;5;241m=\u001b[39mdist_metric,\n\u001b[1;32m    218\u001b[0m         normalize_feature\u001b[38;5;241m=\u001b[39mnormalize_feature,\n\u001b[0;32m   (...)\u001b[0m\n\u001b[1;32m    223\u001b[0m         ranks\u001b[38;5;241m=\u001b[39mranks\n\u001b[1;32m    224\u001b[0m     )\n",
      "File \u001b[0;32m~/Desktop/Projects/RetailAnalytics/REID/RESEARCH/deep-person-reid/torchreid/engine/engine.py:261\u001b[0m, in \u001b[0;36mEngine.train\u001b[0;34m(self, print_freq, fixbase_epoch, open_layers)\u001b[0m\n\u001b[1;32m    259\u001b[0m \u001b[38;5;28;01mfor\u001b[39;00m \u001b[38;5;28mself\u001b[39m\u001b[38;5;241m.\u001b[39mbatch_idx, data \u001b[38;5;129;01min\u001b[39;00m \u001b[38;5;28menumerate\u001b[39m(\u001b[38;5;28mself\u001b[39m\u001b[38;5;241m.\u001b[39mtrain_loader):\n\u001b[1;32m    260\u001b[0m     data_time\u001b[38;5;241m.\u001b[39mupdate(time\u001b[38;5;241m.\u001b[39mtime() \u001b[38;5;241m-\u001b[39m end)\n\u001b[0;32m--> 261\u001b[0m     loss_summary \u001b[38;5;241m=\u001b[39m \u001b[38;5;28;43mself\u001b[39;49m\u001b[38;5;241;43m.\u001b[39;49m\u001b[43mforward_backward\u001b[49m\u001b[43m(\u001b[49m\u001b[43mdata\u001b[49m\u001b[43m)\u001b[49m\n\u001b[1;32m    262\u001b[0m     batch_time\u001b[38;5;241m.\u001b[39mupdate(time\u001b[38;5;241m.\u001b[39mtime() \u001b[38;5;241m-\u001b[39m end)\n\u001b[1;32m    263\u001b[0m     losses\u001b[38;5;241m.\u001b[39mupdate(loss_summary)\n",
      "File \u001b[0;32m~/Desktop/Projects/RetailAnalytics/REID/RESEARCH/deep-person-reid/torchreid/engine/image/triplet.py:109\u001b[0m, in \u001b[0;36mImageTripletEngine.forward_backward\u001b[0;34m(self, data)\u001b[0m\n\u001b[1;32m    106\u001b[0m loss_summary \u001b[38;5;241m=\u001b[39m {}\n\u001b[1;32m    108\u001b[0m \u001b[38;5;28;01mif\u001b[39;00m \u001b[38;5;28mself\u001b[39m\u001b[38;5;241m.\u001b[39mweight_t \u001b[38;5;241m>\u001b[39m \u001b[38;5;241m0\u001b[39m:\n\u001b[0;32m--> 109\u001b[0m     loss_t \u001b[38;5;241m=\u001b[39m \u001b[38;5;28;43mself\u001b[39;49m\u001b[38;5;241;43m.\u001b[39;49m\u001b[43mcompute_loss\u001b[49m\u001b[43m(\u001b[49m\u001b[38;5;28;43mself\u001b[39;49m\u001b[38;5;241;43m.\u001b[39;49m\u001b[43mcriterion_t\u001b[49m\u001b[43m,\u001b[49m\u001b[43m \u001b[49m\u001b[43mfeatures\u001b[49m\u001b[43m,\u001b[49m\u001b[43m \u001b[49m\u001b[43mpids\u001b[49m\u001b[43m)\u001b[49m\n\u001b[1;32m    110\u001b[0m     loss \u001b[38;5;241m+\u001b[39m\u001b[38;5;241m=\u001b[39m \u001b[38;5;28mself\u001b[39m\u001b[38;5;241m.\u001b[39mweight_t \u001b[38;5;241m*\u001b[39m loss_t\n\u001b[1;32m    111\u001b[0m     loss_summary[\u001b[38;5;124m'\u001b[39m\u001b[38;5;124mloss_t\u001b[39m\u001b[38;5;124m'\u001b[39m] \u001b[38;5;241m=\u001b[39m loss_t\u001b[38;5;241m.\u001b[39mitem() \u001b[38;5;66;03m# type: ignore\u001b[39;00m\n",
      "File \u001b[0;32m~/Desktop/Projects/RetailAnalytics/REID/RESEARCH/deep-person-reid/torchreid/engine/engine.py:471\u001b[0m, in \u001b[0;36mEngine.compute_loss\u001b[0;34m(self, criterion, outputs, targets)\u001b[0m\n\u001b[1;32m    469\u001b[0m     loss \u001b[38;5;241m=\u001b[39m DeepSupervision(criterion, outputs, targets)\n\u001b[1;32m    470\u001b[0m \u001b[38;5;28;01melse\u001b[39;00m:\n\u001b[0;32m--> 471\u001b[0m     loss \u001b[38;5;241m=\u001b[39m \u001b[43mcriterion\u001b[49m\u001b[43m(\u001b[49m\u001b[43moutputs\u001b[49m\u001b[43m,\u001b[49m\u001b[43m \u001b[49m\u001b[43mtargets\u001b[49m\u001b[43m)\u001b[49m\n\u001b[1;32m    472\u001b[0m \u001b[38;5;28;01mreturn\u001b[39;00m loss\n",
      "File \u001b[0;32m~/anaconda3/envs/torchreid/lib/python3.10/site-packages/torch/nn/modules/module.py:1501\u001b[0m, in \u001b[0;36mModule._call_impl\u001b[0;34m(self, *args, **kwargs)\u001b[0m\n\u001b[1;32m   1496\u001b[0m \u001b[38;5;66;03m# If we don't have any hooks, we want to skip the rest of the logic in\u001b[39;00m\n\u001b[1;32m   1497\u001b[0m \u001b[38;5;66;03m# this function, and just call forward.\u001b[39;00m\n\u001b[1;32m   1498\u001b[0m \u001b[38;5;28;01mif\u001b[39;00m \u001b[38;5;129;01mnot\u001b[39;00m (\u001b[38;5;28mself\u001b[39m\u001b[38;5;241m.\u001b[39m_backward_hooks \u001b[38;5;129;01mor\u001b[39;00m \u001b[38;5;28mself\u001b[39m\u001b[38;5;241m.\u001b[39m_backward_pre_hooks \u001b[38;5;129;01mor\u001b[39;00m \u001b[38;5;28mself\u001b[39m\u001b[38;5;241m.\u001b[39m_forward_hooks \u001b[38;5;129;01mor\u001b[39;00m \u001b[38;5;28mself\u001b[39m\u001b[38;5;241m.\u001b[39m_forward_pre_hooks\n\u001b[1;32m   1499\u001b[0m         \u001b[38;5;129;01mor\u001b[39;00m _global_backward_pre_hooks \u001b[38;5;129;01mor\u001b[39;00m _global_backward_hooks\n\u001b[1;32m   1500\u001b[0m         \u001b[38;5;129;01mor\u001b[39;00m _global_forward_hooks \u001b[38;5;129;01mor\u001b[39;00m _global_forward_pre_hooks):\n\u001b[0;32m-> 1501\u001b[0m     \u001b[38;5;28;01mreturn\u001b[39;00m \u001b[43mforward_call\u001b[49m\u001b[43m(\u001b[49m\u001b[38;5;241;43m*\u001b[39;49m\u001b[43margs\u001b[49m\u001b[43m,\u001b[49m\u001b[43m \u001b[49m\u001b[38;5;241;43m*\u001b[39;49m\u001b[38;5;241;43m*\u001b[39;49m\u001b[43mkwargs\u001b[49m\u001b[43m)\u001b[49m\n\u001b[1;32m   1502\u001b[0m \u001b[38;5;66;03m# Do not call functions when jit is used\u001b[39;00m\n\u001b[1;32m   1503\u001b[0m full_backward_hooks, non_full_backward_hooks \u001b[38;5;241m=\u001b[39m [], []\n",
      "File \u001b[0;32m~/Desktop/Projects/RetailAnalytics/REID/RESEARCH/deep-person-reid/torchreid/losses/hard_mine_triplet_loss.py:42\u001b[0m, in \u001b[0;36mTripletLoss.forward\u001b[0;34m(self, inputs, targets)\u001b[0m\n\u001b[1;32m     40\u001b[0m \u001b[38;5;28;01mfor\u001b[39;00m i \u001b[38;5;129;01min\u001b[39;00m \u001b[38;5;28mrange\u001b[39m(n):\n\u001b[1;32m     41\u001b[0m     dist_ap\u001b[38;5;241m.\u001b[39mappend(dist[i][mask[i]]\u001b[38;5;241m.\u001b[39mmax()\u001b[38;5;241m.\u001b[39munsqueeze(\u001b[38;5;241m0\u001b[39m))\n\u001b[0;32m---> 42\u001b[0m     dist_an\u001b[38;5;241m.\u001b[39mappend(\u001b[43mdist\u001b[49m\u001b[43m[\u001b[49m\u001b[43mi\u001b[49m\u001b[43m]\u001b[49m\u001b[43m[\u001b[49m\u001b[43mmask\u001b[49m\u001b[43m[\u001b[49m\u001b[43mi\u001b[49m\u001b[43m]\u001b[49m\u001b[43m \u001b[49m\u001b[38;5;241;43m==\u001b[39;49m\u001b[43m \u001b[49m\u001b[38;5;241;43m0\u001b[39;49m\u001b[43m]\u001b[49m\u001b[38;5;241;43m.\u001b[39;49m\u001b[43mmin\u001b[49m\u001b[43m(\u001b[49m\u001b[43m)\u001b[49m\u001b[38;5;241m.\u001b[39munsqueeze(\u001b[38;5;241m0\u001b[39m))\n\u001b[1;32m     43\u001b[0m dist_ap \u001b[38;5;241m=\u001b[39m torch\u001b[38;5;241m.\u001b[39mcat(dist_ap)\n\u001b[1;32m     44\u001b[0m dist_an \u001b[38;5;241m=\u001b[39m torch\u001b[38;5;241m.\u001b[39mcat(dist_an)\n",
      "\u001b[0;31mKeyboardInterrupt\u001b[0m: "
     ]
    }
   ],
   "source": [
    "engine.run(\n",
    "    save_dir=f\"log/{config['model']['name']}_{config['data']['sources'][0]}\",\n",
    "    max_epoch=60,\n",
    "    eval_freq=5,\n",
    "    print_freq=50,\n",
    "    test_only=False,\n",
    "    visrank=False,\n",
    "    eval_metric='default'\n",
    ")"
   ]
  },
  {
   "cell_type": "code",
   "execution_count": 8,
   "id": "baa17493",
   "metadata": {},
   "outputs": [
    {
     "data": {
      "application/vnd.jupyter.widget-view+json": {
       "model_id": "6c92b119c5c541fcaf524e391d03af8c",
       "version_major": 2,
       "version_minor": 0
      },
      "text/plain": [
       "VBox(children=(Label(value='0.004 MB of 0.004 MB uploaded\\r'), FloatProgress(value=1.0, max=1.0)))"
      ]
     },
     "metadata": {},
     "output_type": "display_data"
    }
   ],
   "source": [
    "wandb.finish()"
   ]
  }
 ],
 "metadata": {
  "kernelspec": {
   "display_name": "Python 3 (ipykernel)",
   "language": "python",
   "name": "python3"
  },
  "language_info": {
   "codemirror_mode": {
    "name": "ipython",
    "version": 3
   },
   "file_extension": ".py",
   "mimetype": "text/x-python",
   "name": "python",
   "nbconvert_exporter": "python",
   "pygments_lexer": "ipython3",
   "version": "3.10.14"
  }
 },
 "nbformat": 4,
 "nbformat_minor": 5
}
