{
 "cells": [
  {
   "cell_type": "code",
   "execution_count": 28,
   "id": "36609ee7-f1b7-485b-8522-c97a2e8363c3",
   "metadata": {
    "tags": []
   },
   "outputs": [
    {
     "name": "stdout",
     "output_type": "stream",
     "text": [
      "Building train transforms ...\n",
      "+ resize to 256x128\n",
      "+ random flip\n",
      "+ random crop (enlarge to 288x144 and crop 256x128)\n",
      "+ to torch tensor of range [0, 1]\n",
      "+ normalization (mean=[0.485, 0.456, 0.406], std=[0.229, 0.224, 0.225])\n",
      "Building test transforms ...\n",
      "+ resize to 256x128\n",
      "+ to torch tensor of range [0, 1]\n",
      "+ normalization (mean=[0.485, 0.456, 0.406], std=[0.229, 0.224, 0.225])\n",
      "=> Loading train (source) dataset\n",
      "SoccerNet valid set was already downloaded and unzipped at /home/trewq/Desktop/Projects/RetailAnalytics/REID/RESEARCH/deep-person-reid/reid-data/soccernetv3/reid/valid.\n",
      "SoccerNet train set was already downloaded and unzipped at /home/trewq/Desktop/Projects/RetailAnalytics/REID/RESEARCH/deep-person-reid/reid-data/soccernetv3/reid/train.\n",
      "=> Loaded Soccernetv3\n",
      "  ----------------------------------------\n",
      "  subset   | # ids | # images | # cameras\n",
      "  ----------------------------------------\n",
      "  train    | 161443 |   248234 |      9189\n",
      "  query    | 11638 |    11638 |      1751\n",
      "  gallery  | 29534 |    34355 |      1751\n",
      "  ----------------------------------------\n",
      "=> Loading test (target) dataset\n",
      "SoccerNet valid set was already downloaded and unzipped at /home/trewq/Desktop/Projects/RetailAnalytics/REID/RESEARCH/deep-person-reid/reid-data/soccernetv3/reid/valid.\n",
      "SoccerNet train set was already downloaded and unzipped at /home/trewq/Desktop/Projects/RetailAnalytics/REID/RESEARCH/deep-person-reid/reid-data/soccernetv3/reid/train.\n",
      "=> Loaded Soccernetv3\n",
      "  ----------------------------------------\n",
      "  subset   | # ids | # images | # cameras\n",
      "  ----------------------------------------\n",
      "  train    | 161443 |   248234 |      9189\n",
      "  query    | 11638 |    11638 |      1751\n",
      "  gallery  | 29534 |    34355 |      1751\n",
      "  ----------------------------------------\n",
      "SoccerNet valid set was already downloaded and unzipped at /home/trewq/Desktop/Projects/RetailAnalytics/REID/RESEARCH/deep-person-reid/reid-data/soccernetv3/reid/valid.\n",
      "SoccerNet train set was already downloaded and unzipped at /home/trewq/Desktop/Projects/RetailAnalytics/REID/RESEARCH/deep-person-reid/reid-data/soccernetv3/reid/train.\n",
      "\n",
      "\n",
      "  **************** Summary ****************\n",
      "  source            : ['soccernetv3']\n",
      "  # source datasets : 1\n",
      "  # source ids      : 161443\n",
      "  # source images   : 248234\n",
      "  # source cameras  : 9189\n",
      "  target            : ['soccernetv3']\n",
      "  *****************************************\n",
      "\n",
      "\n"
     ]
    }
   ],
   "source": [
    "import torchreid\n",
    "model_name = 'osnet_ibn_x1_0'\n",
    "dataset_name = 'soccernetv3'\n",
    "datamanager = torchreid.data.ImageDataManager(\n",
    "    root=\"reid-data\",\n",
    "    sources=dataset_name,\n",
    "    targets=dataset_name,\n",
    "    height=256,\n",
    "    width=128,\n",
    "    batch_size_train=128,\n",
    "    batch_size_test=100,\n",
    "    transforms=[\"random_flip\", \"random_crop\"]\n",
    ")"
   ]
  },
  {
   "cell_type": "code",
   "execution_count": 29,
   "id": "98b6fddd-e9cd-431b-b7ec-5b82a0ab9fc5",
   "metadata": {
    "tags": []
   },
   "outputs": [
    {
     "name": "stdout",
     "output_type": "stream",
     "text": [
      "Successfully loaded imagenet pretrained weights from \"/home/trewq/.cache/torch/checkpoints/osnet_ibn_x1_0_imagenet.pth\"\n",
      "** The following layers are discarded due to unmatched keys or layer size: ['classifier.weight', 'classifier.bias']\n"
     ]
    }
   ],
   "source": [
    "model = torchreid.models.build_model(\n",
    "    name=model_name,\n",
    "    num_classes=datamanager.num_train_pids, #2000 for Tango\n",
    "    loss=\"softmax\",\n",
    "    pretrained=True\n",
    ")\n",
    "model = model.cuda()\n",
    "optimizer = torchreid.optim.build_optimizer(\n",
    "    model,\n",
    "    optim=\"adam\",\n",
    "    lr=0.0003\n",
    ")\n",
    "\n",
    "scheduler = torchreid.optim.build_lr_scheduler(\n",
    "    optimizer,\n",
    "    lr_scheduler=\"single_step\",\n",
    "    stepsize=20\n",
    ")"
   ]
  },
  {
   "cell_type": "code",
   "execution_count": 30,
   "id": "39cf1e57-0dce-4a74-8c35-bd4d7e4ad2ff",
   "metadata": {
    "tags": []
   },
   "outputs": [],
   "source": [
    "# from tools.visualize_actmap import visactmap\n",
    "# test_loader = datamanager.test_loader\n",
    "# visactmap(model, test_loader, f\"log/visactmap_{model_name}_{dataset_name}\", 128, 256, True, [0.485, 0.456, 0.406], [0.229, 0.224, 0.225])"
   ]
  },
  {
   "cell_type": "code",
   "execution_count": 31,
   "id": "1b07cb99-fad4-47c9-9a17-3f87d0db5dfe",
   "metadata": {
    "tags": []
   },
   "outputs": [],
   "source": [
    "engine = torchreid.engine.ImageSoftmaxEngine(\n",
    "    datamanager,\n",
    "    model,\n",
    "    optimizer=optimizer,\n",
    "    scheduler=scheduler,\n",
    "    label_smooth=True\n",
    ")"
   ]
  },
  {
   "cell_type": "code",
   "execution_count": 32,
   "id": "4a080fba-1edf-4104-a162-cf93bda57559",
   "metadata": {
    "tags": []
   },
   "outputs": [
    {
     "name": "stdout",
     "output_type": "stream",
     "text": [
      "=> Start training\n",
      "##### Evaluating soccernetv3 (source) #####\n",
      "Extracting features from query set ...\n"
     ]
    },
    {
     "name": "stderr",
     "output_type": "stream",
     "text": [
      "100%|████████████████████████████████████████████████████████████████████████████████████████████████████████████████████████████████████████████████████████████████████████████| 117/117 [00:03<00:00, 31.64it/s]\n"
     ]
    },
    {
     "name": "stdout",
     "output_type": "stream",
     "text": [
      "Done, obtained 11638-by-512 matrix\n",
      "Extracting features from gallery set ...\n"
     ]
    },
    {
     "name": "stderr",
     "output_type": "stream",
     "text": [
      "100%|████████████████████████████████████████████████████████████████████████████████████████████████████████████████████████████████████████████████████████████████████████████| 344/344 [00:12<00:00, 28.28it/s]\n"
     ]
    },
    {
     "name": "stdout",
     "output_type": "stream",
     "text": [
      "Done, obtained 34355-by-512 matrix\n",
      "Speed: 0.0052 sec/batch\n",
      "Computing distance matrix with metric=euclidean ...\n",
      "Computing CMC and mAP ...\n",
      "** Results **\n",
      "mAP: 38.2%\n",
      "CMC curve\n",
      "Rank-1  : 24.6%\n",
      "Rank-5  : 0.0%\n",
      "Rank-10 : 0.0%\n",
      "Rank-20 : 0.0%\n",
      "Checkpoint saved to \"log/osnet_ibn_x1_0_soccernetv3/model/model.pth.tar-5\"\n",
      "##### Evaluating soccernetv3 (source) #####\n",
      "Extracting features from query set ...\n"
     ]
    },
    {
     "name": "stderr",
     "output_type": "stream",
     "text": [
      "100%|████████████████████████████████████████████████████████████████████████████████████████████████████████████████████████████████████████████████████████████████████████████| 117/117 [00:03<00:00, 31.74it/s]\n"
     ]
    },
    {
     "name": "stdout",
     "output_type": "stream",
     "text": [
      "Done, obtained 11638-by-512 matrix\n",
      "Extracting features from gallery set ...\n"
     ]
    },
    {
     "name": "stderr",
     "output_type": "stream",
     "text": [
      "100%|████████████████████████████████████████████████████████████████████████████████████████████████████████████████████████████████████████████████████████████████████████████| 344/344 [00:12<00:00, 28.62it/s]\n"
     ]
    },
    {
     "name": "stdout",
     "output_type": "stream",
     "text": [
      "Done, obtained 34355-by-512 matrix\n",
      "Speed: 0.0050 sec/batch\n",
      "Computing distance matrix with metric=euclidean ...\n",
      "Computing CMC and mAP ...\n",
      "** Results **\n",
      "mAP: 41.1%\n",
      "CMC curve\n",
      "Rank-1  : 26.2%\n",
      "Rank-5  : 0.0%\n",
      "Rank-10 : 0.0%\n",
      "Rank-20 : 0.0%\n",
      "Checkpoint saved to \"log/osnet_ibn_x1_0_soccernetv3/model/model.pth.tar-10\"\n",
      "##### Evaluating soccernetv3 (source) #####\n",
      "Extracting features from query set ...\n"
     ]
    },
    {
     "name": "stderr",
     "output_type": "stream",
     "text": [
      "100%|████████████████████████████████████████████████████████████████████████████████████████████████████████████████████████████████████████████████████████████████████████████| 117/117 [00:03<00:00, 31.27it/s]\n"
     ]
    },
    {
     "name": "stdout",
     "output_type": "stream",
     "text": [
      "Done, obtained 11638-by-512 matrix\n",
      "Extracting features from gallery set ...\n"
     ]
    },
    {
     "name": "stderr",
     "output_type": "stream",
     "text": [
      "100%|████████████████████████████████████████████████████████████████████████████████████████████████████████████████████████████████████████████████████████████████████████████| 344/344 [00:11<00:00, 28.70it/s]\n"
     ]
    },
    {
     "name": "stdout",
     "output_type": "stream",
     "text": [
      "Done, obtained 34355-by-512 matrix\n",
      "Speed: 0.0049 sec/batch\n",
      "Computing distance matrix with metric=euclidean ...\n",
      "Computing CMC and mAP ...\n",
      "** Results **\n",
      "mAP: 33.3%\n",
      "CMC curve\n",
      "Rank-1  : 21.2%\n",
      "Rank-5  : 0.0%\n",
      "Rank-10 : 0.0%\n",
      "Rank-20 : 0.0%\n",
      "Checkpoint saved to \"log/osnet_ibn_x1_0_soccernetv3/model/model.pth.tar-15\"\n",
      "##### Evaluating soccernetv3 (source) #####\n",
      "Extracting features from query set ...\n"
     ]
    },
    {
     "name": "stderr",
     "output_type": "stream",
     "text": [
      "100%|████████████████████████████████████████████████████████████████████████████████████████████████████████████████████████████████████████████████████████████████████████████| 117/117 [00:03<00:00, 31.79it/s]\n"
     ]
    },
    {
     "name": "stdout",
     "output_type": "stream",
     "text": [
      "Done, obtained 11638-by-512 matrix\n",
      "Extracting features from gallery set ...\n"
     ]
    },
    {
     "name": "stderr",
     "output_type": "stream",
     "text": [
      "100%|████████████████████████████████████████████████████████████████████████████████████████████████████████████████████████████████████████████████████████████████████████████| 344/344 [00:12<00:00, 28.56it/s]\n"
     ]
    },
    {
     "name": "stdout",
     "output_type": "stream",
     "text": [
      "Done, obtained 34355-by-512 matrix\n",
      "Speed: 0.0050 sec/batch\n",
      "Computing distance matrix with metric=euclidean ...\n",
      "Computing CMC and mAP ...\n",
      "** Results **\n",
      "mAP: 38.1%\n",
      "CMC curve\n",
      "Rank-1  : 24.4%\n",
      "Rank-5  : 0.0%\n",
      "Rank-10 : 0.0%\n",
      "Rank-20 : 0.0%\n",
      "Checkpoint saved to \"log/osnet_ibn_x1_0_soccernetv3/model/model.pth.tar-20\"\n",
      "##### Evaluating soccernetv3 (source) #####\n",
      "Extracting features from query set ...\n"
     ]
    },
    {
     "name": "stderr",
     "output_type": "stream",
     "text": [
      "100%|████████████████████████████████████████████████████████████████████████████████████████████████████████████████████████████████████████████████████████████████████████████| 117/117 [00:03<00:00, 31.79it/s]\n"
     ]
    },
    {
     "name": "stdout",
     "output_type": "stream",
     "text": [
      "Done, obtained 11638-by-512 matrix\n",
      "Extracting features from gallery set ...\n"
     ]
    },
    {
     "name": "stderr",
     "output_type": "stream",
     "text": [
      "100%|████████████████████████████████████████████████████████████████████████████████████████████████████████████████████████████████████████████████████████████████████████████| 344/344 [00:12<00:00, 28.57it/s]\n"
     ]
    },
    {
     "name": "stdout",
     "output_type": "stream",
     "text": [
      "Done, obtained 34355-by-512 matrix\n",
      "Speed: 0.0051 sec/batch\n",
      "Computing distance matrix with metric=euclidean ...\n",
      "Computing CMC and mAP ...\n",
      "** Results **\n",
      "mAP: 33.3%\n",
      "CMC curve\n",
      "Rank-1  : 20.9%\n",
      "Rank-5  : 0.0%\n",
      "Rank-10 : 0.0%\n",
      "Rank-20 : 0.0%\n",
      "Checkpoint saved to \"log/osnet_ibn_x1_0_soccernetv3/model/model.pth.tar-25\"\n",
      "##### Evaluating soccernetv3 (source) #####\n",
      "Extracting features from query set ...\n"
     ]
    },
    {
     "name": "stderr",
     "output_type": "stream",
     "text": [
      "100%|████████████████████████████████████████████████████████████████████████████████████████████████████████████████████████████████████████████████████████████████████████████| 117/117 [00:03<00:00, 31.70it/s]\n"
     ]
    },
    {
     "name": "stdout",
     "output_type": "stream",
     "text": [
      "Done, obtained 11638-by-512 matrix\n",
      "Extracting features from gallery set ...\n"
     ]
    },
    {
     "name": "stderr",
     "output_type": "stream",
     "text": [
      "100%|████████████████████████████████████████████████████████████████████████████████████████████████████████████████████████████████████████████████████████████████████████████| 344/344 [00:12<00:00, 28.54it/s]\n"
     ]
    },
    {
     "name": "stdout",
     "output_type": "stream",
     "text": [
      "Done, obtained 34355-by-512 matrix\n",
      "Speed: 0.0051 sec/batch\n",
      "Computing distance matrix with metric=euclidean ...\n",
      "Computing CMC and mAP ...\n",
      "** Results **\n",
      "mAP: 31.9%\n",
      "CMC curve\n",
      "Rank-1  : 20.2%\n",
      "Rank-5  : 0.0%\n",
      "Rank-10 : 0.0%\n",
      "Rank-20 : 0.0%\n",
      "Checkpoint saved to \"log/osnet_ibn_x1_0_soccernetv3/model/model.pth.tar-30\"\n",
      "##### Evaluating soccernetv3 (source) #####\n",
      "Extracting features from query set ...\n"
     ]
    },
    {
     "name": "stderr",
     "output_type": "stream",
     "text": [
      "100%|████████████████████████████████████████████████████████████████████████████████████████████████████████████████████████████████████████████████████████████████████████████| 117/117 [00:03<00:00, 31.78it/s]\n"
     ]
    },
    {
     "name": "stdout",
     "output_type": "stream",
     "text": [
      "Done, obtained 11638-by-512 matrix\n",
      "Extracting features from gallery set ...\n"
     ]
    },
    {
     "name": "stderr",
     "output_type": "stream",
     "text": [
      "100%|████████████████████████████████████████████████████████████████████████████████████████████████████████████████████████████████████████████████████████████████████████████| 344/344 [00:12<00:00, 28.23it/s]\n"
     ]
    },
    {
     "name": "stdout",
     "output_type": "stream",
     "text": [
      "Done, obtained 34355-by-512 matrix\n",
      "Speed: 0.0052 sec/batch\n",
      "Computing distance matrix with metric=euclidean ...\n",
      "Computing CMC and mAP ...\n",
      "** Results **\n",
      "mAP: 31.6%\n",
      "CMC curve\n",
      "Rank-1  : 19.8%\n",
      "Rank-5  : 0.0%\n",
      "Rank-10 : 0.0%\n",
      "Rank-20 : 0.0%\n",
      "Checkpoint saved to \"log/osnet_ibn_x1_0_soccernetv3/model/model.pth.tar-35\"\n",
      "##### Evaluating soccernetv3 (source) #####\n",
      "Extracting features from query set ...\n"
     ]
    },
    {
     "name": "stderr",
     "output_type": "stream",
     "text": [
      "100%|████████████████████████████████████████████████████████████████████████████████████████████████████████████████████████████████████████████████████████████████████████████| 117/117 [00:03<00:00, 31.67it/s]\n"
     ]
    },
    {
     "name": "stdout",
     "output_type": "stream",
     "text": [
      "Done, obtained 11638-by-512 matrix\n",
      "Extracting features from gallery set ...\n"
     ]
    },
    {
     "name": "stderr",
     "output_type": "stream",
     "text": [
      "100%|████████████████████████████████████████████████████████████████████████████████████████████████████████████████████████████████████████████████████████████████████████████| 344/344 [00:12<00:00, 28.58it/s]\n"
     ]
    },
    {
     "name": "stdout",
     "output_type": "stream",
     "text": [
      "Done, obtained 34355-by-512 matrix\n",
      "Speed: 0.0052 sec/batch\n",
      "Computing distance matrix with metric=euclidean ...\n",
      "Computing CMC and mAP ...\n",
      "** Results **\n",
      "mAP: 31.4%\n",
      "CMC curve\n",
      "Rank-1  : 19.6%\n",
      "Rank-5  : 0.0%\n",
      "Rank-10 : 0.0%\n",
      "Rank-20 : 0.0%\n",
      "Checkpoint saved to \"log/osnet_ibn_x1_0_soccernetv3/model/model.pth.tar-40\"\n",
      "##### Evaluating soccernetv3 (source) #####\n",
      "Extracting features from query set ...\n"
     ]
    },
    {
     "name": "stderr",
     "output_type": "stream",
     "text": [
      "100%|████████████████████████████████████████████████████████████████████████████████████████████████████████████████████████████████████████████████████████████████████████████| 117/117 [00:03<00:00, 31.78it/s]\n"
     ]
    },
    {
     "name": "stdout",
     "output_type": "stream",
     "text": [
      "Done, obtained 11638-by-512 matrix\n",
      "Extracting features from gallery set ...\n"
     ]
    },
    {
     "name": "stderr",
     "output_type": "stream",
     "text": [
      "100%|████████████████████████████████████████████████████████████████████████████████████████████████████████████████████████████████████████████████████████████████████████████| 344/344 [00:12<00:00, 28.51it/s]\n"
     ]
    },
    {
     "name": "stdout",
     "output_type": "stream",
     "text": [
      "Done, obtained 34355-by-512 matrix\n",
      "Speed: 0.0050 sec/batch\n",
      "Computing distance matrix with metric=euclidean ...\n",
      "Computing CMC and mAP ...\n",
      "** Results **\n",
      "mAP: 31.3%\n",
      "CMC curve\n",
      "Rank-1  : 19.5%\n",
      "Rank-5  : 0.0%\n",
      "Rank-10 : 0.0%\n",
      "Rank-20 : 0.0%\n",
      "Checkpoint saved to \"log/osnet_ibn_x1_0_soccernetv3/model/model.pth.tar-45\"\n",
      "##### Evaluating soccernetv3 (source) #####\n",
      "Extracting features from query set ...\n"
     ]
    },
    {
     "name": "stderr",
     "output_type": "stream",
     "text": [
      "100%|████████████████████████████████████████████████████████████████████████████████████████████████████████████████████████████████████████████████████████████████████████████| 117/117 [00:03<00:00, 31.75it/s]\n"
     ]
    },
    {
     "name": "stdout",
     "output_type": "stream",
     "text": [
      "Done, obtained 11638-by-512 matrix\n",
      "Extracting features from gallery set ...\n"
     ]
    },
    {
     "name": "stderr",
     "output_type": "stream",
     "text": [
      "100%|████████████████████████████████████████████████████████████████████████████████████████████████████████████████████████████████████████████████████████████████████████████| 344/344 [00:12<00:00, 28.56it/s]\n"
     ]
    },
    {
     "name": "stdout",
     "output_type": "stream",
     "text": [
      "Done, obtained 34355-by-512 matrix\n",
      "Speed: 0.0050 sec/batch\n",
      "Computing distance matrix with metric=euclidean ...\n",
      "Computing CMC and mAP ...\n",
      "** Results **\n",
      "mAP: 30.2%\n",
      "CMC curve\n",
      "Rank-1  : 18.3%\n",
      "Rank-5  : 0.0%\n",
      "Rank-10 : 0.0%\n",
      "Rank-20 : 0.0%\n",
      "Checkpoint saved to \"log/osnet_ibn_x1_0_soccernetv3/model/model.pth.tar-50\"\n",
      "##### Evaluating soccernetv3 (source) #####\n",
      "Extracting features from query set ...\n"
     ]
    },
    {
     "name": "stderr",
     "output_type": "stream",
     "text": [
      "100%|████████████████████████████████████████████████████████████████████████████████████████████████████████████████████████████████████████████████████████████████████████████| 117/117 [00:03<00:00, 31.76it/s]\n"
     ]
    },
    {
     "name": "stdout",
     "output_type": "stream",
     "text": [
      "Done, obtained 11638-by-512 matrix\n",
      "Extracting features from gallery set ...\n"
     ]
    },
    {
     "name": "stderr",
     "output_type": "stream",
     "text": [
      "100%|████████████████████████████████████████████████████████████████████████████████████████████████████████████████████████████████████████████████████████████████████████████| 344/344 [00:12<00:00, 28.48it/s]\n"
     ]
    },
    {
     "name": "stdout",
     "output_type": "stream",
     "text": [
      "Done, obtained 34355-by-512 matrix\n",
      "Speed: 0.0050 sec/batch\n",
      "Computing distance matrix with metric=euclidean ...\n",
      "Computing CMC and mAP ...\n",
      "** Results **\n",
      "mAP: 29.1%\n",
      "CMC curve\n",
      "Rank-1  : 17.4%\n",
      "Rank-5  : 0.0%\n",
      "Rank-10 : 0.0%\n",
      "Rank-20 : 0.0%\n",
      "Checkpoint saved to \"log/osnet_ibn_x1_0_soccernetv3/model/model.pth.tar-55\"\n",
      "=> Final test\n",
      "##### Evaluating soccernetv3 (source) #####\n",
      "Extracting features from query set ...\n"
     ]
    },
    {
     "name": "stderr",
     "output_type": "stream",
     "text": [
      "100%|████████████████████████████████████████████████████████████████████████████████████████████████████████████████████████████████████████████████████████████████████████████| 117/117 [00:03<00:00, 31.74it/s]\n"
     ]
    },
    {
     "name": "stdout",
     "output_type": "stream",
     "text": [
      "Done, obtained 11638-by-512 matrix\n",
      "Extracting features from gallery set ...\n"
     ]
    },
    {
     "name": "stderr",
     "output_type": "stream",
     "text": [
      "100%|████████████████████████████████████████████████████████████████████████████████████████████████████████████████████████████████████████████████████████████████████████████| 344/344 [00:12<00:00, 28.54it/s]\n"
     ]
    },
    {
     "name": "stdout",
     "output_type": "stream",
     "text": [
      "Done, obtained 34355-by-512 matrix\n",
      "Speed: 0.0050 sec/batch\n",
      "Computing distance matrix with metric=euclidean ...\n",
      "Computing CMC and mAP ...\n",
      "** Results **\n",
      "mAP: 28.5%\n",
      "CMC curve\n",
      "Rank-1  : 16.8%\n",
      "Rank-5  : 0.0%\n",
      "Rank-10 : 0.0%\n",
      "Rank-20 : 0.0%\n",
      "Checkpoint saved to \"log/osnet_ibn_x1_0_soccernetv3/model/model.pth.tar-60\"\n",
      "Elapsed 5:02:30\n"
     ]
    }
   ],
   "source": [
    "engine.run(\n",
    "    save_dir=f\"log/{model_name}_{dataset_name}\",\n",
    "    max_epoch=60,\n",
    "    eval_freq=5,\n",
    "    print_freq=5000,\n",
    "    test_only=False,\n",
    "    visrank=False,\n",
    "    eval_metric='soccernetv3'\n",
    ")"
   ]
  }
 ],
 "metadata": {
  "kernelspec": {
   "display_name": "Python 3 (ipykernel)",
   "language": "python",
   "name": "python3"
  },
  "language_info": {
   "codemirror_mode": {
    "name": "ipython",
    "version": 3
   },
   "file_extension": ".py",
   "mimetype": "text/x-python",
   "name": "python",
   "nbconvert_exporter": "python",
   "pygments_lexer": "ipython3",
   "version": "3.7.16"
  }
 },
 "nbformat": 4,
 "nbformat_minor": 5
}
