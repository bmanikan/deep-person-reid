{
 "cells": [
  {
   "cell_type": "code",
   "execution_count": 1,
   "id": "36609ee7-f1b7-485b-8522-c97a2e8363c3",
   "metadata": {
    "tags": []
   },
   "outputs": [
    {
     "name": "stderr",
     "output_type": "stream",
     "text": [
      "/home/trewq/Desktop/Projects/RetailAnalytics/REID/RESEARCH/deep-person-reid/torchreid/metrics/rank.py:11: UserWarning: Cython evaluation (very fast so highly recommended) is unavailable, now use python evaluation.\n",
      "  warnings.warn(\n"
     ]
    },
    {
     "name": "stdout",
     "output_type": "stream",
     "text": [
      "Building train transforms ...\n",
      "+ resize to 256x128\n",
      "+ random flip\n",
      "+ random crop (enlarge to 288x144 and crop 256x128)\n",
      "+ to torch tensor of range [0, 1]\n",
      "+ normalization (mean=[0.485, 0.456, 0.406], std=[0.229, 0.224, 0.225])\n",
      "Building test transforms ...\n",
      "+ resize to 256x128\n",
      "+ to torch tensor of range [0, 1]\n",
      "+ normalization (mean=[0.485, 0.456, 0.406], std=[0.229, 0.224, 0.225])\n",
      "=> Loading train (source) dataset\n",
      "=> Loaded Market1501\n",
      "  ----------------------------------------\n",
      "  subset   | # ids | # images | # cameras\n",
      "  ----------------------------------------\n",
      "  train    |   751 |    12936 |         6\n",
      "  query    |   750 |     3368 |         6\n",
      "  gallery  |   751 |    15913 |         6\n",
      "  ----------------------------------------\n",
      "=> Loading test (target) dataset\n",
      "=> Loaded Market1501\n",
      "  ----------------------------------------\n",
      "  subset   | # ids | # images | # cameras\n",
      "  ----------------------------------------\n",
      "  train    |   751 |    12936 |         6\n",
      "  query    |   750 |     3368 |         6\n",
      "  gallery  |   751 |    15913 |         6\n",
      "  ----------------------------------------\n",
      "\n",
      "\n",
      "  **************** Summary ****************\n",
      "  source            : ['market1501']\n",
      "  # source datasets : 1\n",
      "  # source ids      : 751\n",
      "  # source images   : 12936\n",
      "  # source cameras  : 6\n",
      "  target            : ['market1501']\n",
      "  *****************************************\n",
      "\n",
      "\n"
     ]
    }
   ],
   "source": [
    "import torchreid\n",
    "model_name = 'resnet50'\n",
    "dataset_name = 'market1501'\n",
    "datamanager = torchreid.data.ImageDataManager(\n",
    "    root=\"reid-data\",\n",
    "    sources=dataset_name,\n",
    "    targets=dataset_name,\n",
    "    height=256,\n",
    "    width=128,\n",
    "    batch_size_train=128,\n",
    "    batch_size_test=100,\n",
    "    transforms=[\"random_flip\", \"random_crop\"]\n",
    ")"
   ]
  },
  {
   "cell_type": "code",
   "execution_count": 8,
   "id": "9aed2f73",
   "metadata": {},
   "outputs": [
    {
     "name": "stdout",
     "output_type": "stream",
     "text": [
      "tensor([373, 367, 515, 327,  30, 465, 416, 111, 230, 684,  33, 151, 556, 627,\n",
      "        229, 373, 190, 198, 395, 386, 499, 722, 520, 398, 682, 440,  55, 653,\n",
      "        243,  54,  70,  61, 398, 425, 284, 397, 484, 526,  45, 531, 132, 352,\n",
      "        373, 507, 217, 327, 224,  30,  77, 136, 127, 528,  48, 409, 577, 385,\n",
      "        486,  63, 315, 684, 421, 151,  54, 132, 579, 175, 421,  57, 554, 186,\n",
      "        708, 666, 165,  48, 519,  16, 612, 416, 227, 201, 613, 314,  70, 314,\n",
      "        694,  96, 591,  92, 201, 327, 696, 244, 593,  93, 369, 490, 316, 443,\n",
      "        342, 496, 343, 676, 104, 601, 537,  64, 167, 105, 474, 585, 440,  26,\n",
      "        522, 708, 446, 114,  61, 173, 171, 601, 425, 580, 709, 463, 577, 459,\n",
      "        399, 369])\n"
     ]
    }
   ],
   "source": [
    "train_loader = datamanager.train_loader\n",
    "for batch_idx, data in enumerate(train_loader):\n",
    "    print(data['pid'])\n",
    "    break"
   ]
  },
  {
   "cell_type": "code",
   "execution_count": 4,
   "id": "98b6fddd-e9cd-431b-b7ec-5b82a0ab9fc5",
   "metadata": {
    "tags": []
   },
   "outputs": [],
   "source": [
    "model = torchreid.models.build_model(\n",
    "    name=model_name,\n",
    "    num_classes=datamanager.num_train_pids, #2000 for Tango\n",
    "    loss=\"triplet\",\n",
    "    pretrained=True,\n",
    "    pooling='gem',\n",
    "    custom_layers=['ArcFaceMarginProduct']\n",
    ")\n",
    "model = model.cuda()\n",
    "optimizer = torchreid.optim.build_optimizer(\n",
    "    model,\n",
    "    optim=\"adam\",\n",
    "    lr=0.0003\n",
    ")\n",
    "\n",
    "scheduler = torchreid.optim.build_lr_scheduler(\n",
    "    optimizer,\n",
    "    lr_scheduler=\"single_step\",\n",
    "    stepsize=20\n",
    ")"
   ]
  },
  {
   "cell_type": "code",
   "execution_count": 5,
   "id": "39cf1e57-0dce-4a74-8c35-bd4d7e4ad2ff",
   "metadata": {
    "tags": []
   },
   "outputs": [],
   "source": [
    "# from tools.visualize_actmap import visactmap\n",
    "# test_loader = datamanager.test_loader\n",
    "# visactmap(model, test_loader, f\"log/visactmap_{model_name}_{dataset_name}\", 128, 256, True, [0.485, 0.456, 0.406], [0.229, 0.224, 0.225])"
   ]
  },
  {
   "cell_type": "code",
   "execution_count": 7,
   "id": "1b07cb99-fad4-47c9-9a17-3f87d0db5dfe",
   "metadata": {
    "tags": []
   },
   "outputs": [],
   "source": [
    "engine = torchreid.engine.ImageSoftmaxEngine(\n",
    "    datamanager,\n",
    "    model,\n",
    "    optimizer=optimizer,\n",
    "    scheduler=scheduler,\n",
    "    label_smooth=True\n",
    ")"
   ]
  },
  {
   "cell_type": "code",
   "execution_count": 8,
   "id": "4a080fba-1edf-4104-a162-cf93bda57559",
   "metadata": {
    "tags": []
   },
   "outputs": [
    {
     "name": "stdout",
     "output_type": "stream",
     "text": [
      "=> Start training\n"
     ]
    },
    {
     "name": "stderr",
     "output_type": "stream",
     "text": [
      "  0%|          | 0/60 [00:00<?, ?it/s]"
     ]
    },
    {
     "name": "stdout",
     "output_type": "stream",
     "text": [
      "epoch: [1/60][50/101]\ttime 0.153 (0.156)\tdata 0.002 (0.006)\teta 0:15:39\tloss 5.1502 (5.1459)\tacc 100.0000 (100.0000)\tlr 0.000000\n"
     ]
    },
    {
     "name": "stderr",
     "output_type": "stream",
     "text": [
      "100%|██████████| 101/101 [00:15<00:00,  6.46it/s]\n",
      "  2%|▏         | 1/60 [00:15<15:22, 15.64s/it]"
     ]
    },
    {
     "name": "stdout",
     "output_type": "stream",
     "text": [
      "epoch: [1/60][100/101]\ttime 0.152 (0.154)\tdata 0.002 (0.004)\teta 0:15:20\tloss 5.1373 (5.1428)\tacc 100.0000 (100.0000)\tlr 0.000000\n"
     ]
    },
    {
     "name": "stderr",
     "output_type": "stream",
     "text": []
    },
    {
     "name": "stdout",
     "output_type": "stream",
     "text": [
      "epoch: [2/60][50/101]\ttime 0.153 (0.156)\tdata 0.002 (0.005)\teta 0:15:23\tloss 5.1242 (5.1304)\tacc 100.0000 (100.0000)\tlr 0.000000\n"
     ]
    },
    {
     "name": "stderr",
     "output_type": "stream",
     "text": [
      "100%|██████████| 101/101 [00:15<00:00,  6.45it/s]\n",
      "  3%|▎         | 2/60 [00:31<15:07, 15.65s/it]"
     ]
    },
    {
     "name": "stdout",
     "output_type": "stream",
     "text": [
      "epoch: [2/60][100/101]\ttime 0.153 (0.155)\tdata 0.001 (0.004)\teta 0:15:06\tloss 5.1082 (5.1296)\tacc 100.0000 (100.0000)\tlr 0.000000\n"
     ]
    },
    {
     "name": "stderr",
     "output_type": "stream",
     "text": []
    },
    {
     "name": "stdout",
     "output_type": "stream",
     "text": [
      "epoch: [3/60][50/101]\ttime 0.153 (0.157)\tdata 0.002 (0.006)\teta 0:15:11\tloss 5.1430 (5.1204)\tacc 100.0000 (100.0000)\tlr 0.000000\n"
     ]
    },
    {
     "name": "stderr",
     "output_type": "stream",
     "text": [
      "100%|██████████| 101/101 [00:15<00:00,  6.45it/s]\n",
      "  5%|▌         | 3/60 [00:46<14:52, 15.66s/it]"
     ]
    },
    {
     "name": "stdout",
     "output_type": "stream",
     "text": [
      "epoch: [3/60][100/101]\ttime 0.152 (0.155)\tdata 0.001 (0.004)\teta 0:14:51\tloss 5.1448 (5.1191)\tacc 100.0000 (100.0000)\tlr 0.000000\n"
     ]
    },
    {
     "name": "stderr",
     "output_type": "stream",
     "text": []
    },
    {
     "name": "stdout",
     "output_type": "stream",
     "text": [
      "epoch: [4/60][50/101]\ttime 0.152 (0.157)\tdata 0.002 (0.006)\teta 0:14:55\tloss 5.1256 (5.1144)\tacc 100.0000 (100.0000)\tlr 0.000000\n"
     ]
    },
    {
     "name": "stderr",
     "output_type": "stream",
     "text": [
      "100%|██████████| 101/101 [00:15<00:00,  6.45it/s]\n",
      "  7%|▋         | 4/60 [01:02<14:37, 15.66s/it]"
     ]
    },
    {
     "name": "stdout",
     "output_type": "stream",
     "text": [
      "epoch: [4/60][100/101]\ttime 0.152 (0.155)\tdata 0.002 (0.004)\teta 0:14:35\tloss 5.0888 (5.1093)\tacc 100.0000 (100.0000)\tlr 0.000000\n"
     ]
    },
    {
     "name": "stderr",
     "output_type": "stream",
     "text": []
    },
    {
     "name": "stdout",
     "output_type": "stream",
     "text": [
      "epoch: [5/60][50/101]\ttime 0.152 (0.156)\tdata 0.002 (0.005)\teta 0:14:36\tloss 5.1295 (5.0994)\tacc 100.0000 (100.0000)\tlr 0.000000\n"
     ]
    },
    {
     "name": "stderr",
     "output_type": "stream",
     "text": [
      "100%|██████████| 101/101 [00:15<00:00,  6.47it/s]\n"
     ]
    },
    {
     "name": "stdout",
     "output_type": "stream",
     "text": [
      "epoch: [5/60][100/101]\ttime 0.152 (0.154)\tdata 0.002 (0.004)\teta 0:14:17\tloss 5.1207 (5.0994)\tacc 100.0000 (100.0000)\tlr 0.000000\n",
      "##### Evaluating market1501 (source) #####\n",
      "Extracting features from query set ...\n"
     ]
    },
    {
     "name": "stderr",
     "output_type": "stream",
     "text": [
      "100%|██████████| 34/34 [00:01<00:00, 26.18it/s]\n"
     ]
    },
    {
     "name": "stdout",
     "output_type": "stream",
     "text": [
      "Done, obtained 3368-by-2048 matrix\n",
      "Extracting features from gallery set ...\n"
     ]
    },
    {
     "name": "stderr",
     "output_type": "stream",
     "text": [
      "100%|██████████| 160/160 [00:05<00:00, 28.79it/s]\n"
     ]
    },
    {
     "name": "stdout",
     "output_type": "stream",
     "text": [
      "Done, obtained 15913-by-2048 matrix\n",
      "Speed: 0.0018 sec/batch\n",
      "Computing distance matrix with metric=euclidean ...\n",
      "Computing CMC and mAP ...\n",
      "[   0  455    0 ... 1026  668  723] <class 'numpy.ndarray'> False\n",
      "** Results **\n",
      "mAP: 71.9%\n",
      "CMC curve\n",
      "Rank-1  : 88.6%\n",
      "Rank-5  : 95.0%\n",
      "Rank-10 : 96.5%\n",
      "Rank-20 : 97.9%\n"
     ]
    },
    {
     "name": "stderr",
     "output_type": "stream",
     "text": [
      "  8%|▊         | 5/60 [01:57<27:12, 29.69s/it]"
     ]
    },
    {
     "name": "stdout",
     "output_type": "stream",
     "text": [
      "Checkpoint saved to \"log/resnet50_market1501/model/model.pth.tar-5\"\n"
     ]
    },
    {
     "name": "stderr",
     "output_type": "stream",
     "text": []
    },
    {
     "name": "stdout",
     "output_type": "stream",
     "text": [
      "epoch: [6/60][50/101]\ttime 0.153 (0.157)\tdata 0.002 (0.006)\teta 0:14:25\tloss 5.0941 (5.0900)\tacc 100.0000 (100.0000)\tlr 0.000000\n"
     ]
    },
    {
     "name": "stderr",
     "output_type": "stream",
     "text": [
      "100%|██████████| 101/101 [00:15<00:00,  6.45it/s]\n",
      " 10%|█         | 6/60 [02:12<22:25, 24.92s/it]"
     ]
    },
    {
     "name": "stdout",
     "output_type": "stream",
     "text": [
      "epoch: [6/60][100/101]\ttime 0.149 (0.155)\tdata 0.001 (0.004)\teta 0:14:03\tloss 5.0798 (5.0893)\tacc 100.0000 (100.0000)\tlr 0.000000\n"
     ]
    },
    {
     "name": "stderr",
     "output_type": "stream",
     "text": []
    },
    {
     "name": "stdout",
     "output_type": "stream",
     "text": [
      "epoch: [7/60][50/101]\ttime 0.153 (0.156)\tdata 0.002 (0.005)\teta 0:14:02\tloss 5.0592 (5.0857)\tacc 100.0000 (100.0000)\tlr 0.000000\n"
     ]
    },
    {
     "name": "stderr",
     "output_type": "stream",
     "text": [
      "100%|██████████| 101/101 [00:15<00:00,  6.47it/s]\n",
      " 12%|█▏        | 7/60 [02:28<19:19, 21.88s/it]"
     ]
    },
    {
     "name": "stdout",
     "output_type": "stream",
     "text": [
      "epoch: [7/60][100/101]\ttime 0.152 (0.154)\tdata 0.002 (0.003)\teta 0:13:46\tloss 5.0655 (5.0810)\tacc 100.0000 (99.9922)\tlr 0.000000\n"
     ]
    },
    {
     "name": "stderr",
     "output_type": "stream",
     "text": []
    },
    {
     "name": "stdout",
     "output_type": "stream",
     "text": [
      "epoch: [8/60][50/101]\ttime 0.154 (0.157)\tdata 0.002 (0.005)\teta 0:13:52\tloss 5.1255 (5.0736)\tacc 100.0000 (100.0000)\tlr 0.000000\n"
     ]
    },
    {
     "name": "stderr",
     "output_type": "stream",
     "text": [
      "100%|██████████| 101/101 [00:15<00:00,  6.52it/s]\n",
      " 13%|█▎        | 8/60 [02:43<17:12, 19.85s/it]"
     ]
    },
    {
     "name": "stdout",
     "output_type": "stream",
     "text": [
      "epoch: [8/60][100/101]\ttime 0.148 (0.153)\tdata 0.002 (0.004)\teta 0:13:24\tloss 5.0798 (5.0711)\tacc 100.0000 (100.0000)\tlr 0.000000\n"
     ]
    },
    {
     "name": "stderr",
     "output_type": "stream",
     "text": []
    },
    {
     "name": "stdout",
     "output_type": "stream",
     "text": [
      "epoch: [9/60][50/101]\ttime 0.147 (0.152)\tdata 0.002 (0.006)\teta 0:13:11\tloss 5.0926 (5.0630)\tacc 100.0000 (100.0000)\tlr 0.000000\n"
     ]
    },
    {
     "name": "stderr",
     "output_type": "stream",
     "text": [
      "100%|██████████| 101/101 [00:15<00:00,  6.64it/s]\n",
      " 15%|█▌        | 9/60 [02:59<15:38, 18.40s/it]"
     ]
    },
    {
     "name": "stdout",
     "output_type": "stream",
     "text": [
      "epoch: [9/60][100/101]\ttime 0.147 (0.150)\tdata 0.001 (0.004)\teta 0:12:53\tloss 5.0588 (5.0609)\tacc 100.0000 (100.0000)\tlr 0.000000\n"
     ]
    },
    {
     "name": "stderr",
     "output_type": "stream",
     "text": []
    },
    {
     "name": "stdout",
     "output_type": "stream",
     "text": [
      "epoch: [10/60][50/101]\ttime 0.157 (0.154)\tdata 0.002 (0.005)\teta 0:13:05\tloss 5.0251 (5.0542)\tacc 100.0000 (100.0000)\tlr 0.000000\n"
     ]
    },
    {
     "name": "stderr",
     "output_type": "stream",
     "text": [
      "100%|██████████| 101/101 [00:15<00:00,  6.54it/s]\n"
     ]
    },
    {
     "name": "stdout",
     "output_type": "stream",
     "text": [
      "epoch: [10/60][100/101]\ttime 0.147 (0.153)\tdata 0.001 (0.003)\teta 0:12:51\tloss 5.0269 (5.0527)\tacc 100.0000 (100.0000)\tlr 0.000000\n",
      "##### Evaluating market1501 (source) #####\n",
      "Extracting features from query set ...\n"
     ]
    },
    {
     "name": "stderr",
     "output_type": "stream",
     "text": [
      "100%|██████████| 34/34 [00:01<00:00, 26.84it/s]\n"
     ]
    },
    {
     "name": "stdout",
     "output_type": "stream",
     "text": [
      "Done, obtained 3368-by-2048 matrix\n",
      "Extracting features from gallery set ...\n"
     ]
    },
    {
     "name": "stderr",
     "output_type": "stream",
     "text": [
      "100%|██████████| 160/160 [00:05<00:00, 29.99it/s]\n"
     ]
    },
    {
     "name": "stdout",
     "output_type": "stream",
     "text": [
      "Done, obtained 15913-by-2048 matrix\n",
      "Speed: 0.0018 sec/batch\n",
      "Computing distance matrix with metric=euclidean ...\n",
      "Computing CMC and mAP ...\n",
      "[   0  455    0 ... 1026  668  723] <class 'numpy.ndarray'> False\n",
      "** Results **\n",
      "mAP: 71.8%\n",
      "CMC curve\n",
      "Rank-1  : 88.4%\n",
      "Rank-5  : 95.0%\n",
      "Rank-10 : 96.4%\n",
      "Rank-20 : 97.8%\n"
     ]
    },
    {
     "name": "stderr",
     "output_type": "stream",
     "text": [
      " 17%|█▋        | 10/60 [03:53<24:33, 29.46s/it]"
     ]
    },
    {
     "name": "stdout",
     "output_type": "stream",
     "text": [
      "Checkpoint saved to \"log/resnet50_market1501/model/model.pth.tar-10\"\n"
     ]
    },
    {
     "name": "stderr",
     "output_type": "stream",
     "text": []
    },
    {
     "name": "stdout",
     "output_type": "stream",
     "text": [
      "epoch: [11/60][50/101]\ttime 0.153 (0.155)\tdata 0.002 (0.005)\teta 0:12:54\tloss 5.0605 (5.0425)\tacc 100.0000 (100.0000)\tlr 0.000000\n"
     ]
    },
    {
     "name": "stderr",
     "output_type": "stream",
     "text": [
      "100%|██████████| 101/101 [00:15<00:00,  6.51it/s]\n",
      " 18%|█▊        | 11/60 [04:08<20:34, 25.19s/it]"
     ]
    },
    {
     "name": "stdout",
     "output_type": "stream",
     "text": [
      "epoch: [11/60][100/101]\ttime 0.153 (0.153)\tdata 0.002 (0.004)\teta 0:12:38\tloss 5.0440 (5.0425)\tacc 100.0000 (100.0000)\tlr 0.000000\n"
     ]
    },
    {
     "name": "stderr",
     "output_type": "stream",
     "text": []
    },
    {
     "name": "stdout",
     "output_type": "stream",
     "text": [
      "epoch: [12/60][50/101]\ttime 0.151 (0.155)\tdata 0.002 (0.005)\teta 0:12:39\tloss 5.0338 (5.0403)\tacc 100.0000 (100.0000)\tlr 0.000000\n"
     ]
    },
    {
     "name": "stderr",
     "output_type": "stream",
     "text": [
      "100%|██████████| 101/101 [00:15<00:00,  6.57it/s]\n",
      " 20%|██        | 12/60 [04:24<17:46, 22.21s/it]"
     ]
    },
    {
     "name": "stdout",
     "output_type": "stream",
     "text": [
      "epoch: [12/60][100/101]\ttime 0.147 (0.152)\tdata 0.002 (0.004)\teta 0:12:16\tloss 5.0158 (5.0336)\tacc 100.0000 (100.0000)\tlr 0.000000\n"
     ]
    },
    {
     "name": "stderr",
     "output_type": "stream",
     "text": []
    },
    {
     "name": "stdout",
     "output_type": "stream",
     "text": [
      "epoch: [13/60][50/101]\ttime 0.154 (0.153)\tdata 0.002 (0.006)\teta 0:12:15\tloss 5.0648 (5.0242)\tacc 100.0000 (100.0000)\tlr 0.000000\n"
     ]
    },
    {
     "name": "stderr",
     "output_type": "stream",
     "text": [
      "100%|██████████| 101/101 [00:15<00:00,  6.60it/s]\n",
      " 22%|██▏       | 13/60 [04:39<15:45, 20.12s/it]"
     ]
    },
    {
     "name": "stdout",
     "output_type": "stream",
     "text": [
      "epoch: [13/60][100/101]\ttime 0.148 (0.151)\tdata 0.001 (0.004)\teta 0:11:57\tloss 4.9968 (5.0251)\tacc 100.0000 (100.0000)\tlr 0.000000\n"
     ]
    },
    {
     "name": "stderr",
     "output_type": "stream",
     "text": []
    },
    {
     "name": "stdout",
     "output_type": "stream",
     "text": [
      "epoch: [14/60][50/101]\ttime 0.152 (0.154)\tdata 0.002 (0.005)\teta 0:12:02\tloss 4.9474 (5.0195)\tacc 100.0000 (100.0000)\tlr 0.000000\n"
     ]
    },
    {
     "name": "stderr",
     "output_type": "stream",
     "text": [
      "100%|██████████| 101/101 [00:15<00:00,  6.52it/s]\n",
      " 23%|██▎       | 14/60 [04:55<14:21, 18.72s/it]"
     ]
    },
    {
     "name": "stdout",
     "output_type": "stream",
     "text": [
      "epoch: [14/60][100/101]\ttime 0.151 (0.153)\tdata 0.001 (0.004)\teta 0:11:51\tloss 5.0133 (5.0147)\tacc 100.0000 (100.0000)\tlr 0.000000\n"
     ]
    },
    {
     "name": "stderr",
     "output_type": "stream",
     "text": []
    },
    {
     "name": "stdout",
     "output_type": "stream",
     "text": [
      "epoch: [15/60][50/101]\ttime 0.152 (0.157)\tdata 0.002 (0.005)\teta 0:11:59\tloss 5.0528 (5.0111)\tacc 100.0000 (100.0000)\tlr 0.000000\n"
     ]
    },
    {
     "name": "stderr",
     "output_type": "stream",
     "text": [
      "100%|██████████| 101/101 [00:15<00:00,  6.50it/s]\n"
     ]
    },
    {
     "name": "stdout",
     "output_type": "stream",
     "text": [
      "epoch: [15/60][100/101]\ttime 0.150 (0.154)\tdata 0.002 (0.004)\teta 0:11:37\tloss 4.9929 (5.0074)\tacc 100.0000 (100.0000)\tlr 0.000000\n",
      "##### Evaluating market1501 (source) #####\n",
      "Extracting features from query set ...\n"
     ]
    },
    {
     "name": "stderr",
     "output_type": "stream",
     "text": [
      "100%|██████████| 34/34 [00:01<00:00, 26.83it/s]\n"
     ]
    },
    {
     "name": "stdout",
     "output_type": "stream",
     "text": [
      "Done, obtained 3368-by-2048 matrix\n",
      "Extracting features from gallery set ...\n"
     ]
    },
    {
     "name": "stderr",
     "output_type": "stream",
     "text": [
      "100%|██████████| 160/160 [00:05<00:00, 29.33it/s]\n"
     ]
    },
    {
     "name": "stdout",
     "output_type": "stream",
     "text": [
      "Done, obtained 15913-by-2048 matrix\n",
      "Speed: 0.0019 sec/batch\n",
      "Computing distance matrix with metric=euclidean ...\n",
      "Computing CMC and mAP ...\n",
      "[   0  455    0 ... 1026  668  723] <class 'numpy.ndarray'> False\n",
      "** Results **\n",
      "mAP: 71.7%\n",
      "CMC curve\n",
      "Rank-1  : 88.1%\n",
      "Rank-5  : 95.1%\n",
      "Rank-10 : 96.4%\n",
      "Rank-20 : 97.7%\n"
     ]
    },
    {
     "name": "stderr",
     "output_type": "stream",
     "text": [
      " 25%|██▌       | 15/60 [05:50<22:15, 29.67s/it]"
     ]
    },
    {
     "name": "stdout",
     "output_type": "stream",
     "text": [
      "Checkpoint saved to \"log/resnet50_market1501/model/model.pth.tar-15\"\n"
     ]
    },
    {
     "name": "stderr",
     "output_type": "stream",
     "text": []
    },
    {
     "name": "stdout",
     "output_type": "stream",
     "text": [
      "epoch: [16/60][50/101]\ttime 0.152 (0.156)\tdata 0.002 (0.005)\teta 0:11:42\tloss 5.0165 (5.0038)\tacc 100.0000 (100.0000)\tlr 0.000000\n"
     ]
    },
    {
     "name": "stderr",
     "output_type": "stream",
     "text": [
      " 60%|██████    | 61/101 [00:09<00:06,  6.35it/s]\n",
      " 25%|██▌       | 15/60 [05:59<17:59, 23.98s/it]\n"
     ]
    },
    {
     "ename": "KeyboardInterrupt",
     "evalue": "",
     "output_type": "error",
     "traceback": [
      "\u001b[0;31m---------------------------------------------------------------------------\u001b[0m",
      "\u001b[0;31mKeyboardInterrupt\u001b[0m                         Traceback (most recent call last)",
      "Cell \u001b[0;32mIn[8], line 1\u001b[0m\n\u001b[0;32m----> 1\u001b[0m \u001b[43mengine\u001b[49m\u001b[38;5;241;43m.\u001b[39;49m\u001b[43mrun\u001b[49m\u001b[43m(\u001b[49m\n\u001b[1;32m      2\u001b[0m \u001b[43m    \u001b[49m\u001b[43msave_dir\u001b[49m\u001b[38;5;241;43m=\u001b[39;49m\u001b[38;5;124;43mf\u001b[39;49m\u001b[38;5;124;43m\"\u001b[39;49m\u001b[38;5;124;43mlog/\u001b[39;49m\u001b[38;5;132;43;01m{\u001b[39;49;00m\u001b[43mmodel_name\u001b[49m\u001b[38;5;132;43;01m}\u001b[39;49;00m\u001b[38;5;124;43m_\u001b[39;49m\u001b[38;5;132;43;01m{\u001b[39;49;00m\u001b[43mdataset_name\u001b[49m\u001b[38;5;132;43;01m}\u001b[39;49;00m\u001b[38;5;124;43m\"\u001b[39;49m\u001b[43m,\u001b[49m\n\u001b[1;32m      3\u001b[0m \u001b[43m    \u001b[49m\u001b[43mmax_epoch\u001b[49m\u001b[38;5;241;43m=\u001b[39;49m\u001b[38;5;241;43m60\u001b[39;49m\u001b[43m,\u001b[49m\n\u001b[1;32m      4\u001b[0m \u001b[43m    \u001b[49m\u001b[43meval_freq\u001b[49m\u001b[38;5;241;43m=\u001b[39;49m\u001b[38;5;241;43m5\u001b[39;49m\u001b[43m,\u001b[49m\n\u001b[1;32m      5\u001b[0m \u001b[43m    \u001b[49m\u001b[43mprint_freq\u001b[49m\u001b[38;5;241;43m=\u001b[39;49m\u001b[38;5;241;43m50\u001b[39;49m\u001b[43m,\u001b[49m\n\u001b[1;32m      6\u001b[0m \u001b[43m    \u001b[49m\u001b[43mtest_only\u001b[49m\u001b[38;5;241;43m=\u001b[39;49m\u001b[38;5;28;43;01mFalse\u001b[39;49;00m\u001b[43m,\u001b[49m\n\u001b[1;32m      7\u001b[0m \u001b[43m    \u001b[49m\u001b[43mvisrank\u001b[49m\u001b[38;5;241;43m=\u001b[39;49m\u001b[38;5;28;43;01mFalse\u001b[39;49;00m\u001b[43m,\u001b[49m\n\u001b[1;32m      8\u001b[0m \u001b[43m    \u001b[49m\u001b[43meval_metric\u001b[49m\u001b[38;5;241;43m=\u001b[39;49m\u001b[38;5;124;43m'\u001b[39;49m\u001b[38;5;124;43mdefault\u001b[39;49m\u001b[38;5;124;43m'\u001b[39;49m\n\u001b[1;32m      9\u001b[0m \u001b[43m)\u001b[49m\n",
      "File \u001b[0;32m~/Desktop/Projects/RetailAnalytics/REID/RESEARCH/deep-person-reid/torchreid/engine/engine.py:193\u001b[0m, in \u001b[0;36mEngine.run\u001b[0;34m(self, save_dir, max_epoch, start_epoch, print_freq, fixbase_epoch, open_layers, start_eval, eval_freq, test_only, dist_metric, normalize_feature, visrank, visrank_topk, eval_metric, ranks, rerank)\u001b[0m\n\u001b[1;32m    190\u001b[0m \u001b[38;5;28mprint\u001b[39m(\u001b[38;5;124m'\u001b[39m\u001b[38;5;124m=> Start training\u001b[39m\u001b[38;5;124m'\u001b[39m)\n\u001b[1;32m    192\u001b[0m \u001b[38;5;28;01mfor\u001b[39;00m \u001b[38;5;28mself\u001b[39m\u001b[38;5;241m.\u001b[39mepoch \u001b[38;5;129;01min\u001b[39;00m tqdm(\u001b[38;5;28mrange\u001b[39m(\u001b[38;5;28mself\u001b[39m\u001b[38;5;241m.\u001b[39mstart_epoch, \u001b[38;5;28mself\u001b[39m\u001b[38;5;241m.\u001b[39mmax_epoch)):\n\u001b[0;32m--> 193\u001b[0m     \u001b[38;5;28;43mself\u001b[39;49m\u001b[38;5;241;43m.\u001b[39;49m\u001b[43mtrain\u001b[49m\u001b[43m(\u001b[49m\n\u001b[1;32m    194\u001b[0m \u001b[43m        \u001b[49m\u001b[43mprint_freq\u001b[49m\u001b[38;5;241;43m=\u001b[39;49m\u001b[43mprint_freq\u001b[49m\u001b[43m,\u001b[49m\n\u001b[1;32m    195\u001b[0m \u001b[43m        \u001b[49m\u001b[43mfixbase_epoch\u001b[49m\u001b[38;5;241;43m=\u001b[39;49m\u001b[43mfixbase_epoch\u001b[49m\u001b[43m,\u001b[49m\n\u001b[1;32m    196\u001b[0m \u001b[43m        \u001b[49m\u001b[43mopen_layers\u001b[49m\u001b[38;5;241;43m=\u001b[39;49m\u001b[43mopen_layers\u001b[49m\n\u001b[1;32m    197\u001b[0m \u001b[43m    \u001b[49m\u001b[43m)\u001b[49m\n\u001b[1;32m    199\u001b[0m     \u001b[38;5;28;01mif\u001b[39;00m (\u001b[38;5;28mself\u001b[39m\u001b[38;5;241m.\u001b[39mepoch \u001b[38;5;241m+\u001b[39m \u001b[38;5;241m1\u001b[39m) \u001b[38;5;241m>\u001b[39m\u001b[38;5;241m=\u001b[39m start_eval \\\n\u001b[1;32m    200\u001b[0m        \u001b[38;5;129;01mand\u001b[39;00m eval_freq \u001b[38;5;241m>\u001b[39m \u001b[38;5;241m0\u001b[39m \\\n\u001b[1;32m    201\u001b[0m        \u001b[38;5;129;01mand\u001b[39;00m (\u001b[38;5;28mself\u001b[39m\u001b[38;5;241m.\u001b[39mepoch\u001b[38;5;241m+\u001b[39m\u001b[38;5;241m1\u001b[39m) \u001b[38;5;241m%\u001b[39m eval_freq \u001b[38;5;241m==\u001b[39m \u001b[38;5;241m0\u001b[39m \\\n\u001b[1;32m    202\u001b[0m        \u001b[38;5;129;01mand\u001b[39;00m (\u001b[38;5;28mself\u001b[39m\u001b[38;5;241m.\u001b[39mepoch \u001b[38;5;241m+\u001b[39m \u001b[38;5;241m1\u001b[39m) \u001b[38;5;241m!=\u001b[39m \u001b[38;5;28mself\u001b[39m\u001b[38;5;241m.\u001b[39mmax_epoch:\n\u001b[1;32m    203\u001b[0m         rank1 \u001b[38;5;241m=\u001b[39m \u001b[38;5;28mself\u001b[39m\u001b[38;5;241m.\u001b[39mtest(\n\u001b[1;32m    204\u001b[0m             dist_metric\u001b[38;5;241m=\u001b[39mdist_metric,\n\u001b[1;32m    205\u001b[0m             normalize_feature\u001b[38;5;241m=\u001b[39mnormalize_feature,\n\u001b[0;32m   (...)\u001b[0m\n\u001b[1;32m    210\u001b[0m             ranks\u001b[38;5;241m=\u001b[39mranks\n\u001b[1;32m    211\u001b[0m         )\n",
      "File \u001b[0;32m~/Desktop/Projects/RetailAnalytics/REID/RESEARCH/deep-person-reid/torchreid/engine/engine.py:248\u001b[0m, in \u001b[0;36mEngine.train\u001b[0;34m(self, print_freq, fixbase_epoch, open_layers)\u001b[0m\n\u001b[1;32m    246\u001b[0m \u001b[38;5;28;01mfor\u001b[39;00m \u001b[38;5;28mself\u001b[39m\u001b[38;5;241m.\u001b[39mbatch_idx, data \u001b[38;5;129;01min\u001b[39;00m \u001b[38;5;28menumerate\u001b[39m(tqdm(\u001b[38;5;28mself\u001b[39m\u001b[38;5;241m.\u001b[39mtrain_loader)):\n\u001b[1;32m    247\u001b[0m     data_time\u001b[38;5;241m.\u001b[39mupdate(time\u001b[38;5;241m.\u001b[39mtime() \u001b[38;5;241m-\u001b[39m end)\n\u001b[0;32m--> 248\u001b[0m     loss_summary \u001b[38;5;241m=\u001b[39m \u001b[38;5;28;43mself\u001b[39;49m\u001b[38;5;241;43m.\u001b[39;49m\u001b[43mforward_backward\u001b[49m\u001b[43m(\u001b[49m\u001b[43mdata\u001b[49m\u001b[43m)\u001b[49m\n\u001b[1;32m    249\u001b[0m     batch_time\u001b[38;5;241m.\u001b[39mupdate(time\u001b[38;5;241m.\u001b[39mtime() \u001b[38;5;241m-\u001b[39m end)\n\u001b[1;32m    250\u001b[0m     losses\u001b[38;5;241m.\u001b[39mupdate(loss_summary)\n",
      "File \u001b[0;32m~/Desktop/Projects/RetailAnalytics/REID/RESEARCH/deep-person-reid/torchreid/engine/image/softmax.py:86\u001b[0m, in \u001b[0;36mImageSoftmaxEngine.forward_backward\u001b[0;34m(self, data)\u001b[0m\n\u001b[1;32m     83\u001b[0m     pids \u001b[38;5;241m=\u001b[39m pids\u001b[38;5;241m.\u001b[39mcuda()\n\u001b[1;32m     85\u001b[0m outputs \u001b[38;5;241m=\u001b[39m \u001b[38;5;28mself\u001b[39m\u001b[38;5;241m.\u001b[39mmodel(imgs)\n\u001b[0;32m---> 86\u001b[0m loss \u001b[38;5;241m=\u001b[39m \u001b[38;5;28;43mself\u001b[39;49m\u001b[38;5;241;43m.\u001b[39;49m\u001b[43mcompute_loss\u001b[49m\u001b[43m(\u001b[49m\u001b[38;5;28;43mself\u001b[39;49m\u001b[38;5;241;43m.\u001b[39;49m\u001b[43mcriterion\u001b[49m\u001b[43m,\u001b[49m\u001b[43m \u001b[49m\u001b[43moutputs\u001b[49m\u001b[43m,\u001b[49m\u001b[43m \u001b[49m\u001b[43mpids\u001b[49m\u001b[43m)\u001b[49m\n\u001b[1;32m     88\u001b[0m \u001b[38;5;28mself\u001b[39m\u001b[38;5;241m.\u001b[39moptimizer\u001b[38;5;241m.\u001b[39mzero_grad()\n\u001b[1;32m     89\u001b[0m loss\u001b[38;5;241m.\u001b[39mbackward()\n",
      "File \u001b[0;32m~/Desktop/Projects/RetailAnalytics/REID/RESEARCH/deep-person-reid/torchreid/engine/engine.py:443\u001b[0m, in \u001b[0;36mEngine.compute_loss\u001b[0;34m(self, criterion, outputs, targets)\u001b[0m\n\u001b[1;32m    441\u001b[0m \u001b[38;5;28;01mdef\u001b[39;00m \u001b[38;5;21mcompute_loss\u001b[39m(\u001b[38;5;28mself\u001b[39m, criterion, outputs, targets):\n\u001b[1;32m    442\u001b[0m     \u001b[38;5;28;01mif\u001b[39;00m \u001b[38;5;28misinstance\u001b[39m(outputs, (\u001b[38;5;28mtuple\u001b[39m, \u001b[38;5;28mlist\u001b[39m)):\n\u001b[0;32m--> 443\u001b[0m         loss \u001b[38;5;241m=\u001b[39m \u001b[43mDeepSupervision\u001b[49m\u001b[43m(\u001b[49m\u001b[43mcriterion\u001b[49m\u001b[43m,\u001b[49m\u001b[43m \u001b[49m\u001b[43moutputs\u001b[49m\u001b[43m,\u001b[49m\u001b[43m \u001b[49m\u001b[43mtargets\u001b[49m\u001b[43m)\u001b[49m\n\u001b[1;32m    444\u001b[0m     \u001b[38;5;28;01melse\u001b[39;00m:\n\u001b[1;32m    445\u001b[0m         loss \u001b[38;5;241m=\u001b[39m criterion(outputs, targets)\n",
      "File \u001b[0;32m~/Desktop/Projects/RetailAnalytics/REID/RESEARCH/deep-person-reid/torchreid/losses/__init__.py:19\u001b[0m, in \u001b[0;36mDeepSupervision\u001b[0;34m(criterion, xs, y)\u001b[0m\n\u001b[1;32m     17\u001b[0m loss \u001b[38;5;241m=\u001b[39m \u001b[38;5;241m0.\u001b[39m\n\u001b[1;32m     18\u001b[0m \u001b[38;5;28;01mfor\u001b[39;00m x \u001b[38;5;129;01min\u001b[39;00m xs:\n\u001b[0;32m---> 19\u001b[0m     loss \u001b[38;5;241m+\u001b[39m\u001b[38;5;241m=\u001b[39m \u001b[43mcriterion\u001b[49m\u001b[43m(\u001b[49m\u001b[43mx\u001b[49m\u001b[43m,\u001b[49m\u001b[43m \u001b[49m\u001b[43my\u001b[49m\u001b[43m)\u001b[49m\n\u001b[1;32m     20\u001b[0m loss \u001b[38;5;241m/\u001b[39m\u001b[38;5;241m=\u001b[39m \u001b[38;5;28mlen\u001b[39m(xs)\n\u001b[1;32m     21\u001b[0m \u001b[38;5;28;01mreturn\u001b[39;00m loss\n",
      "File \u001b[0;32m~/anaconda3/envs/torchreid/lib/python3.10/site-packages/torch/nn/modules/module.py:1501\u001b[0m, in \u001b[0;36mModule._call_impl\u001b[0;34m(self, *args, **kwargs)\u001b[0m\n\u001b[1;32m   1496\u001b[0m \u001b[38;5;66;03m# If we don't have any hooks, we want to skip the rest of the logic in\u001b[39;00m\n\u001b[1;32m   1497\u001b[0m \u001b[38;5;66;03m# this function, and just call forward.\u001b[39;00m\n\u001b[1;32m   1498\u001b[0m \u001b[38;5;28;01mif\u001b[39;00m \u001b[38;5;129;01mnot\u001b[39;00m (\u001b[38;5;28mself\u001b[39m\u001b[38;5;241m.\u001b[39m_backward_hooks \u001b[38;5;129;01mor\u001b[39;00m \u001b[38;5;28mself\u001b[39m\u001b[38;5;241m.\u001b[39m_backward_pre_hooks \u001b[38;5;129;01mor\u001b[39;00m \u001b[38;5;28mself\u001b[39m\u001b[38;5;241m.\u001b[39m_forward_hooks \u001b[38;5;129;01mor\u001b[39;00m \u001b[38;5;28mself\u001b[39m\u001b[38;5;241m.\u001b[39m_forward_pre_hooks\n\u001b[1;32m   1499\u001b[0m         \u001b[38;5;129;01mor\u001b[39;00m _global_backward_pre_hooks \u001b[38;5;129;01mor\u001b[39;00m _global_backward_hooks\n\u001b[1;32m   1500\u001b[0m         \u001b[38;5;129;01mor\u001b[39;00m _global_forward_hooks \u001b[38;5;129;01mor\u001b[39;00m _global_forward_pre_hooks):\n\u001b[0;32m-> 1501\u001b[0m     \u001b[38;5;28;01mreturn\u001b[39;00m \u001b[43mforward_call\u001b[49m\u001b[43m(\u001b[49m\u001b[38;5;241;43m*\u001b[39;49m\u001b[43margs\u001b[49m\u001b[43m,\u001b[49m\u001b[43m \u001b[49m\u001b[38;5;241;43m*\u001b[39;49m\u001b[38;5;241;43m*\u001b[39;49m\u001b[43mkwargs\u001b[49m\u001b[43m)\u001b[49m\n\u001b[1;32m   1502\u001b[0m \u001b[38;5;66;03m# Do not call functions when jit is used\u001b[39;00m\n\u001b[1;32m   1503\u001b[0m full_backward_hooks, non_full_backward_hooks \u001b[38;5;241m=\u001b[39m [], []\n",
      "File \u001b[0;32m~/Desktop/Projects/RetailAnalytics/REID/RESEARCH/deep-person-reid/torchreid/losses/cross_entropy_loss.py:46\u001b[0m, in \u001b[0;36mCrossEntropyLoss.forward\u001b[0;34m(self, inputs, targets)\u001b[0m\n\u001b[1;32m     44\u001b[0m log_probs \u001b[38;5;241m=\u001b[39m \u001b[38;5;28mself\u001b[39m\u001b[38;5;241m.\u001b[39mlogsoftmax(inputs)\n\u001b[1;32m     45\u001b[0m zeros \u001b[38;5;241m=\u001b[39m torch\u001b[38;5;241m.\u001b[39mzeros(log_probs\u001b[38;5;241m.\u001b[39msize())\n\u001b[0;32m---> 46\u001b[0m targets \u001b[38;5;241m=\u001b[39m zeros\u001b[38;5;241m.\u001b[39mscatter_(\u001b[38;5;241m1\u001b[39m, \u001b[43mtargets\u001b[49m\u001b[38;5;241;43m.\u001b[39;49m\u001b[43munsqueeze\u001b[49m\u001b[43m(\u001b[49m\u001b[38;5;241;43m1\u001b[39;49m\u001b[43m)\u001b[49m\u001b[38;5;241;43m.\u001b[39;49m\u001b[43mdata\u001b[49m\u001b[38;5;241;43m.\u001b[39;49m\u001b[43mcpu\u001b[49m\u001b[43m(\u001b[49m\u001b[43m)\u001b[49m, \u001b[38;5;241m1\u001b[39m)\n\u001b[1;32m     47\u001b[0m \u001b[38;5;28;01mif\u001b[39;00m \u001b[38;5;28mself\u001b[39m\u001b[38;5;241m.\u001b[39muse_gpu:\n\u001b[1;32m     48\u001b[0m     targets \u001b[38;5;241m=\u001b[39m targets\u001b[38;5;241m.\u001b[39mcuda()\n",
      "\u001b[0;31mKeyboardInterrupt\u001b[0m: "
     ]
    }
   ],
   "source": [
    "engine.run(\n",
    "    save_dir=f\"log/{model_name}_{dataset_name}\",\n",
    "    max_epoch=60,\n",
    "    eval_freq=5,\n",
    "    print_freq=50,\n",
    "    test_only=False,\n",
    "    visrank=False,\n",
    "    eval_metric='default'\n",
    ")"
   ]
  },
  {
   "cell_type": "code",
   "execution_count": null,
   "id": "baa17493",
   "metadata": {},
   "outputs": [],
   "source": []
  }
 ],
 "metadata": {
  "kernelspec": {
   "display_name": "Python 3 (ipykernel)",
   "language": "python",
   "name": "python3"
  },
  "language_info": {
   "codemirror_mode": {
    "name": "ipython",
    "version": 3
   },
   "file_extension": ".py",
   "mimetype": "text/x-python",
   "name": "python",
   "nbconvert_exporter": "python",
   "pygments_lexer": "ipython3",
   "version": "3.10.14"
  }
 },
 "nbformat": 4,
 "nbformat_minor": 5
}
